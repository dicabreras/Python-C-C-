{
  "nbformat": 4,
  "nbformat_minor": 0,
  "metadata": {
    "colab": {
      "provenance": [],
      "include_colab_link": true
    },
    "kernelspec": {
      "name": "python3",
      "display_name": "Python 3"
    }
  },
  "cells": [
    {
      "cell_type": "markdown",
      "metadata": {
        "id": "view-in-github",
        "colab_type": "text"
      },
      "source": [
        "<a href=\"https://colab.research.google.com/github/dicabreras/Python-C-C-/blob/main/Copia_de_Copia_de_11_12_Estructuras_de_control_iterativas_2.ipynb\" target=\"_parent\"><img src=\"https://colab.research.google.com/assets/colab-badge.svg\" alt=\"Open In Colab\"/></a>"
      ]
    },
    {
      "cell_type": "markdown",
      "metadata": {
        "id": "5pTIxKwBt1eP"
      },
      "source": [
        "# Estructuras de control iterativas: Parte 2\n",
        "Este material fue tomado y adaptado del libro How to Think Like a Computer Scientist: Learning with Python 3, Capítulo 7 (versión en ingles) y Capítulo 6 (versión en español)\n",
        "\n",
        "*   http://www.ict.ru.ac.za/Resources/cspw/thinkcspy3/thinkcspy3.pdf\n",
        "*   https://argentinaenpython.com/quiero-aprender-python/aprenda-a-pensar-como-un-programador-con-python.pdf\n",
        "*   http://interactivepython.org/courselib/static/thinkcspy/index.html\n",
        "\n",
        "## Copyright Notice\n",
        "Copyright (C) Brad Miller, David Ranum, Jeffrey Elkner, Peter Wentworth, Allen B. Downey, Chris\n",
        "Meyers, and Dario Mitchell. Permission is granted to copy, distribute\n",
        "and/or modify this document under the terms of the GNU Free Documentation\n",
        "License, Version 1.3 or any later version published by the Free Software\n",
        "Foundation; with Invariant Sections being Forward, Prefaces, and\n",
        "Contributor List, no Front-Cover Texts, and no Back-Cover Texts. A copy of\n",
        "the license is included in the section entitled “GNU Free Documentation\n",
        "License”.\n"
      ]
    },
    {
      "cell_type": "markdown",
      "metadata": {
        "id": "cfLM64UmuFD6"
      },
      "source": [
        "**Nota:** Ejecutar el siguiente código para garantizar el funcionamiento correcto del notebook"
      ]
    },
    {
      "cell_type": "code",
      "metadata": {
        "id": "y4tQHAQwttVo",
        "colab": {
          "base_uri": "https://localhost:8080/",
          "height": 741
        },
        "outputId": "0e7582ac-291b-4b44-dbee-4647ebb4ca84"
      },
      "source": [
        "%pip install tutormagic\n",
        "%load_ext tutormagic"
      ],
      "execution_count": null,
      "outputs": [
        {
          "output_type": "stream",
          "text": [
            "Collecting tutormagic\n",
            "  Downloading https://files.pythonhosted.org/packages/26/4c/170e56dce3ecbf0608f37b3b99100bd2666cac181da14bc685516e958435/tutormagic-0.3.0-py2.py3-none-any.whl\n",
            "Requirement already satisfied: notebook>=3.0 in /usr/local/lib/python3.6/dist-packages (from tutormagic) (5.3.1)\n",
            "Requirement already satisfied: jupyter-client>=5.2.0 in /usr/local/lib/python3.6/dist-packages (from notebook>=3.0->tutormagic) (5.3.5)\n",
            "Requirement already satisfied: ipython-genutils in /usr/local/lib/python3.6/dist-packages (from notebook>=3.0->tutormagic) (0.2.0)\n",
            "Requirement already satisfied: Send2Trash in /usr/local/lib/python3.6/dist-packages (from notebook>=3.0->tutormagic) (1.5.0)\n",
            "Requirement already satisfied: terminado>=0.8.1 in /usr/local/lib/python3.6/dist-packages (from notebook>=3.0->tutormagic) (0.8.3)\n",
            "Requirement already satisfied: tornado>=4 in /usr/local/lib/python3.6/dist-packages (from notebook>=3.0->tutormagic) (5.1.1)\n",
            "Requirement already satisfied: nbformat in /usr/local/lib/python3.6/dist-packages (from notebook>=3.0->tutormagic) (5.0.7)\n",
            "Requirement already satisfied: jupyter-core>=4.4.0 in /usr/local/lib/python3.6/dist-packages (from notebook>=3.0->tutormagic) (4.6.3)\n",
            "Requirement already satisfied: jinja2 in /usr/local/lib/python3.6/dist-packages (from notebook>=3.0->tutormagic) (2.11.2)\n",
            "Requirement already satisfied: ipykernel in /usr/local/lib/python3.6/dist-packages (from notebook>=3.0->tutormagic) (4.10.1)\n",
            "Requirement already satisfied: nbconvert in /usr/local/lib/python3.6/dist-packages (from notebook>=3.0->tutormagic) (5.6.1)\n",
            "Requirement already satisfied: traitlets>=4.2.1 in /usr/local/lib/python3.6/dist-packages (from notebook>=3.0->tutormagic) (4.3.3)\n",
            "Requirement already satisfied: python-dateutil>=2.1 in /usr/local/lib/python3.6/dist-packages (from jupyter-client>=5.2.0->notebook>=3.0->tutormagic) (2.8.1)\n",
            "Requirement already satisfied: pyzmq>=13 in /usr/local/lib/python3.6/dist-packages (from jupyter-client>=5.2.0->notebook>=3.0->tutormagic) (19.0.2)\n",
            "Requirement already satisfied: ptyprocess; os_name != \"nt\" in /usr/local/lib/python3.6/dist-packages (from terminado>=0.8.1->notebook>=3.0->tutormagic) (0.6.0)\n",
            "Requirement already satisfied: jsonschema!=2.5.0,>=2.4 in /usr/local/lib/python3.6/dist-packages (from nbformat->notebook>=3.0->tutormagic) (2.6.0)\n",
            "Requirement already satisfied: MarkupSafe>=0.23 in /usr/local/lib/python3.6/dist-packages (from jinja2->notebook>=3.0->tutormagic) (1.1.1)\n",
            "Requirement already satisfied: ipython>=4.0.0 in /usr/local/lib/python3.6/dist-packages (from ipykernel->notebook>=3.0->tutormagic) (5.5.0)\n",
            "Requirement already satisfied: pandocfilters>=1.4.1 in /usr/local/lib/python3.6/dist-packages (from nbconvert->notebook>=3.0->tutormagic) (1.4.2)\n",
            "Requirement already satisfied: defusedxml in /usr/local/lib/python3.6/dist-packages (from nbconvert->notebook>=3.0->tutormagic) (0.6.0)\n",
            "Requirement already satisfied: mistune<2,>=0.8.1 in /usr/local/lib/python3.6/dist-packages (from nbconvert->notebook>=3.0->tutormagic) (0.8.4)\n",
            "Requirement already satisfied: testpath in /usr/local/lib/python3.6/dist-packages (from nbconvert->notebook>=3.0->tutormagic) (0.4.4)\n",
            "Requirement already satisfied: entrypoints>=0.2.2 in /usr/local/lib/python3.6/dist-packages (from nbconvert->notebook>=3.0->tutormagic) (0.3)\n",
            "Requirement already satisfied: pygments in /usr/local/lib/python3.6/dist-packages (from nbconvert->notebook>=3.0->tutormagic) (2.6.1)\n",
            "Requirement already satisfied: bleach in /usr/local/lib/python3.6/dist-packages (from nbconvert->notebook>=3.0->tutormagic) (3.2.0)\n",
            "Requirement already satisfied: decorator in /usr/local/lib/python3.6/dist-packages (from traitlets>=4.2.1->notebook>=3.0->tutormagic) (4.4.2)\n",
            "Requirement already satisfied: six in /usr/local/lib/python3.6/dist-packages (from traitlets>=4.2.1->notebook>=3.0->tutormagic) (1.15.0)\n",
            "Requirement already satisfied: setuptools>=18.5 in /usr/local/lib/python3.6/dist-packages (from ipython>=4.0.0->ipykernel->notebook>=3.0->tutormagic) (50.3.0)\n",
            "Requirement already satisfied: simplegeneric>0.8 in /usr/local/lib/python3.6/dist-packages (from ipython>=4.0.0->ipykernel->notebook>=3.0->tutormagic) (0.8.1)\n",
            "Requirement already satisfied: pexpect; sys_platform != \"win32\" in /usr/local/lib/python3.6/dist-packages (from ipython>=4.0.0->ipykernel->notebook>=3.0->tutormagic) (4.8.0)\n",
            "Requirement already satisfied: pickleshare in /usr/local/lib/python3.6/dist-packages (from ipython>=4.0.0->ipykernel->notebook>=3.0->tutormagic) (0.7.5)\n",
            "Requirement already satisfied: prompt-toolkit<2.0.0,>=1.0.4 in /usr/local/lib/python3.6/dist-packages (from ipython>=4.0.0->ipykernel->notebook>=3.0->tutormagic) (1.0.18)\n",
            "Requirement already satisfied: packaging in /usr/local/lib/python3.6/dist-packages (from bleach->nbconvert->notebook>=3.0->tutormagic) (20.4)\n",
            "Requirement already satisfied: webencodings in /usr/local/lib/python3.6/dist-packages (from bleach->nbconvert->notebook>=3.0->tutormagic) (0.5.1)\n",
            "Requirement already satisfied: wcwidth in /usr/local/lib/python3.6/dist-packages (from prompt-toolkit<2.0.0,>=1.0.4->ipython>=4.0.0->ipykernel->notebook>=3.0->tutormagic) (0.2.5)\n",
            "Requirement already satisfied: pyparsing>=2.0.2 in /usr/local/lib/python3.6/dist-packages (from packaging->bleach->nbconvert->notebook>=3.0->tutormagic) (2.4.7)\n",
            "Installing collected packages: tutormagic\n",
            "Successfully installed tutormagic-0.3.0\n"
          ],
          "name": "stdout"
        }
      ]
    },
    {
      "cell_type": "markdown",
      "metadata": {
        "id": "Jz9Rnsfm4wrd"
      },
      "source": [
        "## 1. Más operaciones sobre cadenas de caracteres\n",
        "Las cadenas de caracteres (o strings), tienen una longitud exacta, la cual es la cantidad de caracteres que almacena, y cada caracter tiene una posición exacta.\n",
        "\n",
        "Por ejemplo: si nuestra cadena es \"hola mundo\", la primera posición es 'h', la segunda es 'o', la tercera es 'l', la cuarta es 'a', la quinta es ' '(espacio), la sexta es 'm', y así sucesivamente.\n",
        "\n",
        "Como se puede notar en el ejemplo anterior, los caracteres no visibles (como los espacios (' '), los tabulaciones ('\\t') y salto de línea ('\\n') ), también ocupan un espacio.\n",
        "\n",
        "Para saber la longitud de una cadena, podemos usar la función `len()`\n"
      ]
    },
    {
      "cell_type": "code",
      "metadata": {
        "id": "nljDC9IF80pG",
        "colab": {
          "base_uri": "https://localhost:8080/"
        },
        "outputId": "0bcc6894-0beb-4b50-e2a4-398d76d7f152"
      },
      "source": [
        "s = \"Este es una cadena (string)\"\n",
        "print(\"La cadena \\\"{}\\\" tiene {} caracteres\".format(s, len(s)))"
      ],
      "execution_count": null,
      "outputs": [
        {
          "output_type": "stream",
          "name": "stdout",
          "text": [
            "La cadena \"Este es una cadena (string)\" tiene 27 caracteres\n"
          ]
        }
      ]
    },
    {
      "cell_type": "code",
      "metadata": {
        "id": "RMzgbQ6-5UQ5",
        "colab": {
          "base_uri": "https://localhost:8080/"
        },
        "outputId": "885e6b0a-dd5f-4688-9b38-a38b62d771e1"
      },
      "source": [
        "s = \"Los espacios tambien ocupan posiciones\"\n",
        "print(\"La cadena \\\"{}\\\" tiene {} caracteres\".format(s, len(s)))\n",
        "s = \"Los      espacios      tambien      ocupan     posiciones\"\n",
        "print(\"La cadena \\\"{}\\\" tiene {} caracteres\".format(s,len(s)))"
      ],
      "execution_count": null,
      "outputs": [
        {
          "output_type": "stream",
          "name": "stdout",
          "text": [
            "La cadena \"Los espacios tambien ocupan posiciones\" tiene 38 caracteres\n",
            "La cadena \"Los      espacios      tambien      ocupan     posiciones\" tiene 57 caracteres\n"
          ]
        }
      ]
    },
    {
      "cell_type": "markdown",
      "metadata": {
        "id": "GCFRoA6e9ryA"
      },
      "source": [
        "Para obtener el caracter ubicado en la posición $x$, usamos paréntesis cuadrados (corchetes) seguidos del nombre de la variable que almacena una cadena:"
      ]
    },
    {
      "cell_type": "code",
      "metadata": {
        "id": "u1MLYcFW_FQm",
        "colab": {
          "base_uri": "https://localhost:8080/"
        },
        "outputId": "6fc277d3-e194-49ab-884e-035e3838da23"
      },
      "source": [
        "alfabeto = \"abcdefghijklmnopqrstuvwxyz\"\n",
        "print(len(alfabeto))\n",
        "print(alfabeto[0])\n",
        "print(alfabeto[1])\n",
        "print(alfabeto[2])\n",
        "print(alfabeto[10])\n",
        "print(\"...\")\n",
        "#print(alfabeto[26])\n",
        "\n"
      ],
      "execution_count": null,
      "outputs": [
        {
          "output_type": "stream",
          "name": "stdout",
          "text": [
            "26\n",
            "a\n",
            "b\n",
            "c\n",
            "k\n",
            "...\n"
          ]
        }
      ]
    },
    {
      "cell_type": "code",
      "metadata": {
        "id": "ZNB1hl_1e19F",
        "colab": {
          "base_uri": "https://localhost:8080/"
        },
        "outputId": "28c2881f-27ba-4ba1-daf8-d4b74a5927d6"
      },
      "source": [
        "print(alfabeto[25])"
      ],
      "execution_count": null,
      "outputs": [
        {
          "output_type": "stream",
          "name": "stdout",
          "text": [
            "z\n"
          ]
        }
      ]
    },
    {
      "cell_type": "markdown",
      "metadata": {
        "id": "u6o8TnhU-6jt"
      },
      "source": [
        "Como se puede ver en el ejemplo, las posiciones están **indexadas desde 0**.\n",
        "\n",
        "Con este mismo método, podemos obtener un segmento de nuestra  cadena, también llamada *subcadena*; por ejemplo, si nuestra cadena\n",
        " es `\"abcdefg\"`, una posible subcadena podría ser `\"cde\"`.\n",
        "\n",
        "Hay varias formas de obtener subcadenas:\n",
        "\n",
        "\n",
        "*   Especificando el índice de inicio, y final: [a:b] (desde la posición $a$, hasta la posición $b-1$).\n",
        "*   Especificando el índice de inicio, pero no el de final [a:] (se asume que la subcadena va desde el índice especificado $a$, hasta el final de string), a esta subcadena se le conoce como \"prefijo\"\n",
        "*   Especificando el índice final, pero no el inicial [:b] (se asume que la subcadena va desde el inicio, hasta el índice especificado $b$ menos -1 ), a este substring se le conoce como \"sufijo\"\n"
      ]
    },
    {
      "cell_type": "code",
      "metadata": {
        "id": "Mb9bq3xuA3BT",
        "colab": {
          "base_uri": "https://localhost:8080/"
        },
        "outputId": "2f277058-280e-4c3a-91d5-08de1f6e88fc"
      },
      "source": [
        "texto = \"Este es el inicio, y este es el final =D\"\n",
        "subtext1 = texto[8:27] #substring - incluye el caracter que está en el índice 8 y no incluye el caracter que esté en el índice 27 ('s')\n",
        "subtext2 = texto[:18]   #prefijo\n",
        "subtext3 = texto[19:]   #sufijo\n",
        "print(len(texto))\n",
        "print(subtext1)\n",
        "print(subtext2)\n",
        "print(subtext3)"
      ],
      "execution_count": null,
      "outputs": [
        {
          "output_type": "stream",
          "name": "stdout",
          "text": [
            "40\n",
            "el inicio, y este e\n",
            "Este es el inicio,\n",
            "y este es el final =D\n"
          ]
        }
      ]
    },
    {
      "cell_type": "code",
      "metadata": {
        "id": "MNHLEF7gf2ig",
        "colab": {
          "base_uri": "https://localhost:8080/"
        },
        "outputId": "7008bbd7-87b0-462a-8b86-3b2d11f0fbf2"
      },
      "source": [
        "texto_completo = texto[:]\n",
        "print(texto_completo)"
      ],
      "execution_count": null,
      "outputs": [
        {
          "output_type": "stream",
          "name": "stdout",
          "text": [
            "Este es el inicio, y este es el final =D\n"
          ]
        }
      ]
    },
    {
      "cell_type": "code",
      "metadata": {
        "id": "0SpBJCfn7KjX",
        "colab": {
          "base_uri": "https://localhost:8080/",
          "height": 34
        },
        "outputId": "0b6e896e-85fa-4aeb-a66b-3e8fd9123d51"
      },
      "source": [
        "alfabeto = \"abcdefghijklmnñopqrstuvwxyz\"\n",
        "print(alfabeto[4:10])"
      ],
      "execution_count": null,
      "outputs": [
        {
          "output_type": "stream",
          "text": [
            "efghij\n"
          ],
          "name": "stdout"
        }
      ]
    },
    {
      "cell_type": "markdown",
      "metadata": {
        "id": "YKP6p_oq7VhT"
      },
      "source": [
        "**IMPORTANTE:** En Python, también podemos usar índices con número negativos para acceder a las posiciones de las cadenas. En ese caso, se empezará a contar desde el final de la cadena. Por ejemplo:"
      ]
    },
    {
      "cell_type": "code",
      "metadata": {
        "id": "pfFFYsaZghGK",
        "colab": {
          "base_uri": "https://localhost:8080/"
        },
        "outputId": "f0db72c9-a868-463d-a6a2-e7211819515f"
      },
      "source": [
        "cadena = 'Hola mundo'\n",
        "saludo = cadena[0:4] #[0:b-1]\n",
        "saludo1 = cadena[:4]\n",
        "mundo = cadena[5:]\n",
        "print(saludo, saludo1)\n",
        "print(mundo)"
      ],
      "execution_count": null,
      "outputs": [
        {
          "output_type": "stream",
          "name": "stdout",
          "text": [
            "Hola Hola\n",
            "mundo\n"
          ]
        }
      ]
    },
    {
      "cell_type": "code",
      "metadata": {
        "id": "tux0RIh07rMb",
        "colab": {
          "base_uri": "https://localhost:8080/"
        },
        "outputId": "05b8bd85-98fd-43b5-e60d-fd039633458a"
      },
      "source": [
        "alfabeto = \"abcdefghijklmnñopqrstuvwxyz\"\n",
        "print(alfabeto[-1])"
      ],
      "execution_count": null,
      "outputs": [
        {
          "output_type": "stream",
          "name": "stdout",
          "text": [
            "z\n"
          ]
        }
      ]
    },
    {
      "cell_type": "code",
      "metadata": {
        "id": "XOoqV97i7u8t",
        "colab": {
          "base_uri": "https://localhost:8080/"
        },
        "outputId": "8a714fee-a091-4561-f623-d89364b0fd95"
      },
      "source": [
        "print(alfabeto[-2])"
      ],
      "execution_count": null,
      "outputs": [
        {
          "output_type": "stream",
          "name": "stdout",
          "text": [
            "y\n"
          ]
        }
      ]
    },
    {
      "cell_type": "code",
      "metadata": {
        "id": "hhoKk5uu7yf_",
        "colab": {
          "base_uri": "https://localhost:8080/"
        },
        "outputId": "f783d1be-3a2b-4b6a-cf25-7c6717fded88"
      },
      "source": [
        "print(alfabeto[-5])"
      ],
      "execution_count": null,
      "outputs": [
        {
          "output_type": "stream",
          "name": "stdout",
          "text": [
            "v\n"
          ]
        }
      ]
    },
    {
      "cell_type": "markdown",
      "metadata": {
        "id": "Dln1jpBT77DY"
      },
      "source": [
        "También, podemos usar índices negativos cuando seleccionamos una subcadena:"
      ]
    },
    {
      "cell_type": "code",
      "metadata": {
        "id": "E34Y8UTd8Ai6",
        "colab": {
          "base_uri": "https://localhost:8080/",
          "height": 51
        },
        "outputId": "fa44a6ee-b910-4e4b-a6a9-116c069b96a7"
      },
      "source": [
        "print(alfabeto)\n",
        "print(alfabeto[10:-2]) # sin incluir el caracter que esté en el índice -2 ('y')"
      ],
      "execution_count": null,
      "outputs": [
        {
          "output_type": "stream",
          "text": [
            "abcdefghijklmnñopqrstuvwxyz\n",
            "klmnñopqrstuvwx\n"
          ],
          "name": "stdout"
        }
      ]
    },
    {
      "cell_type": "code",
      "metadata": {
        "id": "OcAfMc1-74e-",
        "colab": {
          "base_uri": "https://localhost:8080/",
          "height": 34
        },
        "outputId": "9761ab77-549a-4159-d6bb-65ecf4775cd6"
      },
      "source": [
        "print(alfabeto[:-10])"
      ],
      "execution_count": null,
      "outputs": [
        {
          "output_type": "stream",
          "text": [
            "abcdefghijklmnñop\n"
          ],
          "name": "stdout"
        }
      ]
    },
    {
      "cell_type": "code",
      "metadata": {
        "id": "NQqsiyS688fJ",
        "colab": {
          "base_uri": "https://localhost:8080/"
        },
        "outputId": "3e5c95c3-8648-4cab-e1c1-ef1ae636252c"
      },
      "source": [
        "alfabeto = \"abcdefghijklmnñopqrstuvwxyz\"\n",
        "print(alfabeto[-10:])"
      ],
      "execution_count": null,
      "outputs": [
        {
          "output_type": "stream",
          "name": "stdout",
          "text": [
            "qrstuvwxyz\n"
          ]
        }
      ]
    },
    {
      "cell_type": "code",
      "metadata": {
        "id": "6A2pPCYRSv2H",
        "colab": {
          "base_uri": "https://localhost:8080/"
        },
        "outputId": "f65db390-9460-448e-e22c-6107f0e403eb"
      },
      "source": [
        "print(alfabeto[-10:-1])"
      ],
      "execution_count": null,
      "outputs": [
        {
          "output_type": "stream",
          "name": "stdout",
          "text": [
            "qrstuvwxy\n"
          ]
        }
      ]
    },
    {
      "cell_type": "markdown",
      "metadata": {
        "id": "gf7voUFyDcim"
      },
      "source": [
        "Además de seleccionar un punto *inicial* y *final* para seleccionar una subcadena, podemos añadir un *paso*. Éste último indica cada cuántos caracteres debo seleccionar. El formato es el siguiente:\n",
        "\n",
        "``cadena[inicio:fin:paso]``\n",
        "* inicio (incluído)\n",
        "* fin (excluído)\n",
        "\n",
        "Valores por defecto:\n",
        "* inicio = 0\n",
        "* fin = longitud cadena\n",
        "* paso = 1 (puede ser negativo para empezar desde el final de la cadena hacia la izquierda)"
      ]
    },
    {
      "cell_type": "code",
      "metadata": {
        "id": "5qgh87v-pM0T",
        "colab": {
          "base_uri": "https://localhost:8080/",
          "height": 34
        },
        "outputId": "ebbdb302-dd79-43f7-882d-387d6f67ecc9"
      },
      "source": [
        "print(alfabeto[0:27:1])"
      ],
      "execution_count": null,
      "outputs": [
        {
          "output_type": "stream",
          "text": [
            "abcdefghijklmnñopqrstuvwxyz\n"
          ],
          "name": "stdout"
        }
      ]
    },
    {
      "cell_type": "code",
      "metadata": {
        "id": "8oeMFF4GDcin",
        "colab": {
          "base_uri": "https://localhost:8080/",
          "height": 34
        },
        "outputId": "4dea1130-1b81-41d8-9da8-bc2195c7ab34"
      },
      "source": [
        "print(alfabeto[0:27:2])"
      ],
      "execution_count": null,
      "outputs": [
        {
          "output_type": "stream",
          "text": [
            "acegikmñprtvxz\n"
          ],
          "name": "stdout"
        }
      ]
    },
    {
      "cell_type": "code",
      "metadata": {
        "id": "gJgq9Y8uDcir",
        "colab": {
          "base_uri": "https://localhost:8080/",
          "height": 34
        },
        "outputId": "48ef9bf1-087d-4d42-ccfb-f8ec5b37d93f"
      },
      "source": [
        "print(alfabeto[0::2])"
      ],
      "execution_count": null,
      "outputs": [
        {
          "output_type": "stream",
          "text": [
            "acegikmñprtvxz\n"
          ],
          "name": "stdout"
        }
      ]
    },
    {
      "cell_type": "code",
      "metadata": {
        "id": "2QYDlWjJDciw",
        "colab": {
          "base_uri": "https://localhost:8080/",
          "height": 34
        },
        "outputId": "99539548-7456-4116-d1a8-d5c654dbcb83"
      },
      "source": [
        "print(alfabeto[::2])"
      ],
      "execution_count": null,
      "outputs": [
        {
          "output_type": "stream",
          "text": [
            "acegikmñprtvxz\n"
          ],
          "name": "stdout"
        }
      ]
    },
    {
      "cell_type": "code",
      "metadata": {
        "id": "mYVMMg8BDci1",
        "colab": {
          "base_uri": "https://localhost:8080/",
          "height": 34
        },
        "outputId": "c4380ccf-818e-4402-aa8d-3a0f4abf8830"
      },
      "source": [
        "print(alfabeto[10::2])"
      ],
      "execution_count": null,
      "outputs": [
        {
          "output_type": "stream",
          "text": [
            "kmñprtvxz\n"
          ],
          "name": "stdout"
        }
      ]
    },
    {
      "cell_type": "code",
      "metadata": {
        "id": "ywta5mhkDci2",
        "colab": {
          "base_uri": "https://localhost:8080/",
          "height": 34
        },
        "outputId": "97b01d46-5d9e-4709-8fef-3f583f0bd2e2"
      },
      "source": [
        "print(alfabeto[::-1])"
      ],
      "execution_count": null,
      "outputs": [
        {
          "output_type": "stream",
          "text": [
            "zyxwvutsrqpoñnmlkjihgfedcba\n"
          ],
          "name": "stdout"
        }
      ]
    },
    {
      "cell_type": "code",
      "metadata": {
        "id": "NqGipjC6Dci4"
      },
      "source": [
        "cad = \"Amor a Roma\" # Cadena \"palíndroma\""
      ],
      "execution_count": null,
      "outputs": []
    },
    {
      "cell_type": "code",
      "metadata": {
        "id": "9k-_kS-0Dci5",
        "colab": {
          "base_uri": "https://localhost:8080/"
        },
        "outputId": "22d5da97-55a5-4d43-e1f5-934a55122173"
      },
      "source": [
        "#cad = cad.lower()\n",
        "#cad = cad.upper()\n",
        "\n",
        "cad2 = cad[::-1]\n",
        "\n",
        "if cad == cad2:\n",
        "    print('cad es palindrome')\n",
        "\n",
        "\n",
        "print(cad[::-1])"
      ],
      "execution_count": null,
      "outputs": [
        {
          "output_type": "stream",
          "name": "stdout",
          "text": [
            "amoR a romA\n"
          ]
        }
      ]
    },
    {
      "cell_type": "code",
      "metadata": {
        "id": "cAmXs1v0Dci7"
      },
      "source": [
        "oculto = \"!XeXjXaXsXnXeXmX XlXeX XnXeX XoXtXlXuXcXoX XyXoXtXsXE\""
      ],
      "execution_count": null,
      "outputs": []
    },
    {
      "cell_type": "code",
      "metadata": {
        "id": "oLkZH5UHDci8",
        "colab": {
          "base_uri": "https://localhost:8080/"
        },
        "outputId": "98114550-9801-4b2f-a134-6a7473755a07"
      },
      "source": [
        "mensaje = oculto[::-2]\n",
        "print(mensaje)"
      ],
      "execution_count": null,
      "outputs": [
        {
          "output_type": "stream",
          "name": "stdout",
          "text": [
            "Estoy oculto en el mensaje!\n"
          ]
        }
      ]
    },
    {
      "cell_type": "markdown",
      "metadata": {
        "id": "TbuQ6y7B2VWA"
      },
      "source": [
        "## 2. La sentencia `for`\n",
        "Al igual que la sentencia `while`, permite hacer tarea repetitivas, la sentencia `for` también permitirá ejecutar tareas iterativas. En Python, los `for` **siempre terminan** (siempre y cuando lo que hagan internamente termine, y no se editen las estructuras en las que se itera).\n",
        "\n",
        "Mientras que `while` se basa en una condición para terminar el ciclo, la sentencia `for` se basa en recorrer un rango, ya sea de números o elementos adyacentes, como los caracteres en una cadena:"
      ]
    },
    {
      "cell_type": "code",
      "metadata": {
        "id": "MZcqORF34J05",
        "colab": {
          "base_uri": "https://localhost:8080/"
        },
        "outputId": "14426b36-d5b2-46e0-e519-8ee083105140"
      },
      "source": [
        "#%%tutor -k -r\n",
        "\n",
        "#for iterador in objeto_iterable:\n",
        "\n",
        "saludo = 'Hola mundo'\n",
        "print(len(saludo))\n",
        "for caracter in saludo[::-1]: #recorriendo la cadena\n",
        "  print(caracter, end= '')"
      ],
      "execution_count": null,
      "outputs": [
        {
          "output_type": "stream",
          "name": "stdout",
          "text": [
            "10\n",
            "odnum aloH"
          ]
        }
      ]
    },
    {
      "cell_type": "markdown",
      "metadata": {
        "id": "v_KtEchrEQvB"
      },
      "source": [
        "De igual forma, se puede iterar por cada letra en una subcadena:"
      ]
    },
    {
      "cell_type": "code",
      "metadata": {
        "id": "gtgBv7ZTEV4x",
        "colab": {
          "base_uri": "https://localhost:8080/"
        },
        "outputId": "b6429da2-8412-42ed-9fa2-bdac601345f6"
      },
      "source": [
        "s = \"soy un string iterable\"\n",
        "for caracter in s[7:13]: #for each\n",
        "  print(caracter)\n"
      ],
      "execution_count": null,
      "outputs": [
        {
          "output_type": "stream",
          "name": "stdout",
          "text": [
            "s\n",
            "t\n",
            "r\n",
            "i\n",
            "n\n",
            "g\n"
          ]
        }
      ]
    },
    {
      "cell_type": "code",
      "metadata": {
        "id": "GXpKLEcRlaEa",
        "colab": {
          "base_uri": "https://localhost:8080/"
        },
        "outputId": "b727fe3a-6e8b-4532-b43b-014b5e4cc932"
      },
      "source": [
        "if 'i' in s:\n",
        "  print('i en s')\n",
        "else:\n",
        "  print('i no esta en s')"
      ],
      "execution_count": null,
      "outputs": [
        {
          "output_type": "stream",
          "name": "stdout",
          "text": [
            "i en s\n"
          ]
        }
      ]
    },
    {
      "cell_type": "code",
      "metadata": {
        "id": "83wg9SzcPvte",
        "colab": {
          "base_uri": "https://localhost:8080/"
        },
        "outputId": "e15c4457-5da4-474f-eebf-703f116538d6"
      },
      "source": [
        "cadena1 = 'Hola mundo'\n",
        "cadena2 = 'XXHola mundoXX'\n",
        "if cadena2 in cadena1:\n",
        "  print('Cad2 in cad1')\n",
        "else:\n",
        "  print('Cad2 not in cad1')\n",
        "\n",
        "if cadena1 in cadena2:\n",
        "  print('Cad1 in cad2')\n",
        "else:\n",
        "  print('Cad1 not in cad2')\n",
        "\n",
        "x = 45\n",
        "y = 45\n",
        "\n",
        "if x == y:\n",
        "  print('==')\n",
        "\n",
        "if x is y:\n",
        "  print('is')\n",
        "\n",
        "print(id(x))\n",
        "print(id(y))\n",
        "print(help(id))"
      ],
      "execution_count": null,
      "outputs": [
        {
          "output_type": "stream",
          "name": "stdout",
          "text": [
            "Cad2 not in cad1\n",
            "Cad1 in cad2\n",
            "==\n",
            "is\n",
            "11257472\n",
            "11257472\n",
            "Help on built-in function id in module builtins:\n",
            "\n",
            "id(obj, /)\n",
            "    Return the identity of an object.\n",
            "    \n",
            "    This is guaranteed to be unique among simultaneously existing objects.\n",
            "    (CPython uses the object's memory address.)\n",
            "\n",
            "None\n"
          ]
        }
      ]
    },
    {
      "cell_type": "code",
      "metadata": {
        "id": "jCkPUhSk-1qj",
        "colab": {
          "base_uri": "https://localhost:8080/"
        },
        "outputId": "15c64906-9082-4bee-fc32-588e04b6ec6d"
      },
      "source": [
        "# El mismo programa pero esta vez con while\n",
        "i = 7\n",
        "while i < 13:\n",
        "  caracter = s[i]\n",
        "  print(caracter)\n",
        "  i += 1  # i = i + 1"
      ],
      "execution_count": null,
      "outputs": [
        {
          "output_type": "stream",
          "name": "stdout",
          "text": [
            "s\n",
            "t\n",
            "r\n",
            "i\n",
            "n\n",
            "g\n"
          ]
        }
      ]
    },
    {
      "cell_type": "markdown",
      "metadata": {
        "id": "TFsrcgL6Euiu"
      },
      "source": [
        "## 3. Función `range()`\n",
        "Para poder iterar de forma numérica entre dos valores usando la sentencia `for`, se requiere de esta función.\n",
        "\n",
        "La función range, recibe mínimo 1 parámetro, y máximo 3.\n",
        "\n",
        "En caso de usar sólo 1 parámetro $a$ para `range`, nuestro `for` iterará desde 0 hasta $a-1$, cumpliendo un total de $a$ iteraciones.\n",
        "\n"
      ]
    },
    {
      "cell_type": "code",
      "metadata": {
        "id": "IPH8QshWHVht",
        "colab": {
          "base_uri": "https://localhost:8080/"
        },
        "outputId": "701a2f7e-3c10-4d4b-9f7c-eb1200b8317e"
      },
      "source": [
        "#imprimir 5 veces \"hola\"\n",
        "for i in range(5): #[0,1,2,3,4]\n",
        "  print(i)\n",
        "  print(\"hola\")\n"
      ],
      "execution_count": null,
      "outputs": [
        {
          "output_type": "stream",
          "name": "stdout",
          "text": [
            "0\n",
            "hola\n",
            "1\n",
            "hola\n",
            "2\n",
            "hola\n",
            "3\n",
            "hola\n",
            "4\n",
            "hola\n"
          ]
        }
      ]
    },
    {
      "cell_type": "code",
      "metadata": {
        "id": "ohj0xu0qM4lA",
        "colab": {
          "base_uri": "https://localhost:8080/"
        },
        "outputId": "bcdd8ae4-abaf-4a90-f825-2773f595f3c3"
      },
      "source": [
        "#imprimir los valores que toma i\n",
        "for i in range(5):\n",
        "  print(\"i = {}\".format(i))\n"
      ],
      "execution_count": null,
      "outputs": [
        {
          "output_type": "stream",
          "name": "stdout",
          "text": [
            "i = 0\n",
            "i = 1\n",
            "i = 2\n",
            "i = 3\n",
            "i = 4\n"
          ]
        }
      ]
    },
    {
      "cell_type": "markdown",
      "metadata": {
        "id": "370UT9OGKSOb"
      },
      "source": [
        "Para poder iterar desde un valor $a$ distinto de 0, se deben entregar dos parámetros a la función que calcula el rango, `range(a, b)`, y de esta forma se harán $b-a$ iteraciones, empezando en $a$ y terminado en $b-1$.\n",
        "\n",
        "Se debe tener en cuenta que la variable de iteración sólo tomará valores **menores** que $b$, por lo que si $b \\le a$ el ciclo no se ejecutará."
      ]
    },
    {
      "cell_type": "code",
      "metadata": {
        "id": "Hi5yNcgVM7HA",
        "colab": {
          "base_uri": "https://localhost:8080/",
          "height": 102
        },
        "outputId": "3d96faa2-ff7b-49f3-adf5-cb1c25e6cf27"
      },
      "source": [
        "#imprimir 5 veces hola\n",
        "for i in range(2, 7):\n",
        "  print(i, \"hola\")"
      ],
      "execution_count": null,
      "outputs": [
        {
          "output_type": "stream",
          "text": [
            "2 hola\n",
            "3 hola\n",
            "4 hola\n",
            "5 hola\n",
            "6 hola\n"
          ],
          "name": "stdout"
        }
      ]
    },
    {
      "cell_type": "code",
      "metadata": {
        "id": "tulLwxLWKoS0",
        "colab": {
          "base_uri": "https://localhost:8080/",
          "height": 102
        },
        "outputId": "7c847ea2-2fb4-4fdd-8d1a-61b105cbaad8"
      },
      "source": [
        "#imprimir los valores que toma i\n",
        "for i in range(2,7):\n",
        "  print(f\"i = {i}, {i+2}\")"
      ],
      "execution_count": null,
      "outputs": [
        {
          "output_type": "stream",
          "text": [
            "i = 2, 4\n",
            "i = 3, 5\n",
            "i = 4, 6\n",
            "i = 5, 7\n",
            "i = 6, 8\n"
          ],
          "name": "stdout"
        }
      ]
    },
    {
      "cell_type": "code",
      "metadata": {
        "id": "SHanoXZSM-Iz"
      },
      "source": [
        "#no imprime\n",
        "for i in range(100,10): #[]\n",
        "  print(\"a que no me imprimes\")"
      ],
      "execution_count": null,
      "outputs": []
    },
    {
      "cell_type": "markdown",
      "metadata": {
        "id": "Z0huucJhf4GW"
      },
      "source": [
        "**Nota**: una vez se le entrega un valor a la función range(), se guarda una copia del valor, y no es modificado de nuevo por el usuario, y los valores asignados a la variable que itera, a pesar de que pueden ser cambiados, cuando el ciclo vuelve a empezar el valor de dicho iterador regresa a su valor inicial y cambia como debe."
      ]
    },
    {
      "cell_type": "code",
      "metadata": {
        "id": "o_vyieEMf3Sj",
        "colab": {
          "base_uri": "https://localhost:8080/"
        },
        "outputId": "85145c1c-5d14-416e-ed96-8f02b65e9375"
      },
      "source": [
        "#%%tutor -k -r\n",
        "a = 5\n",
        "for i in range(a):\n",
        "  print(\"La variable i vale {} al comienzo del ciclo\".format(i))\n",
        "  a = 100 # modificamos lo que en teoría es el valor final del for\n",
        "  print(\"El valor que se le entregó a la función range cambia a {}\".format(a))\n",
        "  i = 0   # modificamos la variable con la que itera el ciclo\n",
        "  print(\"La variable i ahora vale {}\".format(i))\n",
        ""
      ],
      "execution_count": null,
      "outputs": [
        {
          "output_type": "stream",
          "name": "stdout",
          "text": [
            "La variable i vale 0 al comienzo del ciclo\n",
            "El valor que se le entregó a la función range cambia a 100\n",
            "La variable i ahora vale 0\n",
            "La variable i vale 1 al comienzo del ciclo\n",
            "El valor que se le entregó a la función range cambia a 100\n",
            "La variable i ahora vale 0\n",
            "La variable i vale 2 al comienzo del ciclo\n",
            "El valor que se le entregó a la función range cambia a 100\n",
            "La variable i ahora vale 0\n",
            "La variable i vale 3 al comienzo del ciclo\n",
            "El valor que se le entregó a la función range cambia a 100\n",
            "La variable i ahora vale 0\n",
            "La variable i vale 4 al comienzo del ciclo\n",
            "El valor que se le entregó a la función range cambia a 100\n",
            "La variable i ahora vale 0\n"
          ]
        }
      ]
    },
    {
      "cell_type": "markdown",
      "metadata": {
        "id": "s7BP0DMWLue2"
      },
      "source": [
        "Si quisieramos iterar en pasos distintos a 1 como se ha hecho en los ejemplos anteriores, tendríamos que entregar un tercer parámetro $c$.\n",
        "\n",
        "Este último parámetro, hará que cada vez que se cumpla un cliclo, el cambio en la variable de iteración, será $c$.\n",
        "\n",
        "En caso de que el valor de $c$ sea negativo, los límites creados por $a$ y $b$ cambiarán, de tal forma que el iterador comenzará en $a$, pero sólo tomará valores que sean **mayores** que $b$.\n",
        "\n"
      ]
    },
    {
      "cell_type": "code",
      "metadata": {
        "id": "BflQkV4_NAjs",
        "colab": {
          "base_uri": "https://localhost:8080/",
          "height": 204
        },
        "outputId": "f6bb87e7-489a-4b14-bbce-c4f78a300689"
      },
      "source": [
        "#imprimir los valores que toma i\n",
        "for i in range(0, 99, 10):\n",
        "  print(\"i = {}\".format(i))\n",
        "print(\"Fin del ciclo for\")\n",
        "\n"
      ],
      "execution_count": null,
      "outputs": [
        {
          "output_type": "stream",
          "text": [
            "i = 0\n",
            "i = 10\n",
            "i = 20\n",
            "i = 30\n",
            "i = 40\n",
            "i = 50\n",
            "i = 60\n",
            "i = 70\n",
            "i = 80\n",
            "i = 90\n",
            "Fin del ciclo for\n"
          ],
          "name": "stdout"
        }
      ]
    },
    {
      "cell_type": "code",
      "metadata": {
        "id": "hHfuAa00VwBU",
        "colab": {
          "base_uri": "https://localhost:8080/",
          "height": 204
        },
        "outputId": "93bc9168-4ca0-43ad-9d9a-1df0029d07e7"
      },
      "source": [
        "i=0\n",
        "while i<99:\n",
        "  print(\"i = {}\".format(i))\n",
        "  i += 10\n",
        "print(\"Fin del ciclo for\")\n"
      ],
      "execution_count": null,
      "outputs": [
        {
          "output_type": "stream",
          "text": [
            "i = 0\n",
            "i = 10\n",
            "i = 20\n",
            "i = 30\n",
            "i = 40\n",
            "i = 50\n",
            "i = 60\n",
            "i = 70\n",
            "i = 80\n",
            "i = 90\n",
            "Fin del ciclo for\n"
          ],
          "name": "stdout"
        }
      ]
    },
    {
      "cell_type": "code",
      "metadata": {
        "id": "ldU4UWBmKtDL",
        "colab": {
          "base_uri": "https://localhost:8080/"
        },
        "outputId": "78a4a34a-a741-470f-c5de-ca60ecce24cd"
      },
      "source": [
        "#si imprime\n",
        "for i in range(100, 1, -10):\n",
        "  print(\"ahora si me imprimes, i = {}\".format(i))"
      ],
      "execution_count": null,
      "outputs": [
        {
          "output_type": "stream",
          "name": "stdout",
          "text": [
            "ahora si me imprimes, i = 100\n",
            "ahora si me imprimes, i = 90\n",
            "ahora si me imprimes, i = 80\n",
            "ahora si me imprimes, i = 70\n",
            "ahora si me imprimes, i = 60\n",
            "ahora si me imprimes, i = 50\n",
            "ahora si me imprimes, i = 40\n",
            "ahora si me imprimes, i = 30\n",
            "ahora si me imprimes, i = 20\n",
            "ahora si me imprimes, i = 10\n"
          ]
        }
      ]
    },
    {
      "cell_type": "code",
      "metadata": {
        "id": "MExqPoeCV8CB",
        "colab": {
          "base_uri": "https://localhost:8080/"
        },
        "outputId": "9831015f-199c-46bd-a115-061c78cc7309"
      },
      "source": [
        "i = 100\n",
        "while i > 1:\n",
        "  print(\"ahora si me imprimes i = {}\".format(i))\n",
        "  i = i - 10"
      ],
      "execution_count": null,
      "outputs": [
        {
          "output_type": "stream",
          "name": "stdout",
          "text": [
            "ahora si me imprimes i = 100\n",
            "ahora si me imprimes i = 90\n",
            "ahora si me imprimes i = 80\n",
            "ahora si me imprimes i = 70\n",
            "ahora si me imprimes i = 60\n",
            "ahora si me imprimes i = 50\n",
            "ahora si me imprimes i = 40\n",
            "ahora si me imprimes i = 30\n",
            "ahora si me imprimes i = 20\n",
            "ahora si me imprimes i = 10\n"
          ]
        }
      ]
    },
    {
      "cell_type": "code",
      "metadata": {
        "id": "8kAna96WNAmk"
      },
      "source": [
        "#no imprime\n",
        "for i in range(10,100,-1):\n",
        "  print(\"a que tampoco me imprimes\")"
      ],
      "execution_count": null,
      "outputs": []
    },
    {
      "cell_type": "markdown",
      "metadata": {
        "id": "2prFPUYeQ6Gq"
      },
      "source": [
        "## 4. Tablas\n",
        "Al igual que con `while`, podemos generar tablas, aunque de una forma más compacta:"
      ]
    },
    {
      "cell_type": "code",
      "metadata": {
        "id": "jw65wnT7UtY6",
        "colab": {
          "base_uri": "https://localhost:8080/"
        },
        "outputId": "1d4473e1-24ba-4aa9-905d-6f4c50df9249"
      },
      "source": [
        "#tabla con While\n",
        "print(\"n\", '\\t', \"2**n\")\n",
        "print(\"---\", '\\t', \"-----\")\n",
        "x = 0\n",
        "while x < 13:\n",
        "  print(x, '\\t', 2 ** x)\n",
        "  x += 1"
      ],
      "execution_count": null,
      "outputs": [
        {
          "output_type": "stream",
          "name": "stdout",
          "text": [
            "n \t 2**n\n",
            "--- \t -----\n",
            "0 \t 1\n",
            "1 \t 2\n",
            "2 \t 4\n",
            "3 \t 8\n",
            "4 \t 16\n",
            "5 \t 32\n",
            "6 \t 64\n",
            "7 \t 128\n",
            "8 \t 256\n",
            "9 \t 512\n",
            "10 \t 1024\n",
            "11 \t 2048\n",
            "12 \t 4096\n"
          ]
        }
      ]
    },
    {
      "cell_type": "code",
      "metadata": {
        "id": "DjDKQ4iZUv49",
        "colab": {
          "base_uri": "https://localhost:8080/"
        },
        "outputId": "8aa48fbb-ab63-47ca-a894-d9a3b815a747"
      },
      "source": [
        "#tabla con for\n",
        "#%%tutor -k -r\n",
        "print(\"n\", '\\t', \"2**n\")\n",
        "print(\"---\", '\\t', \"-----\")\n",
        "for i in range(13):\n",
        "  print(i, '\\t', 2 ** i)\n",
        "\n",
        ""
      ],
      "execution_count": null,
      "outputs": [
        {
          "output_type": "stream",
          "name": "stdout",
          "text": [
            "n \t 2**n\n",
            "--- \t -----\n",
            "0 \t 1\n",
            "1 \t 2\n",
            "2 \t 4\n",
            "3 \t 8\n",
            "4 \t 16\n",
            "5 \t 32\n",
            "6 \t 64\n",
            "7 \t 128\n",
            "8 \t 256\n",
            "9 \t 512\n",
            "10 \t 1024\n",
            "11 \t 2048\n",
            "12 \t 4096\n"
          ]
        }
      ]
    },
    {
      "cell_type": "code",
      "metadata": {
        "id": "QL4OH69FVOA6",
        "colab": {
          "base_uri": "https://localhost:8080/"
        },
        "outputId": "f2df5479-e4f9-40d8-a06d-628e8d06b030"
      },
      "source": [
        "#%%tutor -k -r\n",
        "fila = 1\n",
        "while fila <= 5:\n",
        "  columna = 1\n",
        "  while columna <= 10:\n",
        "    print(fila * columna, '\\t', end='')\n",
        "    columna = columna + 1\n",
        "  print()\n",
        "  fila = fila + 1"
      ],
      "execution_count": null,
      "outputs": [
        {
          "output_type": "stream",
          "name": "stdout",
          "text": [
            "1 \t2 \t3 \t4 \t5 \t6 \t7 \t8 \t9 \t10 \t\n",
            "2 \t4 \t6 \t8 \t10 \t12 \t14 \t16 \t18 \t20 \t\n",
            "3 \t6 \t9 \t12 \t15 \t18 \t21 \t24 \t27 \t30 \t\n",
            "4 \t8 \t12 \t16 \t20 \t24 \t28 \t32 \t36 \t40 \t\n",
            "5 \t10 \t15 \t20 \t25 \t30 \t35 \t40 \t45 \t50 \t\n"
          ]
        }
      ]
    },
    {
      "cell_type": "code",
      "metadata": {
        "id": "CaeAG2fZVOnQ",
        "colab": {
          "base_uri": "https://localhost:8080/"
        },
        "outputId": "c3285c3b-de34-4312-904e-b5c2b3a1af0f"
      },
      "source": [
        "#%%tutor -k -r\n",
        "veces = 0\n",
        "for fila in range(1,6): #[1,2,...,5]\n",
        "  for columna in range(1,11): #[1,2,...,10]\n",
        "    print(fila * columna, '\\t', end='')\n",
        "    veces += 1\n",
        "  print()\n",
        "print('veces= ', veces)\n",
        "print(\"Fin\")\n",
        "\n"
      ],
      "execution_count": null,
      "outputs": [
        {
          "output_type": "stream",
          "name": "stdout",
          "text": [
            "1 \t2 \t3 \t4 \t5 \t6 \t7 \t8 \t9 \t10 \t\n",
            "2 \t4 \t6 \t8 \t10 \t12 \t14 \t16 \t18 \t20 \t\n",
            "3 \t6 \t9 \t12 \t15 \t18 \t21 \t24 \t27 \t30 \t\n",
            "4 \t8 \t12 \t16 \t20 \t24 \t28 \t32 \t36 \t40 \t\n",
            "5 \t10 \t15 \t20 \t25 \t30 \t35 \t40 \t45 \t50 \t\n",
            "veces=  50\n",
            "Fin\n"
          ]
        }
      ]
    },
    {
      "cell_type": "markdown",
      "metadata": {
        "id": "nojAszhoWFhP"
      },
      "source": [
        "##5. Usos de `for`: todos las posibles subcadenas de una cadena\n"
      ]
    },
    {
      "cell_type": "markdown",
      "metadata": {
        "id": "-46XqiN_XsZ-"
      },
      "source": [
        "Si queremos obtener todas las posibles subcadenas de alguna cadena, primero tenemos que definir una estrategia:\n",
        "Idealmente queremos definir un orden para generar las subcadenas, o de otra forma, será muy dificil mantener registro de qué se ha hecho, y qué no.\n",
        "Un posible orden de todas las subcadenas podría ser el siguente: generar todos los posibles prefijos de la cadena, y luego eliminar la primera letra, y volver a obtener todos los prefijos, y así sucesivamente.\n",
        "\n",
        "El pseudocódigo se vería así:\n",
        "\n",
        "```\n",
        "Mientras la cadena no esté vacía:\n",
        "    para cada i desde 0 hasta el tamaño de la cadena:\n",
        "        imprimir (s[:i])\n",
        "    Eliminar la primera letra de la cadena\n",
        "\n",
        "```\n",
        "\n",
        "\n",
        "Y nuestro código en python se vería así:"
      ]
    },
    {
      "cell_type": "code",
      "metadata": {
        "id": "cayOV7-ScZst",
        "colab": {
          "base_uri": "https://localhost:8080/"
        },
        "outputId": "90b1f6fc-77cf-40fa-e3e9-c299d68544f3"
      },
      "source": [
        "#%%tutor -k -r\n",
        "s = \"programa\"\n",
        "#print(s[1])\n",
        "#print(s[1:])\n",
        "while s != \"\":\n",
        "  print('string=', s)\n",
        "  for i in range(1, len(s) + 1):\n",
        "    print(s[:i])\n",
        "  s = s[1:]\n"
      ],
      "execution_count": null,
      "outputs": [
        {
          "output_type": "stream",
          "name": "stdout",
          "text": [
            "string= programa\n",
            "p\n",
            "pr\n",
            "pro\n",
            "prog\n",
            "progr\n",
            "progra\n",
            "program\n",
            "programa\n",
            "string= rograma\n",
            "r\n",
            "ro\n",
            "rog\n",
            "rogr\n",
            "rogra\n",
            "rogram\n",
            "rograma\n",
            "string= ograma\n",
            "o\n",
            "og\n",
            "ogr\n",
            "ogra\n",
            "ogram\n",
            "ograma\n",
            "string= grama\n",
            "g\n",
            "gr\n",
            "gra\n",
            "gram\n",
            "grama\n",
            "string= rama\n",
            "r\n",
            "ra\n",
            "ram\n",
            "rama\n",
            "string= ama\n",
            "a\n",
            "am\n",
            "ama\n",
            "string= ma\n",
            "m\n",
            "ma\n",
            "string= a\n",
            "a\n"
          ]
        }
      ]
    },
    {
      "cell_type": "code",
      "metadata": {
        "id": "G-8axG4barDl",
        "colab": {
          "base_uri": "https://localhost:8080/"
        },
        "outputId": "5b972750-50ab-4380-b0eb-bac97141c0b8"
      },
      "source": [
        "cadena = 'Hola mundo'\n",
        "print(cadena)\n",
        "cadena = cadena[0:2] + cadena[4:]\n",
        "print(cadena)\n",
        "print(cadena[1])"
      ],
      "execution_count": null,
      "outputs": [
        {
          "output_type": "stream",
          "name": "stdout",
          "text": [
            "Hola mundo\n",
            "Ho mundo\n",
            "o\n"
          ]
        }
      ]
    },
    {
      "cell_type": "markdown",
      "metadata": {
        "id": "JlyESKFfifNb"
      },
      "source": [
        "Incluso, podemos cambiar ese `while` por otro `for` ya que sabemos exactamente como extraer una subcadena, y el rango en el cual se hace dicha operación"
      ]
    },
    {
      "cell_type": "code",
      "metadata": {
        "id": "xpu5vkllieM9",
        "colab": {
          "base_uri": "https://localhost:8080/"
        },
        "outputId": "6c67121c-fe36-44a4-c213-5d981b8bfec1"
      },
      "source": [
        "#%%tutor -k -r\n",
        "s = \"programa\"\n",
        "print(len(s))\n",
        "print(s[0:1])\n",
        "for ini in range(len(s)):\n",
        "  for fin in range(ini+1 , len(s) + 1):\n",
        "    print(s[ini:fin]) #1:2 s[1]"
      ],
      "execution_count": null,
      "outputs": [
        {
          "output_type": "stream",
          "name": "stdout",
          "text": [
            "8\n",
            "p\n",
            "p\n",
            "pr\n",
            "pro\n",
            "prog\n",
            "progr\n",
            "progra\n",
            "program\n",
            "programa\n",
            "r\n",
            "ro\n",
            "rog\n",
            "rogr\n",
            "rogra\n",
            "rogram\n",
            "rograma\n",
            "o\n",
            "og\n",
            "ogr\n",
            "ogra\n",
            "ogram\n",
            "ograma\n",
            "g\n",
            "gr\n",
            "gra\n",
            "gram\n",
            "grama\n",
            "r\n",
            "ra\n",
            "ram\n",
            "rama\n",
            "a\n",
            "am\n",
            "ama\n",
            "m\n",
            "ma\n",
            "a\n"
          ]
        }
      ]
    },
    {
      "cell_type": "markdown",
      "metadata": {
        "id": "gR04EHzUdGgu"
      },
      "source": [
        "Este método genera **todos** las posibles subcadenas, incluído segmentos que se repitan muchas veces, como por ejemplo si nuestra cadena es \"oooooo\", la subcadenas \"o\" se repetirá 6 veces"
      ]
    },
    {
      "cell_type": "markdown",
      "metadata": {
        "id": "fOjA420Ajy0C"
      },
      "source": [
        "**Para pensar:** ¿Por qué el segundo `for` debe iterar desde $ini+1$ hasta $len(s)+1$?"
      ]
    },
    {
      "cell_type": "markdown",
      "metadata": {
        "id": "5mtVjGoXY9K6"
      },
      "source": [
        "## **Sentencias break y continue**"
      ]
    },
    {
      "cell_type": "code",
      "metadata": {
        "id": "FvWyPgWpZFBU",
        "colab": {
          "base_uri": "https://localhost:8080/",
          "height": 85
        },
        "outputId": "81bb49fa-0c83-4e98-ea12-bbe3158c7e9c"
      },
      "source": [
        "for val in \"string\":\n",
        "    if val == \"i\":\n",
        "        break\n",
        "    print(val)\n",
        "\n",
        "print(\"The end\")"
      ],
      "execution_count": null,
      "outputs": [
        {
          "output_type": "stream",
          "text": [
            "s\n",
            "t\n",
            "r\n",
            "The end\n"
          ],
          "name": "stdout"
        }
      ]
    },
    {
      "cell_type": "code",
      "metadata": {
        "id": "cTdMfz2zZGqD",
        "colab": {
          "base_uri": "https://localhost:8080/",
          "height": 119
        },
        "outputId": "9db5ef46-bf11-4b05-a87e-9d0f4cc6ceac"
      },
      "source": [
        "for val in \"string\":\n",
        "    if val == \"i\":\n",
        "        continue\n",
        "    print(val)\n",
        "\n",
        "print(\"The end\")"
      ],
      "execution_count": null,
      "outputs": [
        {
          "output_type": "stream",
          "text": [
            "s\n",
            "t\n",
            "r\n",
            "n\n",
            "g\n",
            "The end\n"
          ],
          "name": "stdout"
        }
      ]
    },
    {
      "cell_type": "code",
      "metadata": {
        "id": "jZibWXCjdoCm",
        "colab": {
          "base_uri": "https://localhost:8080/",
          "height": 170
        },
        "outputId": "77c6584f-f0f3-48c3-be0e-8386cf5f1035"
      },
      "source": [
        "while True:\n",
        "  i = input()\n",
        "  if i == '*':\n",
        "    break\n",
        "  i = int(i)\n",
        "  print(i)"
      ],
      "execution_count": null,
      "outputs": [
        {
          "output_type": "stream",
          "text": [
            "1\n",
            "1\n",
            "2\n",
            "2\n",
            "6\n",
            "6\n",
            "4\n",
            "4\n",
            "*\n"
          ],
          "name": "stdout"
        }
      ]
    },
    {
      "cell_type": "code",
      "metadata": {
        "id": "B_jrg_zBeUBJ",
        "colab": {
          "base_uri": "https://localhost:8080/",
          "height": 68
        },
        "outputId": "5140d8de-291a-4dd5-db8d-87cb49c9d2ae"
      },
      "source": [
        "cadena = 'Hola mundo'\n",
        "for caracter in cadena:\n",
        "  print(caracter, end=' ')\n",
        "print()\n",
        "for i in range(len(cadena)): #[0,1,...,10]\n",
        "  print(cadena[i], end=' ')\n",
        "print()\n",
        "for n in cadena:\n",
        "  print(n, end=' ')\n",
        "\n",
        "\n",
        "#a = str(input())\n",
        "#b = str(input())\n",
        "#cadena = a\n",
        "#cadena1 = b\n"
      ],
      "execution_count": null,
      "outputs": [
        {
          "output_type": "stream",
          "text": [
            "H o l a   m u n d o \n",
            "H o l a   m u n d o \n",
            "H o l a   m u n d o "
          ],
          "name": "stdout"
        }
      ]
    },
    {
      "cell_type": "markdown",
      "metadata": {
        "id": "f2chMWI8ezd0"
      },
      "source": [
        "##Ejercicios de clase\n",
        "0. Escriba un programa que lea un string y determine si la palabra ´hola´ es parte del string y en tal caso imprima 'hola' y si no imprima 'adiós'.\n",
        "1. Si anidamos 3 `for`, de forma que el primero se ejecuta 3 veces, el segundo 4, y el tercero 2 veces, ¿cuántas veces se ejecutará el código que se encuentra dentro del for más anidado? ¿cuántas veces se ejecuta el código fuera del tercer for, pero dentro del segundo?\n",
        "2. Dados dos enteros $a,b$, ¿es lo mismo un $range(a,b)$ que un $range(-b,-a)$?¿se ejecutan la misma cantidad de veces?\n",
        "3. Escribir un programa que lea dos strings, y si uno es más largo que el otro, recortarlo para que ambos tenga la misma longitud.\n",
        "4. Escribir un programa que lea un string, e imprimir cada letra separada por un \" + \", y al final tenga un \" = {string}\"\n",
        "5. Escribir un programa que reciba dos números $x$ y $y$ tal que $x \\ge y$ y calcule ${x\\choose y}$ ([Combinatoria](https://en.wikipedia.org/wiki/Combination))\n"
      ]
    },
    {
      "cell_type": "markdown",
      "metadata": {
        "id": "b1fG3LCqm4x8"
      },
      "source": [
        "###Soluciones:"
      ]
    },
    {
      "cell_type": "code",
      "metadata": {
        "id": "HY8Pps40KL_k"
      },
      "source": [
        "# Ejercicio 0\n",
        "\n",
        "\n",
        "\n"
      ],
      "execution_count": null,
      "outputs": []
    },
    {
      "cell_type": "code",
      "metadata": {
        "id": "nNL_ElIDeWw6"
      },
      "source": [
        "# Ejercicio 1\n",
        "\n",
        "\n"
      ],
      "execution_count": null,
      "outputs": []
    },
    {
      "cell_type": "code",
      "metadata": {
        "id": "vP93Ugpwn2O9"
      },
      "source": [
        "# Ejercicio 2\n",
        "\n",
        "\n"
      ],
      "execution_count": null,
      "outputs": []
    },
    {
      "cell_type": "code",
      "metadata": {
        "id": "cRH1rFz0otBG"
      },
      "source": [
        "# Ejercicio 3\n",
        "\n",
        "\n"
      ],
      "execution_count": null,
      "outputs": []
    },
    {
      "cell_type": "code",
      "metadata": {
        "id": "dJECPe4Lp_B6"
      },
      "source": [
        "# Ejercicio 4\n",
        "\n",
        "\n"
      ],
      "execution_count": null,
      "outputs": []
    },
    {
      "cell_type": "code",
      "metadata": {
        "id": "ZxMwciCeUrQ_"
      },
      "source": [
        "# Ejercicio 5\n",
        "\n",
        "\n"
      ],
      "execution_count": null,
      "outputs": []
    },
    {
      "cell_type": "code",
      "metadata": {
        "id": "5QU3pw2RpYMs"
      },
      "source": [],
      "execution_count": null,
      "outputs": []
    }
  ]
}