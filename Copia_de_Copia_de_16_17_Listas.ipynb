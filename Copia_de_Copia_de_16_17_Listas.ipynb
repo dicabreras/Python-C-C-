{
  "nbformat": 4,
  "nbformat_minor": 0,
  "metadata": {
    "colab": {
      "provenance": [],
      "include_colab_link": true
    },
    "kernelspec": {
      "name": "python3",
      "display_name": "Python 3"
    }
  },
  "cells": [
    {
      "cell_type": "markdown",
      "metadata": {
        "id": "view-in-github",
        "colab_type": "text"
      },
      "source": [
        "<a href=\"https://colab.research.google.com/github/dicabreras/Python-C-C-/blob/main/Copia_de_Copia_de_16_17_Listas.ipynb\" target=\"_parent\"><img src=\"https://colab.research.google.com/assets/colab-badge.svg\" alt=\"Open In Colab\"/></a>"
      ]
    },
    {
      "cell_type": "markdown",
      "metadata": {
        "id": "7B5dNJWTR69u"
      },
      "source": [
        "# Listas\n",
        "### Programación de Computadores\n",
        "#### Universidad Nacional de Colombia\n",
        "---\n",
        "\n",
        "Este material fue tomado y adaptado del libro How to Think Like a Computer Scientist: Learning with Python 3, Capítulo 11 (versión en ingles) y Capítulo 8 (versión en español)\n",
        "\n",
        "*   http://www.ict.ru.ac.za/Resources/cspw/thinkcspy3/thinkcspy3.pdf\n",
        "*   https://argentinaenpython.com/quiero-aprender-python/aprenda-a-pensar-como-un-programador-con-python.pdf\n",
        "*   http://interactivepython.org/courselib/static/thinkcspy/index.html\n",
        "\n",
        "## Copyright Notice\n",
        "Copyright (C) Brad Miller, David Ranum, Jeffrey Elkner, Peter Wentworth, Allen B. Downey, Chris\n",
        "Meyers, and Dario Mitchell. Permission is granted to copy, distribute\n",
        "and/or modify this document under the terms of the GNU Free Documentation\n",
        "License, Version 1.3 or any later version published by the Free Software\n",
        "Foundation; with Invariant Sections being Forward, Prefaces, and\n",
        "Contributor List, no Front-Cover Texts, and no Back-Cover Texts. A copy of\n",
        "the license is included in the section entitled “GNU Free Documentation\n",
        "License”.\n"
      ]
    },
    {
      "cell_type": "code",
      "metadata": {
        "id": "7rEtuVdJCPGt",
        "colab": {
          "base_uri": "https://localhost:8080/"
        },
        "outputId": "39530e39-9cb2-4914-d98f-0f74c5785318"
      },
      "source": [
        "%pip install tutormagic\n",
        "%load_ext tutormagic"
      ],
      "execution_count": null,
      "outputs": [
        {
          "output_type": "stream",
          "text": [
            "Collecting tutormagic\n",
            "  Downloading https://files.pythonhosted.org/packages/26/4c/170e56dce3ecbf0608f37b3b99100bd2666cac181da14bc685516e958435/tutormagic-0.3.0-py2.py3-none-any.whl\n",
            "Requirement already satisfied: notebook>=3.0 in /usr/local/lib/python3.6/dist-packages (from tutormagic) (5.3.1)\n",
            "Requirement already satisfied: ipython-genutils in /usr/local/lib/python3.6/dist-packages (from notebook>=3.0->tutormagic) (0.2.0)\n",
            "Requirement already satisfied: ipykernel in /usr/local/lib/python3.6/dist-packages (from notebook>=3.0->tutormagic) (4.10.1)\n",
            "Requirement already satisfied: nbconvert in /usr/local/lib/python3.6/dist-packages (from notebook>=3.0->tutormagic) (5.6.1)\n",
            "Requirement already satisfied: jupyter-core>=4.4.0 in /usr/local/lib/python3.6/dist-packages (from notebook>=3.0->tutormagic) (4.6.3)\n",
            "Requirement already satisfied: jupyter-client>=5.2.0 in /usr/local/lib/python3.6/dist-packages (from notebook>=3.0->tutormagic) (5.3.5)\n",
            "Requirement already satisfied: nbformat in /usr/local/lib/python3.6/dist-packages (from notebook>=3.0->tutormagic) (5.0.8)\n",
            "Requirement already satisfied: tornado>=4 in /usr/local/lib/python3.6/dist-packages (from notebook>=3.0->tutormagic) (5.1.1)\n",
            "Requirement already satisfied: traitlets>=4.2.1 in /usr/local/lib/python3.6/dist-packages (from notebook>=3.0->tutormagic) (4.3.3)\n",
            "Requirement already satisfied: Send2Trash in /usr/local/lib/python3.6/dist-packages (from notebook>=3.0->tutormagic) (1.5.0)\n",
            "Requirement already satisfied: terminado>=0.8.1 in /usr/local/lib/python3.6/dist-packages (from notebook>=3.0->tutormagic) (0.9.1)\n",
            "Requirement already satisfied: jinja2 in /usr/local/lib/python3.6/dist-packages (from notebook>=3.0->tutormagic) (2.11.2)\n",
            "Requirement already satisfied: ipython>=4.0.0 in /usr/local/lib/python3.6/dist-packages (from ipykernel->notebook>=3.0->tutormagic) (5.5.0)\n",
            "Requirement already satisfied: bleach in /usr/local/lib/python3.6/dist-packages (from nbconvert->notebook>=3.0->tutormagic) (3.2.1)\n",
            "Requirement already satisfied: pygments in /usr/local/lib/python3.6/dist-packages (from nbconvert->notebook>=3.0->tutormagic) (2.6.1)\n",
            "Requirement already satisfied: testpath in /usr/local/lib/python3.6/dist-packages (from nbconvert->notebook>=3.0->tutormagic) (0.4.4)\n",
            "Requirement already satisfied: entrypoints>=0.2.2 in /usr/local/lib/python3.6/dist-packages (from nbconvert->notebook>=3.0->tutormagic) (0.3)\n",
            "Requirement already satisfied: mistune<2,>=0.8.1 in /usr/local/lib/python3.6/dist-packages (from nbconvert->notebook>=3.0->tutormagic) (0.8.4)\n",
            "Requirement already satisfied: pandocfilters>=1.4.1 in /usr/local/lib/python3.6/dist-packages (from nbconvert->notebook>=3.0->tutormagic) (1.4.2)\n",
            "Requirement already satisfied: defusedxml in /usr/local/lib/python3.6/dist-packages (from nbconvert->notebook>=3.0->tutormagic) (0.6.0)\n",
            "Requirement already satisfied: pyzmq>=13 in /usr/local/lib/python3.6/dist-packages (from jupyter-client>=5.2.0->notebook>=3.0->tutormagic) (19.0.2)\n",
            "Requirement already satisfied: python-dateutil>=2.1 in /usr/local/lib/python3.6/dist-packages (from jupyter-client>=5.2.0->notebook>=3.0->tutormagic) (2.8.1)\n",
            "Requirement already satisfied: jsonschema!=2.5.0,>=2.4 in /usr/local/lib/python3.6/dist-packages (from nbformat->notebook>=3.0->tutormagic) (2.6.0)\n",
            "Requirement already satisfied: six in /usr/local/lib/python3.6/dist-packages (from traitlets>=4.2.1->notebook>=3.0->tutormagic) (1.15.0)\n",
            "Requirement already satisfied: decorator in /usr/local/lib/python3.6/dist-packages (from traitlets>=4.2.1->notebook>=3.0->tutormagic) (4.4.2)\n",
            "Requirement already satisfied: ptyprocess; os_name != \"nt\" in /usr/local/lib/python3.6/dist-packages (from terminado>=0.8.1->notebook>=3.0->tutormagic) (0.6.0)\n",
            "Requirement already satisfied: MarkupSafe>=0.23 in /usr/local/lib/python3.6/dist-packages (from jinja2->notebook>=3.0->tutormagic) (1.1.1)\n",
            "Requirement already satisfied: pickleshare in /usr/local/lib/python3.6/dist-packages (from ipython>=4.0.0->ipykernel->notebook>=3.0->tutormagic) (0.7.5)\n",
            "Requirement already satisfied: simplegeneric>0.8 in /usr/local/lib/python3.6/dist-packages (from ipython>=4.0.0->ipykernel->notebook>=3.0->tutormagic) (0.8.1)\n",
            "Requirement already satisfied: pexpect; sys_platform != \"win32\" in /usr/local/lib/python3.6/dist-packages (from ipython>=4.0.0->ipykernel->notebook>=3.0->tutormagic) (4.8.0)\n",
            "Requirement already satisfied: setuptools>=18.5 in /usr/local/lib/python3.6/dist-packages (from ipython>=4.0.0->ipykernel->notebook>=3.0->tutormagic) (50.3.0)\n",
            "Requirement already satisfied: prompt-toolkit<2.0.0,>=1.0.4 in /usr/local/lib/python3.6/dist-packages (from ipython>=4.0.0->ipykernel->notebook>=3.0->tutormagic) (1.0.18)\n",
            "Requirement already satisfied: packaging in /usr/local/lib/python3.6/dist-packages (from bleach->nbconvert->notebook>=3.0->tutormagic) (20.4)\n",
            "Requirement already satisfied: webencodings in /usr/local/lib/python3.6/dist-packages (from bleach->nbconvert->notebook>=3.0->tutormagic) (0.5.1)\n",
            "Requirement already satisfied: wcwidth in /usr/local/lib/python3.6/dist-packages (from prompt-toolkit<2.0.0,>=1.0.4->ipython>=4.0.0->ipykernel->notebook>=3.0->tutormagic) (0.2.5)\n",
            "Requirement already satisfied: pyparsing>=2.0.2 in /usr/local/lib/python3.6/dist-packages (from packaging->bleach->nbconvert->notebook>=3.0->tutormagic) (2.4.7)\n",
            "Installing collected packages: tutormagic\n",
            "Successfully installed tutormagic-0.3.0\n"
          ],
          "name": "stdout"
        }
      ]
    },
    {
      "cell_type": "markdown",
      "metadata": {
        "id": "l2OmdNxRDd06"
      },
      "source": [
        "##1. Listas\n",
        "En Python una lista es una colección secuencial de **elementos**, donde cada **elemento** se identifica mediante un índice.\n",
        "\n",
        "Las listas son similares a los `Strings`, que son colecciones ordenadas de caracteres, excepto que los elementos de una lista pueden ser de cualquier tipo (enteros, decimales, strings, listas, etc.) y cada elemento en una lista puede ser de un tipo distinto.\n",
        "\n",
        "Hay varias formas de crear una nueva lista:\n",
        "Lo más simple es encerrar los elementos que la componen entre corchetes ''`[ ]`.''"
      ]
    },
    {
      "cell_type": "code",
      "metadata": {
        "id": "iMkXF5aNVi-d",
        "colab": {
          "base_uri": "https://localhost:8080/"
        },
        "outputId": "ad72a31a-baeb-4f7c-fbc8-cf370be02534"
      },
      "source": [
        "variable = input()\n",
        "lista = [\"un string dentro de una lista\", 5, 8, 5.8, variable]\n",
        "print( lista )"
      ],
      "execution_count": null,
      "outputs": [
        {
          "output_type": "stream",
          "name": "stdout",
          "text": [
            "o\n",
            "['un string dentro de una lista', 5, 8, 5.8, 'o']\n"
          ]
        }
      ]
    },
    {
      "cell_type": "code",
      "metadata": {
        "id": "l-jC-ROw17Yu",
        "colab": {
          "base_uri": "https://localhost:8080/"
        },
        "outputId": "ac046952-1e14-4415-e53d-4d1ff9d2a37b"
      },
      "source": [
        "lista[3]"
      ],
      "execution_count": null,
      "outputs": [
        {
          "output_type": "execute_result",
          "data": {
            "text/plain": [
              "5.8"
            ]
          },
          "metadata": {},
          "execution_count": 2
        }
      ]
    },
    {
      "cell_type": "code",
      "metadata": {
        "id": "WbuEjo1j8iZl",
        "colab": {
          "base_uri": "https://localhost:8080/"
        },
        "outputId": "0c729573-83d1-40ac-9351-0244ae3e4320"
      },
      "source": [
        "lista[2] = 'Hola mundo!'\n",
        "print(lista)"
      ],
      "execution_count": null,
      "outputs": [
        {
          "output_type": "stream",
          "name": "stdout",
          "text": [
            "['un string dentro de una lista', 5, 'Hola mundo!', 5.8, 'o']\n"
          ]
        }
      ]
    },
    {
      "cell_type": "markdown",
      "metadata": {
        "id": "q3vuqYtMVsza"
      },
      "source": [
        "Para declarar una lista con más de un elemento, los separamos por comas:"
      ]
    },
    {
      "cell_type": "code",
      "metadata": {
        "id": "CPq30woAV2Tx",
        "colab": {
          "base_uri": "https://localhost:8080/"
        },
        "outputId": "32a4f914-72cb-4c94-d886-e99c9f22f3ee"
      },
      "source": [
        "lista = [\"un string dentro de una lista\", \"yo también\", 1,2,3.0, [\"un string dentro de una lista dentro de una lista\", 'Hola', [1,324,54]]]\n",
        "print(lista)\n"
      ],
      "execution_count": null,
      "outputs": [
        {
          "output_type": "stream",
          "name": "stdout",
          "text": [
            "['un string dentro de una lista', 'yo también', 1, 2, 3.0, ['un string dentro de una lista dentro de una lista', 'Hola', [1, 324, 54]]]\n"
          ]
        }
      ]
    },
    {
      "cell_type": "code",
      "metadata": {
        "id": "2sElUxUk97bA",
        "colab": {
          "base_uri": "https://localhost:8080/"
        },
        "outputId": "b4897689-da3a-497a-ba03-90dfc07d6373"
      },
      "source": [
        "print(len(lista))"
      ],
      "execution_count": null,
      "outputs": [
        {
          "output_type": "stream",
          "name": "stdout",
          "text": [
            "6\n"
          ]
        }
      ]
    },
    {
      "cell_type": "code",
      "metadata": {
        "id": "3YLU6gQP9L7L",
        "colab": {
          "base_uri": "https://localhost:8080/"
        },
        "outputId": "9c6f8801-c940-48b0-b835-9d9bd21c8384"
      },
      "source": [
        "print(lista[2:4])"
      ],
      "execution_count": null,
      "outputs": [
        {
          "output_type": "stream",
          "name": "stdout",
          "text": [
            "[1, 2]\n"
          ]
        }
      ]
    },
    {
      "cell_type": "code",
      "metadata": {
        "id": "3M2BgHYl1umz",
        "colab": {
          "base_uri": "https://localhost:8080/"
        },
        "outputId": "c9543979-d15a-4946-af93-ffd88ae94e6a"
      },
      "source": [
        "ultimo = lista[len(lista) - 1][2][1]\n",
        "print(ultimo)"
      ],
      "execution_count": null,
      "outputs": [
        {
          "output_type": "stream",
          "name": "stdout",
          "text": [
            "324\n"
          ]
        }
      ]
    },
    {
      "cell_type": "code",
      "metadata": {
        "id": "ZzOa51a-USXa",
        "colab": {
          "base_uri": "https://localhost:8080/"
        },
        "outputId": "b917ea06-f6a8-4721-b5dd-ab65a871fed6"
      },
      "source": [
        "print(lista[-1])\n",
        "print(lista[-6])\n",
        "# print(lista[6]) ejecuta error\n",
        "print(len(lista))"
      ],
      "execution_count": null,
      "outputs": [
        {
          "output_type": "stream",
          "name": "stdout",
          "text": [
            "['un string dentro de una lista dentro de una lista', 'Hola', [1, 324, 54]]\n",
            "un string dentro de una lista\n",
            "6\n"
          ]
        }
      ]
    },
    {
      "cell_type": "code",
      "metadata": {
        "id": "Amg9-HuiF18M",
        "colab": {
          "base_uri": "https://localhost:8080/",
          "height": 35
        },
        "outputId": "d831d008-81eb-4a66-90c6-66a854400226"
      },
      "source": [
        "print(lista[5])\n"
      ],
      "execution_count": null,
      "outputs": [
        {
          "output_type": "stream",
          "text": [
            "['un string dentro de una lista dentro de una lista', 'Hola', [1, 324, 54]]\n"
          ],
          "name": "stdout"
        }
      ]
    },
    {
      "cell_type": "code",
      "metadata": {
        "id": "1XmVp-QA9H-F",
        "colab": {
          "base_uri": "https://localhost:8080/"
        },
        "outputId": "f08f9b03-bd8c-434b-abe6-829d7bc35f94"
      },
      "source": [
        "print(lista)\n",
        "print(lista[len(lista) - 1])\n",
        "print(lista[len(lista) - 1][2])\n",
        "print(lista[len(lista) - 1][2][1])"
      ],
      "execution_count": null,
      "outputs": [
        {
          "output_type": "stream",
          "name": "stdout",
          "text": [
            "['un string dentro de una lista', 'yo también', 1, 2, 3.0, ['un string dentro de una lista dentro de una lista', 'Hola', [1, 324, 54]]]\n",
            "['un string dentro de una lista dentro de una lista', 'Hola', [1, 324, 54]]\n",
            "[1, 324, 54]\n",
            "324\n"
          ]
        }
      ]
    },
    {
      "cell_type": "code",
      "metadata": {
        "id": "iFUeG7SC1yly",
        "colab": {
          "base_uri": "https://localhost:8080/"
        },
        "outputId": "3329696e-a4cc-483a-e758-b54637f2cb09"
      },
      "source": [
        "lista[4]"
      ],
      "execution_count": null,
      "outputs": [
        {
          "output_type": "execute_result",
          "data": {
            "text/plain": [
              "3.0"
            ]
          },
          "metadata": {},
          "execution_count": 18
        }
      ]
    },
    {
      "cell_type": "code",
      "metadata": {
        "id": "PekTR3YH12ud",
        "colab": {
          "base_uri": "https://localhost:8080/"
        },
        "outputId": "0b11ba81-4b71-4073-cb12-d2063cf4aff6"
      },
      "source": [
        "lista[5]"
      ],
      "execution_count": null,
      "outputs": [
        {
          "output_type": "execute_result",
          "data": {
            "text/plain": [
              "['un string dentro de una lista dentro de una lista', 'Hola', [1, 324, 54]]"
            ]
          },
          "metadata": {},
          "execution_count": 19
        }
      ]
    },
    {
      "cell_type": "code",
      "metadata": {
        "id": "cjdCJXXF2AEt",
        "colab": {
          "base_uri": "https://localhost:8080/"
        },
        "outputId": "5c44ca8f-6dd9-43ed-a7ff-f77ff5b431e6"
      },
      "source": [
        "lista[-1]"
      ],
      "execution_count": null,
      "outputs": [
        {
          "output_type": "execute_result",
          "data": {
            "text/plain": [
              "['un string dentro de una lista dentro de una lista', 'Hola', [1, 324, 54]]"
            ]
          },
          "metadata": {},
          "execution_count": 20
        }
      ]
    },
    {
      "cell_type": "code",
      "metadata": {
        "id": "oofD4N8x2G1M",
        "colab": {
          "base_uri": "https://localhost:8080/"
        },
        "outputId": "f7cd5f66-316f-4607-d79d-d4688892476e"
      },
      "source": [
        "lista[-2]"
      ],
      "execution_count": null,
      "outputs": [
        {
          "output_type": "execute_result",
          "data": {
            "text/plain": [
              "3.0"
            ]
          },
          "metadata": {},
          "execution_count": 21
        }
      ]
    },
    {
      "cell_type": "markdown",
      "metadata": {
        "id": "VmHTTa3LWN5r"
      },
      "source": [
        "Al igual que los `strings`, las listas son iterables en un `for`, podemos hallar cuántos elementos hay dentro de una lista mediante la función `len()`, y acceder al elemento en la $i$-ésima posición mediante paréntesis cuadrados:"
      ]
    },
    {
      "cell_type": "code",
      "metadata": {
        "id": "vPB4stPHWgG6",
        "colab": {
          "base_uri": "https://localhost:8080/"
        },
        "outputId": "edcbcbe8-40f4-4493-f636-8265dcfa2f00"
      },
      "source": [
        "for i in range(len(lista)): #[0,1,..,len_lista-1]\n",
        "  print(\"lista[{}] = {}\".format(i, lista[i]))"
      ],
      "execution_count": null,
      "outputs": [
        {
          "output_type": "stream",
          "name": "stdout",
          "text": [
            "lista[0] = un string dentro de una lista\n",
            "lista[1] = yo también\n",
            "lista[2] = 1\n",
            "lista[3] = 2\n",
            "lista[4] = 3.0\n",
            "lista[5] = ['un string dentro de una lista dentro de una lista', 'Hola', [1, 324, 54]]\n"
          ]
        }
      ]
    },
    {
      "cell_type": "code",
      "metadata": {
        "id": "S9hs_3kV_4gz",
        "colab": {
          "base_uri": "https://localhost:8080/",
          "height": 126
        },
        "outputId": "78b41db2-1a77-4185-f496-06bddca1210b"
      },
      "source": [
        "for elemento in lista:\n",
        "  print(elemento)"
      ],
      "execution_count": null,
      "outputs": [
        {
          "output_type": "stream",
          "text": [
            "un string dentro de una lista\n",
            "yo también\n",
            "1\n",
            "2\n",
            "3.0\n",
            "['un string dentro de una lista dentro de una lista', 'Hola', [1, 324, 54]]\n"
          ],
          "name": "stdout"
        }
      ]
    },
    {
      "cell_type": "code",
      "metadata": {
        "id": "y2GhlC2rZQu8",
        "colab": {
          "base_uri": "https://localhost:8080/"
        },
        "outputId": "9b19ef4f-f43b-4c3b-fa92-814590eacc9d"
      },
      "source": [
        "lista = [\"un string dentro\", \"yo también\", 1,2,3.0, [\"un string dentro de una lista dentro de una lista\", 'Hola']]\n",
        "print(lista)"
      ],
      "execution_count": null,
      "outputs": [
        {
          "output_type": "stream",
          "name": "stdout",
          "text": [
            "['un string dentro', 'yo también', 1, 2, 3.0, ['un string dentro de una lista dentro de una lista', 'Hola']]\n"
          ]
        }
      ]
    },
    {
      "cell_type": "code",
      "metadata": {
        "id": "fsDjMDSPY4yI",
        "colab": {
          "base_uri": "https://localhost:8080/"
        },
        "outputId": "88d1115e-c5bb-4880-fa29-4715bcc20651"
      },
      "source": [
        "print(lista)\n",
        "for elemento in lista:\n",
        "\n",
        "  if type(elemento) == list:\n",
        "    for e in elemento:\n",
        "      print(e)\n",
        "      print('--------------------')\n",
        "  else:\n",
        "    print(elemento)"
      ],
      "execution_count": null,
      "outputs": [
        {
          "output_type": "stream",
          "name": "stdout",
          "text": [
            "['un string dentro de una lista', 'yo también', 1, 2, 3.0, ['un string dentro de una lista dentro de una lista', 'Hola', [1, 324, 54]]]\n",
            "un string dentro de una lista\n",
            "yo también\n",
            "1\n",
            "2\n",
            "3.0\n",
            "un string dentro de una lista dentro de una lista\n",
            "--------------------\n",
            "Hola\n",
            "--------------------\n",
            "[1, 324, 54]\n",
            "--------------------\n"
          ]
        }
      ]
    },
    {
      "cell_type": "code",
      "metadata": {
        "id": "CV7ZxqZTBX04",
        "colab": {
          "base_uri": "https://localhost:8080/"
        },
        "outputId": "939b508d-1d9e-4d9e-b565-c94549df43f1"
      },
      "source": [
        "cadena = 'programacion de computadores'\n",
        "lista = list(cadena)\n",
        "print(lista)\n",
        "print(len(cadena))\n",
        "print(len(lista))"
      ],
      "execution_count": null,
      "outputs": [
        {
          "output_type": "stream",
          "name": "stdout",
          "text": [
            "['p', 'r', 'o', 'g', 'r', 'a', 'm', 'a', 'c', 'i', 'o', 'n', ' ', 'd', 'e', ' ', 'c', 'o', 'm', 'p', 'u', 't', 'a', 'd', 'o', 'r', 'e', 's']\n",
            "28\n",
            "28\n"
          ]
        }
      ]
    },
    {
      "cell_type": "code",
      "metadata": {
        "id": "G_TPqTSLDSqv",
        "colab": {
          "base_uri": "https://localhost:8080/"
        },
        "outputId": "6c6979a3-e998-41a2-c922-253be034387d"
      },
      "source": [
        "#entrada:\n",
        "\n",
        "entrada  = '3 4 6 7 8'\n",
        "numeros = list(entrada)\n",
        "print(numeros)\n",
        "\n",
        "suma = 0\n",
        "for n in numeros:\n",
        "  print(n)\n",
        "  if n != ' ':\n",
        "    suma += int(n)\n",
        "\n",
        "print(suma)"
      ],
      "execution_count": null,
      "outputs": [
        {
          "output_type": "stream",
          "name": "stdout",
          "text": [
            "['3', ' ', '4', ' ', '6', ' ', '7', ' ', '8']\n",
            "3\n",
            " \n",
            "4\n",
            " \n",
            "6\n",
            " \n",
            "7\n",
            " \n",
            "8\n",
            "28\n"
          ]
        }
      ]
    },
    {
      "cell_type": "code",
      "metadata": {
        "id": "CGZTYxk2BiPU",
        "colab": {
          "base_uri": "https://localhost:8080/"
        },
        "outputId": "2bcdee3f-aa08-43b3-ba17-a4d583196b88"
      },
      "source": [
        "lista = ['a', 'b', 'c']\n",
        "cadena = str(lista)\n",
        "print(cadena)\n",
        "print(type(cadena))\n",
        "print(type(lista))\n",
        "for i in cadena:\n",
        "  print(i)"
      ],
      "execution_count": null,
      "outputs": [
        {
          "output_type": "stream",
          "name": "stdout",
          "text": [
            "['a', 'b', 'c']\n",
            "<class 'str'>\n",
            "<class 'list'>\n",
            "[\n",
            "'\n",
            "a\n",
            "'\n",
            ",\n",
            " \n",
            "'\n",
            "b\n",
            "'\n",
            ",\n",
            " \n",
            "'\n",
            "c\n",
            "'\n",
            "]\n"
          ]
        }
      ]
    },
    {
      "cell_type": "code",
      "metadata": {
        "id": "7DOzW8Q5ByUG",
        "colab": {
          "base_uri": "https://localhost:8080/"
        },
        "outputId": "ba505378-2553-4c98-bba1-a7c5953cbb49"
      },
      "source": [
        "cad = ''\n",
        "for i in range(len(lista)):\n",
        "  cad += lista[i]\n",
        "print(cad)"
      ],
      "execution_count": null,
      "outputs": [
        {
          "output_type": "stream",
          "name": "stdout",
          "text": [
            "abc\n"
          ]
        }
      ]
    },
    {
      "cell_type": "code",
      "metadata": {
        "id": "pCgI3n42CCEg",
        "colab": {
          "base_uri": "https://localhost:8080/"
        },
        "outputId": "9bbeaf3a-0627-4f2a-f71e-45577943fe8f"
      },
      "source": [
        "lista = ['a', 'b', \"1\", \"4\"] # a_b_c, abc\n",
        "pegamento = '_'\n",
        "cadena = '_ '.join(lista)\n",
        "print(cadena)\n",
        "help(''.join)\n"
      ],
      "execution_count": null,
      "outputs": [
        {
          "output_type": "stream",
          "name": "stdout",
          "text": [
            "a_ b_ 1_ 4\n",
            "Help on built-in function join:\n",
            "\n",
            "join(iterable, /) method of builtins.str instance\n",
            "    Concatenate any number of strings.\n",
            "    \n",
            "    The string whose method is called is inserted in between each given string.\n",
            "    The result is returned as a new string.\n",
            "    \n",
            "    Example: '.'.join(['ab', 'pq', 'rs']) -> 'ab.pq.rs'\n",
            "\n"
          ]
        }
      ]
    },
    {
      "cell_type": "markdown",
      "metadata": {
        "id": "WfI6jFnT_meQ"
      },
      "source": [
        "En Python, como vimos antes, se pueden acceder a posiciones \"negativas\" de las listas, donde el índice $-1$ es el último elemento de la lista, el $-2$ es el penúltimo, y así susesivamente:"
      ]
    },
    {
      "cell_type": "code",
      "metadata": {
        "id": "MDh_wP3s_21j",
        "colab": {
          "base_uri": "https://localhost:8080/"
        },
        "outputId": "b8800d5a-b243-4453-f1ba-c55354dd66ef"
      },
      "source": [
        "\n",
        "for i in range(-len(lista), len(lista)):\n",
        "  print(\"lista[{}] = {}\".format(i, lista[i]))"
      ],
      "execution_count": null,
      "outputs": [
        {
          "output_type": "stream",
          "name": "stdout",
          "text": [
            "lista[-4] = a\n",
            "lista[-3] = b\n",
            "lista[-2] = 1\n",
            "lista[-1] = 4\n",
            "lista[0] = a\n",
            "lista[1] = b\n",
            "lista[2] = 1\n",
            "lista[3] = 4\n"
          ]
        }
      ]
    },
    {
      "cell_type": "markdown",
      "metadata": {
        "id": "26yMZTdpANjh"
      },
      "source": [
        "Las listas son **iterables**, de forma que se pueden acceder directamente de forma secuencial mediante un for:"
      ]
    },
    {
      "cell_type": "code",
      "metadata": {
        "id": "K0CBUjICXeOb",
        "colab": {
          "base_uri": "https://localhost:8080/"
        },
        "outputId": "70b86e7b-ba6e-423a-df7a-96788fba5a7d"
      },
      "source": [
        "for elemento in lista:\n",
        "  print(elemento)"
      ],
      "execution_count": null,
      "outputs": [
        {
          "output_type": "stream",
          "name": "stdout",
          "text": [
            "a\n",
            "b\n",
            "1\n",
            "4\n"
          ]
        }
      ]
    },
    {
      "cell_type": "code",
      "metadata": {
        "id": "Pzf-Kh1SFXam",
        "colab": {
          "base_uri": "https://localhost:8080/",
          "height": 90
        },
        "outputId": "5b4c101d-07f8-4589-c77a-4e47d5ec8079"
      },
      "source": [
        "for i in range(len(lista)):\n",
        "  print(lista[i])"
      ],
      "execution_count": null,
      "outputs": [
        {
          "output_type": "stream",
          "text": [
            "a\n",
            "b\n",
            "1\n",
            "4\n"
          ],
          "name": "stdout"
        }
      ]
    },
    {
      "cell_type": "markdown",
      "metadata": {
        "id": "HX-jHolgXobT"
      },
      "source": [
        "Para la función `len()`, deben tener en cuenta que una lista contenida dentro de una lista vale como 1 elemento, no importa cuantos elementos tenga esta lista:"
      ]
    },
    {
      "cell_type": "code",
      "metadata": {
        "id": "GGvaOvx4Xnj2",
        "colab": {
          "base_uri": "https://localhost:8080/"
        },
        "outputId": "6c604a39-483f-4ff5-af74-a67e64ad7c3b"
      },
      "source": [
        "lista2 = [1, 2, 3, 4, [5, 6, 7, 8, 9, [10, 11, 12]]]\n",
        "#cuantos elementos tiene lista2?\n",
        "print(len(lista2))\n",
        "#print(len(lista2[2]))\n",
        "print(len(lista2[4]))\n",
        "print(len(lista2[4][5]))"
      ],
      "execution_count": null,
      "outputs": [
        {
          "output_type": "stream",
          "name": "stdout",
          "text": [
            "5\n",
            "6\n",
            "3\n"
          ]
        }
      ]
    },
    {
      "cell_type": "code",
      "metadata": {
        "id": "VG43I2COcv_9",
        "colab": {
          "base_uri": "https://localhost:8080/"
        },
        "outputId": "57f747a2-2ff6-45e4-9ba4-28991e1bd020"
      },
      "source": [
        "lista3 = [[], 5, 7, [45]]\n",
        "\n",
        "for i in range(len(lista3)):\n",
        "\n",
        "  if type(lista3[i]) == list and lista3[i] == []:\n",
        "    #if lista3[i] == None:\n",
        "    lista3[i].append(56)\n",
        "    #lista3[i] = [5]\n",
        "\n",
        "print(lista3)\n",
        "help(list.append)\n",
        ""
      ],
      "execution_count": null,
      "outputs": [
        {
          "output_type": "stream",
          "name": "stdout",
          "text": [
            "[[56], 5, 7, [45]]\n",
            "Help on method_descriptor:\n",
            "\n",
            "append(self, object, /)\n",
            "    Append object to the end of the list.\n",
            "\n"
          ]
        }
      ]
    },
    {
      "cell_type": "code",
      "metadata": {
        "id": "uEtkY0B1e35u"
      },
      "source": [
        "cadena = ''\n",
        "if cadena == None:\n",
        "  print('leer und empty')\n"
      ],
      "execution_count": null,
      "outputs": []
    },
    {
      "cell_type": "markdown",
      "metadata": {
        "id": "KNOanBXlYuZ6"
      },
      "source": [
        "##2. Operaciones con listas\n",
        "Al igual que los `strings`, se pueden hacer operaciones con listas:"
      ]
    },
    {
      "cell_type": "markdown",
      "metadata": {
        "id": "TshDmpOGZE93"
      },
      "source": [
        "Para saber si un elemento está en una lista, usamos el operador `in`, cuya sintaxis es: \"(elemento de interés) in (lista)\".\n",
        "\n",
        "Dicho operador retorna un booleano:"
      ]
    },
    {
      "cell_type": "code",
      "metadata": {
        "id": "UV7IkqUTZTlk",
        "colab": {
          "base_uri": "https://localhost:8080/"
        },
        "outputId": "b40ed7ee-4b7d-4228-d3ae-4dbbb9e420b2"
      },
      "source": [
        "lista = [\"un string dentro de una lista\", \"yo tambien\", 1, 2, 3.0, [\"un string\", \"dentro\", \"de una lista dentro\", \"de una lista\"]]\n",
        "print(1 in lista)"
      ],
      "execution_count": null,
      "outputs": [
        {
          "output_type": "stream",
          "name": "stdout",
          "text": [
            "True\n"
          ]
        }
      ]
    },
    {
      "cell_type": "code",
      "metadata": {
        "id": "WJTOeKxfGYgv",
        "colab": {
          "base_uri": "https://localhost:8080/"
        },
        "outputId": "290c0a9a-0f62-4323-f67c-3ba52f9c658a"
      },
      "source": [
        "print('dentro' in lista)"
      ],
      "execution_count": null,
      "outputs": [
        {
          "output_type": "stream",
          "name": "stdout",
          "text": [
            "False\n"
          ]
        }
      ]
    },
    {
      "cell_type": "code",
      "metadata": {
        "id": "AgKIBpEv_Tvc",
        "colab": {
          "base_uri": "https://localhost:8080/"
        },
        "outputId": "f0acda11-3052-4bef-84ea-eac7900dc3e4"
      },
      "source": [
        "print('dentro' in lista[5][2])"
      ],
      "execution_count": null,
      "outputs": [
        {
          "output_type": "stream",
          "name": "stdout",
          "text": [
            "True\n"
          ]
        }
      ]
    },
    {
      "cell_type": "code",
      "metadata": {
        "id": "fQmMYo33GyiV",
        "colab": {
          "base_uri": "https://localhost:8080/"
        },
        "outputId": "949d9cc1-ecf2-40dc-cdf6-ebd698ffd04f"
      },
      "source": [
        "print('dentro' in lista[0])"
      ],
      "execution_count": null,
      "outputs": [
        {
          "output_type": "stream",
          "name": "stdout",
          "text": [
            "True\n"
          ]
        }
      ]
    },
    {
      "cell_type": "code",
      "metadata": {
        "id": "6Y7Nvo6bHFdt",
        "colab": {
          "base_uri": "https://localhost:8080/"
        },
        "outputId": "e2ac7158-d2b9-4d1c-8870-9ab807590ab2"
      },
      "source": [
        "print('dentro' in lista[-1][0])"
      ],
      "execution_count": null,
      "outputs": [
        {
          "output_type": "stream",
          "name": "stdout",
          "text": [
            "False\n"
          ]
        }
      ]
    },
    {
      "cell_type": "code",
      "metadata": {
        "id": "SpCnDWaz5pBt",
        "colab": {
          "base_uri": "https://localhost:8080/"
        },
        "outputId": "a38d5470-b3de-4148-9b68-4abd68045194"
      },
      "source": [
        "for i in range(len(lista)):\n",
        "  if type(lista[i]) == str:\n",
        "    print(\"tambien\" in lista[i])\n",
        "#print(\"tambien\" in lista[0])"
      ],
      "execution_count": null,
      "outputs": [
        {
          "output_type": "stream",
          "name": "stdout",
          "text": [
            "False\n",
            "True\n"
          ]
        }
      ]
    },
    {
      "cell_type": "code",
      "metadata": {
        "id": "trdtfwM7G8-E",
        "colab": {
          "base_uri": "https://localhost:8080/"
        },
        "outputId": "461d284a-f9d0-4f4a-a58e-6b9339c44474"
      },
      "source": [
        "print(\"tambien\" in lista)"
      ],
      "execution_count": null,
      "outputs": [
        {
          "output_type": "stream",
          "name": "stdout",
          "text": [
            "False\n"
          ]
        }
      ]
    },
    {
      "cell_type": "code",
      "metadata": {
        "id": "sRL8kwaX7Bk7",
        "colab": {
          "base_uri": "https://localhost:8080/"
        },
        "outputId": "7a125afd-d4f0-44ba-a82a-58f0a2d54679"
      },
      "source": [
        "print(\"yo tambien\" in lista)"
      ],
      "execution_count": null,
      "outputs": [
        {
          "output_type": "stream",
          "name": "stdout",
          "text": [
            "True\n"
          ]
        }
      ]
    },
    {
      "cell_type": "markdown",
      "metadata": {
        "id": "8LrMF7p5aDbK"
      },
      "source": [
        "De igual forma, podemos preguntar si un elemento **no** está en la lista agregando un `not` antes del `in`:"
      ]
    },
    {
      "cell_type": "code",
      "metadata": {
        "id": "VJ6yKP-HZ3ed",
        "colab": {
          "base_uri": "https://localhost:8080/"
        },
        "outputId": "bcdc3f80-7102-4024-b694-e53e202e15b8"
      },
      "source": [
        "lista = [\"soy un string dentro de una lista\", \"yo también\", 1,2,3.0, [\"soy una string dentro de una lista dentro de una lista\"]]\n",
        "print(2 not in lista)"
      ],
      "execution_count": null,
      "outputs": [
        {
          "output_type": "stream",
          "name": "stdout",
          "text": [
            "False\n"
          ]
        }
      ]
    },
    {
      "cell_type": "code",
      "metadata": {
        "id": "uUWpXPwxAgfL",
        "colab": {
          "base_uri": "https://localhost:8080/",
          "height": 35
        },
        "outputId": "c7aaaa83-7e8a-4f56-c0ad-2b7a2edf2951"
      },
      "source": [
        "print(not (2 in lista))"
      ],
      "execution_count": null,
      "outputs": [
        {
          "output_type": "stream",
          "text": [
            "False\n"
          ],
          "name": "stdout"
        }
      ]
    },
    {
      "cell_type": "markdown",
      "metadata": {
        "id": "egz3NcpoaMts"
      },
      "source": [
        "Al igual que los `strings` podemos unir o **concatenar** dos listas mediante el operador ''`+`'':"
      ]
    },
    {
      "cell_type": "code",
      "metadata": {
        "id": "3GQNSuWGaUq_",
        "colab": {
          "base_uri": "https://localhost:8080/"
        },
        "outputId": "b1435a95-b853-4fa4-9fe5-742998ae00df"
      },
      "source": [
        "lista1 = [1, 2, 3, 4]\n",
        "lista2 = [5, 6, 7, 8, 1]\n",
        "\n",
        "nueva_lista = lista1 + lista2\n",
        "print(nueva_lista)"
      ],
      "execution_count": null,
      "outputs": [
        {
          "output_type": "stream",
          "name": "stdout",
          "text": [
            "[1, 2, 3, 4, 5, 6, 7, 8, 1]\n"
          ]
        }
      ]
    },
    {
      "cell_type": "code",
      "metadata": {
        "id": "MOOXud0k7KDX",
        "colab": {
          "base_uri": "https://localhost:8080/"
        },
        "outputId": "4c57f1b8-db04-4fa2-9c21-4018af65bffb"
      },
      "source": [
        "print(lista2 + lista1)"
      ],
      "execution_count": null,
      "outputs": [
        {
          "output_type": "stream",
          "name": "stdout",
          "text": [
            "[5, 6, 7, 8, 1, 1, 2, 3, 4]\n"
          ]
        }
      ]
    },
    {
      "cell_type": "code",
      "metadata": {
        "id": "D3cCRR5v7NNv",
        "colab": {
          "base_uri": "https://localhost:8080/",
          "height": 35
        },
        "outputId": "68b4d808-736e-4cb1-909c-eac6c6e39547"
      },
      "source": [
        "print(lista1 + lista1)"
      ],
      "execution_count": null,
      "outputs": [
        {
          "output_type": "stream",
          "text": [
            "[1, 2, 3, 4, 1, 2, 3, 4]\n"
          ],
          "name": "stdout"
        }
      ]
    },
    {
      "cell_type": "markdown",
      "metadata": {
        "id": "fgrYK_goaua4"
      },
      "source": [
        "También podemos \"multiplicar\" la lista $n$ veces, mediante el operador \"`*`\":"
      ]
    },
    {
      "cell_type": "code",
      "metadata": {
        "id": "1SWvmlinYtjA",
        "colab": {
          "base_uri": "https://localhost:8080/"
        },
        "outputId": "f5e0beba-8605-4f63-b826-2a5f3ead68ef"
      },
      "source": [
        "print(lista1)\n",
        "print(lista1 * 3)"
      ],
      "execution_count": null,
      "outputs": [
        {
          "output_type": "stream",
          "name": "stdout",
          "text": [
            "[1, 2, 3, 4]\n",
            "[1, 2, 3, 4, 1, 2, 3, 4, 1, 2, 3, 4]\n"
          ]
        }
      ]
    },
    {
      "cell_type": "markdown",
      "metadata": {
        "id": "44Clpq4CbOma"
      },
      "source": [
        "Obtener una \"sub-lista\" es equivalente a obtener un \"sub-string\"; se deben usar paréntesis cuadrados indicando el ínice de inicio, y de final:"
      ]
    },
    {
      "cell_type": "code",
      "metadata": {
        "id": "6otyM4lE2SP4",
        "colab": {
          "base_uri": "https://localhost:8080/"
        },
        "outputId": "b033a11d-0f5f-4e5a-b043-bfe15abb0d5f"
      },
      "source": [
        "lista = [0, 1, 2, 3, 4, 5, 6, 7, 8, 9]\n",
        "kette = 'paralelepipedo'\n",
        "print(lista[2:7])\n",
        "print(kette[1:5])\n",
        "print(kette[-4:])"
      ],
      "execution_count": null,
      "outputs": [
        {
          "output_type": "stream",
          "name": "stdout",
          "text": [
            "[2, 3, 4, 5, 6]\n",
            "aral\n",
            "pedo\n"
          ]
        }
      ]
    },
    {
      "cell_type": "code",
      "metadata": {
        "id": "8sE1xiWr7gP6",
        "colab": {
          "base_uri": "https://localhost:8080/",
          "height": 35
        },
        "outputId": "30ec2e0f-a749-4693-d98d-b25900abd208"
      },
      "source": [
        "print(lista[5:])"
      ],
      "execution_count": null,
      "outputs": [
        {
          "output_type": "stream",
          "text": [
            "[5, 6, 7, 8, 9]\n"
          ],
          "name": "stdout"
        }
      ]
    },
    {
      "cell_type": "code",
      "metadata": {
        "id": "I3cr8xAq7hl_",
        "colab": {
          "base_uri": "https://localhost:8080/",
          "height": 35
        },
        "outputId": "fe8ba0c2-7ef7-4309-840e-b6e54524d183"
      },
      "source": [
        "print(lista[:3])"
      ],
      "execution_count": null,
      "outputs": [
        {
          "output_type": "stream",
          "text": [
            "[0, 1, 2]\n"
          ],
          "name": "stdout"
        }
      ]
    },
    {
      "cell_type": "markdown",
      "metadata": {
        "id": "p9kXZv4S8P8r"
      },
      "source": [
        "Al igual que con los *strings*, al acceder a una sublista podemos configurar el **paso**, es decir, cada cuántos elementos vamos a seleccionar:"
      ]
    },
    {
      "cell_type": "code",
      "metadata": {
        "id": "BmXbZzfu7oII",
        "colab": {
          "base_uri": "https://localhost:8080/"
        },
        "outputId": "88e82e23-798f-4195-f47b-bfbf5e8c4f5f"
      },
      "source": [
        "print(lista[0:10:2])"
      ],
      "execution_count": null,
      "outputs": [
        {
          "output_type": "stream",
          "name": "stdout",
          "text": [
            "[0, 2, 4, 6, 8]\n"
          ]
        }
      ]
    },
    {
      "cell_type": "code",
      "metadata": {
        "id": "oiIRowJ57lzT",
        "colab": {
          "base_uri": "https://localhost:8080/",
          "height": 35
        },
        "outputId": "6220f0f1-5bc8-4fa6-f492-66ceed66def2"
      },
      "source": [
        "print(lista[:10:2])"
      ],
      "execution_count": null,
      "outputs": [
        {
          "output_type": "stream",
          "text": [
            "[0, 2, 4, 6, 8]\n"
          ],
          "name": "stdout"
        }
      ]
    },
    {
      "cell_type": "code",
      "metadata": {
        "id": "pQoJEfW98pd3",
        "colab": {
          "base_uri": "https://localhost:8080/",
          "height": 35
        },
        "outputId": "9e2115a0-478d-4f6a-eef9-277aacbbf2ae"
      },
      "source": [
        "print(lista[::2])"
      ],
      "execution_count": null,
      "outputs": [
        {
          "output_type": "stream",
          "text": [
            "[0, 2, 4, 6, 8]\n"
          ],
          "name": "stdout"
        }
      ]
    },
    {
      "cell_type": "code",
      "metadata": {
        "id": "IV86d-tB8rlE",
        "colab": {
          "base_uri": "https://localhost:8080/",
          "height": 35
        },
        "outputId": "df3b348f-3286-4be7-ee3a-f87d7285bcc8"
      },
      "source": [
        "print(lista[::3])"
      ],
      "execution_count": null,
      "outputs": [
        {
          "output_type": "stream",
          "text": [
            "[0, 3, 6, 9]\n"
          ],
          "name": "stdout"
        }
      ]
    },
    {
      "cell_type": "markdown",
      "metadata": {
        "id": "-W3Az86g8vmv"
      },
      "source": [
        "El **paso** también puede ser negativo, lo que significa que empezará el recorrido desde el final de la lista:"
      ]
    },
    {
      "cell_type": "code",
      "metadata": {
        "id": "cK3nfwLn84R4",
        "colab": {
          "base_uri": "https://localhost:8080/"
        },
        "outputId": "c3472682-f3a7-49e7-ab73-3baf05251305"
      },
      "source": [
        "print(lista)\n",
        "nueva_lista = lista[10:2:-2]\n",
        "print(nueva_lista)\n",
        "print(nueva_lista[:3])"
      ],
      "execution_count": null,
      "outputs": [
        {
          "output_type": "stream",
          "name": "stdout",
          "text": [
            "[0, 1, 2, 3, 4, 5, 6, 7, 8, 9]\n",
            "[9, 7, 5, 3]\n",
            "[9, 7, 5]\n"
          ]
        }
      ]
    },
    {
      "cell_type": "code",
      "metadata": {
        "id": "pnFFr6UB8uW0",
        "colab": {
          "base_uri": "https://localhost:8080/",
          "height": 35
        },
        "outputId": "a29bd7ed-cd4e-439e-e097-1a12e3ddea3c"
      },
      "source": [
        "print(lista[::-2])"
      ],
      "execution_count": null,
      "outputs": [
        {
          "output_type": "stream",
          "text": [
            "[9, 7, 5, 3, 1]\n"
          ],
          "name": "stdout"
        }
      ]
    },
    {
      "cell_type": "code",
      "metadata": {
        "id": "j3iEvD-f9Bjy",
        "colab": {
          "base_uri": "https://localhost:8080/",
          "height": 35
        },
        "outputId": "6bc45891-4bee-4c09-febb-f3c1981d87e6"
      },
      "source": [
        "print(lista[::-1])  # lista invertida"
      ],
      "execution_count": null,
      "outputs": [
        {
          "output_type": "stream",
          "text": [
            "[9, 8, 7, 6, 5, 4, 3, 2, 1, 0]\n"
          ],
          "name": "stdout"
        }
      ]
    },
    {
      "cell_type": "markdown",
      "metadata": {
        "id": "R6yAoLOZ39jS"
      },
      "source": [
        "A diferencia de los `strings`,  las listas son \"mutables\", lo que significa que a cada posición de la lista, se le puede asignar una valor distinto en cualquier momento:"
      ]
    },
    {
      "cell_type": "code",
      "metadata": {
        "id": "VYwD7n_W3L0n",
        "colab": {
          "base_uri": "https://localhost:8080/"
        },
        "outputId": "6273291b-1e3a-4c08-c477-9ef836349e84"
      },
      "source": [
        "\n",
        "s = \"no editable\"\n",
        "print(s[3])\n"
      ],
      "execution_count": null,
      "outputs": [
        {
          "output_type": "stream",
          "name": "stdout",
          "text": [
            "e\n"
          ]
        }
      ]
    },
    {
      "cell_type": "code",
      "metadata": {
        "id": "zyoyG2nE9fE-",
        "colab": {
          "base_uri": "https://localhost:8080/",
          "height": 185
        },
        "outputId": "1187c2b2-1ced-41f4-e705-3dca7813bd01"
      },
      "source": [
        "# error en tiempo de ejecución porque las posiciones de las cadenas no son \"mutables\"\n",
        "s[3] = \"g\""
      ],
      "execution_count": null,
      "outputs": [
        {
          "output_type": "error",
          "ename": "TypeError",
          "evalue": "ignored",
          "traceback": [
            "\u001b[0;31m---------------------------------------------------------------------------\u001b[0m",
            "\u001b[0;31mTypeError\u001b[0m                                 Traceback (most recent call last)",
            "\u001b[0;32m<ipython-input-57-fa59de15cb85>\u001b[0m in \u001b[0;36m<module>\u001b[0;34m\u001b[0m\n\u001b[1;32m      1\u001b[0m \u001b[0;31m# error en tiempo de ejecución porque las posiciones de las cadenas no son \"mutables\"\u001b[0m\u001b[0;34m\u001b[0m\u001b[0;34m\u001b[0m\u001b[0;34m\u001b[0m\u001b[0m\n\u001b[0;32m----> 2\u001b[0;31m \u001b[0ms\u001b[0m\u001b[0;34m[\u001b[0m\u001b[0;36m3\u001b[0m\u001b[0;34m]\u001b[0m \u001b[0;34m=\u001b[0m \u001b[0;34m\"g\"\u001b[0m\u001b[0;34m\u001b[0m\u001b[0;34m\u001b[0m\u001b[0m\n\u001b[0m",
            "\u001b[0;31mTypeError\u001b[0m: 'str' object does not support item assignment"
          ]
        }
      ]
    },
    {
      "cell_type": "code",
      "metadata": {
        "id": "a0sbCJqJ4hpf",
        "colab": {
          "base_uri": "https://localhost:8080/"
        },
        "outputId": "f6146e04-845f-44d7-8c23-6751ad1c8517"
      },
      "source": [
        "lista = [1,2,3]\n",
        "print(lista)\n",
        "# Las posiciones de las listas si son \"mutables\"\n",
        "lista[1] = \"hola\"\n",
        "print(lista)"
      ],
      "execution_count": null,
      "outputs": [
        {
          "output_type": "stream",
          "name": "stdout",
          "text": [
            "[1, 2, 3]\n",
            "[1, 'hola', 3]\n"
          ]
        }
      ]
    },
    {
      "cell_type": "markdown",
      "metadata": {
        "id": "H_EFIWJC4hC5"
      },
      "source": [
        "Al combinar la asignación con el indexado de rangos, podemos actualizar varios elementos a la vez:"
      ]
    },
    {
      "cell_type": "code",
      "metadata": {
        "id": "Ae68NHu25Rvx",
        "colab": {
          "base_uri": "https://localhost:8080/"
        },
        "outputId": "8db5ba97-bb45-4d94-fe73-934cee047c05"
      },
      "source": [
        "lista = [0, 1, \"reem\", \"plazame\", 4, 5]\n",
        "print(lista)\n",
        "lista[2] = 2\n",
        "lista[3] = 3\n",
        "print(lista)"
      ],
      "execution_count": null,
      "outputs": [
        {
          "output_type": "stream",
          "name": "stdout",
          "text": [
            "[0, 1, 'reem', 'plazame', 4, 5]\n",
            "[0, 1, 2, 3, 4, 5]\n"
          ]
        }
      ]
    },
    {
      "cell_type": "code",
      "metadata": {
        "id": "iBytdGVy910M",
        "colab": {
          "base_uri": "https://localhost:8080/"
        },
        "outputId": "ee534b49-262b-461b-afa0-d86457ba2639"
      },
      "source": [
        "lista[2:4] = ['a','b','c']\n",
        "print(lista)"
      ],
      "execution_count": null,
      "outputs": [
        {
          "output_type": "stream",
          "name": "stdout",
          "text": [
            "[0, 1, 'a', 'b', 'c', 4, 5]\n"
          ]
        }
      ]
    },
    {
      "cell_type": "code",
      "metadata": {
        "id": "cxcBbAgLsHk1",
        "colab": {
          "base_uri": "https://localhost:8080/"
        },
        "outputId": "faa4c36d-e93e-480a-e7b2-44250c8faa54"
      },
      "source": [
        "lista = [0,1,2,3,4,5,6]\n",
        "nueva_lista = lista[4:]\n",
        "print(lista)\n",
        "print(nueva_lista)\n",
        "nueva_lista.append([7,5,6,4]) #Agrega el 7 al final\n",
        "nueva_lista.append('programacion222') #Agrega el 7 al final\n",
        "nueva_lista.extend('programacion') #Agrega el 7 al final\n",
        "nueva_lista.extend([75, 's']) #Agrega el 7 al final\n",
        "print(nueva_lista)\n",
        "nueva_lista.extend((7,6,5,8))\n",
        "print(nueva_lista)\n",
        "help(list.extend)\n",
        "#lista[8] = 8 #Incorrecto\n",
        "#print(lista)"
      ],
      "execution_count": null,
      "outputs": [
        {
          "output_type": "stream",
          "name": "stdout",
          "text": [
            "[0, 1, 2, 3, 4, 5, 6]\n",
            "[4, 5, 6]\n",
            "[4, 5, 6, [7, 5, 6, 4], 'programacion222', 'p', 'r', 'o', 'g', 'r', 'a', 'm', 'a', 'c', 'i', 'o', 'n', 75, 's']\n",
            "[4, 5, 6, [7, 5, 6, 4], 'programacion222', 'p', 'r', 'o', 'g', 'r', 'a', 'm', 'a', 'c', 'i', 'o', 'n', 75, 's', 7, 6, 5, 8]\n",
            "Help on method_descriptor:\n",
            "\n",
            "extend(self, iterable, /)\n",
            "    Extend list by appending elements from the iterable.\n",
            "\n"
          ]
        }
      ]
    },
    {
      "cell_type": "markdown",
      "metadata": {
        "id": "f0IPDSXN5pWq"
      },
      "source": [
        "De igual forma, podemos actualizar una sección de la lista, reemplazándola por vacío, y así eliminarla:"
      ]
    },
    {
      "cell_type": "code",
      "metadata": {
        "id": "uZPQsPxN5xm4",
        "colab": {
          "base_uri": "https://localhost:8080/"
        },
        "outputId": "7b5b228e-f2da-4758-c160-39948521d990"
      },
      "source": [
        "lista = [0, 1, \"eli\", \"mina\", \"me\", 4, 5]\n",
        "print(lista)\n",
        "lista[2:5] = [] #también se puede con ''\n",
        "#lista[-1] = [4,6,7]\n",
        "print(lista)"
      ],
      "execution_count": null,
      "outputs": [
        {
          "output_type": "stream",
          "name": "stdout",
          "text": [
            "[0, 1, 'eli', 'mina', 'me', 4, 5]\n",
            "[0, 1, 4, 5]\n"
          ]
        }
      ]
    },
    {
      "cell_type": "code",
      "metadata": {
        "id": "1YcP78g-wq1q"
      },
      "source": [
        "if lista == []\n",
        "if len(lista) == 0"
      ],
      "execution_count": null,
      "outputs": []
    },
    {
      "cell_type": "code",
      "metadata": {
        "id": "yk_6vWRkwfJp"
      },
      "source": [
        "''"
      ],
      "execution_count": null,
      "outputs": []
    },
    {
      "cell_type": "code",
      "metadata": {
        "id": "Y0ptYE45GD64",
        "colab": {
          "base_uri": "https://localhost:8080/"
        },
        "outputId": "c1167aa1-6445-4db1-9eff-56f5b4c3bd14"
      },
      "source": [
        "lista1 = [0, 1, 4, [4, 6, 7]]\n",
        "lista1[3] = 5\n",
        "print(lista1)"
      ],
      "execution_count": null,
      "outputs": [
        {
          "output_type": "stream",
          "name": "stdout",
          "text": [
            "[0, 1, 4, 5]\n"
          ]
        }
      ]
    },
    {
      "cell_type": "markdown",
      "metadata": {
        "id": "wlVRd1Po6LeY"
      },
      "source": [
        "Incluso podemos insertar elementos actualizando una sección \"vacía\" de la lista:"
      ]
    },
    {
      "cell_type": "code",
      "metadata": {
        "id": "RVsjBsqJ5-u_",
        "colab": {
          "base_uri": "https://localhost:8080/"
        },
        "outputId": "cbe02a6b-f54e-476d-d765-2639342d42c2"
      },
      "source": [
        "lista = [0, 1, 4, 5]\n",
        "print(lista[2:2])"
      ],
      "execution_count": null,
      "outputs": [
        {
          "output_type": "stream",
          "name": "stdout",
          "text": [
            "[]\n"
          ]
        }
      ]
    },
    {
      "cell_type": "code",
      "metadata": {
        "id": "mU2_9VQ2GhNy",
        "colab": {
          "base_uri": "https://localhost:8080/"
        },
        "outputId": "3605665d-772b-4be2-9094-9d7f7b50dab8"
      },
      "source": [
        "lista_numeros = range(2,2)\n",
        "print(lista_numeros)"
      ],
      "execution_count": null,
      "outputs": [
        {
          "output_type": "stream",
          "name": "stdout",
          "text": [
            "range(2, 2)\n"
          ]
        }
      ]
    },
    {
      "cell_type": "code",
      "metadata": {
        "id": "z-EadCE2_8MU",
        "colab": {
          "base_uri": "https://localhost:8080/"
        },
        "outputId": "891fccef-7d41-4b80-ae55-64e3f09ea6f1"
      },
      "source": [
        "lista[2:2] = [2,3]\n",
        "print(lista)"
      ],
      "execution_count": null,
      "outputs": [
        {
          "output_type": "stream",
          "name": "stdout",
          "text": [
            "[0, 1, 2, 3, 4, 5]\n"
          ]
        }
      ]
    },
    {
      "cell_type": "code",
      "metadata": {
        "id": "FRg1cRIGHZPB",
        "colab": {
          "base_uri": "https://localhost:8080/"
        },
        "outputId": "bf083ebf-a62f-4eea-f94c-9853969459ec"
      },
      "source": [
        "lista[2] = [2,3]\n",
        "print(lista)\n",
        "\n",
        "# [0, 1, [2, 3], 3, 4, 5]\n",
        "# [0, 1, [2, 3], 2, 3, 4, 5]"
      ],
      "execution_count": null,
      "outputs": [
        {
          "output_type": "stream",
          "name": "stdout",
          "text": [
            "[0, 1, [2, 3], 5]\n"
          ]
        }
      ]
    },
    {
      "cell_type": "code",
      "metadata": {
        "id": "c--Q2KsRyn4x",
        "colab": {
          "base_uri": "https://localhost:8080/"
        },
        "outputId": "f268d3e8-f3bc-4424-b629-12f5b26f2302"
      },
      "source": [
        "lista = [0, 1, 4, 5, 10, 11]\n",
        "nueva_lista = lista[2:4]\n",
        "print(lista)\n",
        "print(nueva_lista)"
      ],
      "execution_count": null,
      "outputs": [
        {
          "output_type": "stream",
          "name": "stdout",
          "text": [
            "[0, 1, 4, 5, 10, 11]\n",
            "[4, 5]\n"
          ]
        }
      ]
    },
    {
      "cell_type": "markdown",
      "metadata": {
        "id": "XqtSqWqJ6gac"
      },
      "source": [
        "Para las operaciones de reemplazar secciones de las listas, es estrictamente necesario que se reemplacen por listas, si se intenta con un entero por ejemplo, dará error en tiempo de ejecución:"
      ]
    },
    {
      "cell_type": "code",
      "metadata": {
        "id": "OnQdZeOX7MYM",
        "colab": {
          "base_uri": "https://localhost:8080/",
          "height": 199
        },
        "outputId": "a10d11fa-0347-4cbf-f922-5fc0afe663f6"
      },
      "source": [
        "lista = [0,1,4,5]\n",
        "lista[2:2] = 2\n",
        "print(lista)"
      ],
      "execution_count": null,
      "outputs": [
        {
          "output_type": "error",
          "ename": "TypeError",
          "evalue": "ignored",
          "traceback": [
            "\u001b[0;31m---------------------------------------------------------------------------\u001b[0m",
            "\u001b[0;31mTypeError\u001b[0m                                 Traceback (most recent call last)",
            "\u001b[0;32m<ipython-input-136-b18ed8cb5f14>\u001b[0m in \u001b[0;36m<module>\u001b[0;34m()\u001b[0m\n\u001b[1;32m      1\u001b[0m \u001b[0mlista\u001b[0m \u001b[0;34m=\u001b[0m \u001b[0;34m[\u001b[0m\u001b[0;36m0\u001b[0m\u001b[0;34m,\u001b[0m\u001b[0;36m1\u001b[0m\u001b[0;34m,\u001b[0m\u001b[0;36m4\u001b[0m\u001b[0;34m,\u001b[0m\u001b[0;36m5\u001b[0m\u001b[0;34m]\u001b[0m\u001b[0;34m\u001b[0m\u001b[0;34m\u001b[0m\u001b[0m\n\u001b[0;32m----> 2\u001b[0;31m \u001b[0mlista\u001b[0m\u001b[0;34m[\u001b[0m\u001b[0;36m2\u001b[0m\u001b[0;34m:\u001b[0m\u001b[0;36m2\u001b[0m\u001b[0;34m]\u001b[0m \u001b[0;34m=\u001b[0m \u001b[0;36m2\u001b[0m\u001b[0;34m\u001b[0m\u001b[0;34m\u001b[0m\u001b[0m\n\u001b[0m\u001b[1;32m      3\u001b[0m \u001b[0mprint\u001b[0m\u001b[0;34m(\u001b[0m\u001b[0mlista\u001b[0m\u001b[0;34m)\u001b[0m\u001b[0;34m\u001b[0m\u001b[0;34m\u001b[0m\u001b[0m\n",
            "\u001b[0;31mTypeError\u001b[0m: can only assign an iterable"
          ]
        }
      ]
    },
    {
      "cell_type": "markdown",
      "metadata": {
        "id": "Zz0TIt5K7nGt"
      },
      "source": [
        "Aunque las operaciones anteriores parecen muy elegantes, no son tan legibles, de forma que Python provee funciones para insertar, agregar al final, eliminar el elemento del final, y eliminar elementos:"
      ]
    },
    {
      "cell_type": "markdown",
      "metadata": {
        "id": "mLe9ybGD76dW"
      },
      "source": [
        "Para insertar un elemento en una posición `x`, se puede usar la función `insert(x,item)`, donde `item` es cualquier tipo de dato:"
      ]
    },
    {
      "cell_type": "code",
      "metadata": {
        "id": "cZV7LeT48PL2",
        "colab": {
          "base_uri": "https://localhost:8080/"
        },
        "outputId": "a3b1f249-677e-4649-f1ba-3c01bf1f511d"
      },
      "source": [
        "lista = [0, 1, 2]\n",
        "lista.insert(1,\"ahora estoy en la posicion 1\")\n",
        "print(lista)\n",
        "help(list.insert)"
      ],
      "execution_count": null,
      "outputs": [
        {
          "output_type": "stream",
          "name": "stdout",
          "text": [
            "[0, 'ahora estoy en la posicion 1', 1, 2]\n",
            "Help on method_descriptor:\n",
            "\n",
            "insert(self, index, object, /)\n",
            "    Insert object before index.\n",
            "\n"
          ]
        }
      ]
    },
    {
      "cell_type": "markdown",
      "metadata": {
        "id": "LGsSkSpZ_J_E"
      },
      "source": [
        "En caso de dar un índice mayor al máximo existente, agregará el elemento al final de la lista:"
      ]
    },
    {
      "cell_type": "code",
      "metadata": {
        "id": "zZ_1BCL1_b4M",
        "colab": {
          "base_uri": "https://localhost:8080/"
        },
        "outputId": "60b85d61-a36f-483f-ddac-b60255f4d171"
      },
      "source": [
        "lista  = [1, 2]\n",
        "lista.insert(10,1000)\n",
        "print(lista)\n",
        "#print(lista[2])"
      ],
      "execution_count": null,
      "outputs": [
        {
          "output_type": "stream",
          "name": "stdout",
          "text": [
            "[1, 2, 1000]\n"
          ]
        }
      ]
    },
    {
      "cell_type": "markdown",
      "metadata": {
        "id": "kVlldO9I8g5H"
      },
      "source": [
        "Sin embargo, para agregar un elemento al final de la lista (de forma que no nos importa cuál es la posición en la que toque agregarlo, siempre y cuando sea al final), se puede usar la función `append(item)`, donde `item` es cualquier tipo de dato:"
      ]
    },
    {
      "cell_type": "code",
      "source": [],
      "metadata": {
        "id": "g18wvgqqwRn4"
      },
      "execution_count": null,
      "outputs": []
    },
    {
      "cell_type": "code",
      "metadata": {
        "id": "4jfOPhTu8ypH",
        "colab": {
          "base_uri": "https://localhost:8080/"
        },
        "outputId": "9a438200-31e2-4eb3-d737-7cdd81ff668e"
      },
      "source": [
        "lista = [1, 2, 3, 5, 6, 4, 8]\n",
        "lista.append(\"estoy al final\")\n",
        "print(lista)"
      ],
      "execution_count": null,
      "outputs": [
        {
          "output_type": "stream",
          "name": "stdout",
          "text": [
            "[1, 2, 3, 5, 6, 4, 8, 'estoy al final']\n"
          ]
        }
      ]
    },
    {
      "cell_type": "code",
      "metadata": {
        "id": "mV9HDEs1BpFM",
        "colab": {
          "base_uri": "https://localhost:8080/"
        },
        "outputId": "892fcb6e-3baf-4803-bec4-1a7bbd27e3aa"
      },
      "source": [
        "lista.append(\"estoy al final 2\")\n",
        "print(lista)"
      ],
      "execution_count": null,
      "outputs": [
        {
          "output_type": "stream",
          "name": "stdout",
          "text": [
            "[1, 2, 3, 5, 6, 4, 8, 'estoy al final', 'estoy al final 2']\n"
          ]
        }
      ]
    },
    {
      "cell_type": "markdown",
      "metadata": {
        "id": "T5IbKuhVJOcn"
      },
      "source": [
        "Para elminar el último elemento de la lista, se puede usar la función `pop()`, la cual, además de eliminar el último elemento de la lista, lo retorna:"
      ]
    },
    {
      "cell_type": "code",
      "metadata": {
        "id": "SNQS0b6EJcKm",
        "colab": {
          "base_uri": "https://localhost:8080/"
        },
        "outputId": "4d44c8b8-90e0-4f41-fc2c-18cc290221c3"
      },
      "source": [
        "lista = [\"hola!\", \"qué\", \"hace?\"]\n",
        "l = lista.pop()\n",
        "\n",
        "print(lista)\n",
        "print(l)"
      ],
      "execution_count": null,
      "outputs": [
        {
          "output_type": "stream",
          "name": "stdout",
          "text": [
            "['hola!', 'qué']\n",
            "hace?\n"
          ]
        }
      ]
    },
    {
      "cell_type": "markdown",
      "metadata": {
        "id": "pp6K1JJLKzMJ"
      },
      "source": [
        "Si quiero eliminar un elemento en una posición diferente a la última, especifico el índice correspondiente como argumento de la función `pop`:"
      ]
    },
    {
      "cell_type": "code",
      "metadata": {
        "id": "NQYorSfsK0DO",
        "colab": {
          "base_uri": "https://localhost:8080/"
        },
        "outputId": "beff1e34-f4f8-4bda-8624-a112a204a5a4"
      },
      "source": [
        "lista = [\"hola!\", \"qué\", \"hace?\"]\n",
        "l = lista.pop(1)\n",
        "\n",
        "print(lista)\n",
        "print(l)"
      ],
      "execution_count": null,
      "outputs": [
        {
          "output_type": "stream",
          "name": "stdout",
          "text": [
            "['hola!', 'hace?']\n",
            "qué\n"
          ]
        }
      ]
    },
    {
      "cell_type": "markdown",
      "metadata": {
        "id": "RBQgdDpe9GdS"
      },
      "source": [
        "Para eliminar un elemento de la lista `x`, se puede usar la función `remove(x)`.\n",
        "\n",
        "Esta función buscará un elemento igual a `x` y lo eliminará de la lista; en caso de haber varios valores iguales a `x`, eliminará el que tenga el índice más pequeño.\n",
        "\n"
      ]
    },
    {
      "cell_type": "code",
      "metadata": {
        "id": "RG2z7Gyy89tu",
        "colab": {
          "base_uri": "https://localhost:8080/"
        },
        "outputId": "28778a12-2f1b-4004-f1bc-85ea97cd9143"
      },
      "source": [
        "lista = [1, 2, 3, 1]\n",
        "lista.remove(1)\n",
        "print(lista)"
      ],
      "execution_count": null,
      "outputs": [
        {
          "output_type": "stream",
          "name": "stdout",
          "text": [
            "[2, 3, 1]\n"
          ]
        }
      ]
    },
    {
      "cell_type": "code",
      "metadata": {
        "id": "9fuGbgc2CVss",
        "colab": {
          "base_uri": "https://localhost:8080/"
        },
        "outputId": "1b1da892-c8f4-4f6a-b827-8d15298a46be"
      },
      "source": [
        "lista.remove(1)\n",
        "print(lista)"
      ],
      "execution_count": null,
      "outputs": [
        {
          "output_type": "stream",
          "name": "stdout",
          "text": [
            "[2, 3]\n"
          ]
        }
      ]
    },
    {
      "cell_type": "markdown",
      "metadata": {
        "id": "5wEoVfNZ-oPM"
      },
      "source": [
        "En caso de no existir el elemento a eliminar, dará un error en tiempo de ejecución:"
      ]
    },
    {
      "cell_type": "code",
      "metadata": {
        "id": "y5XruUMZ-qY2",
        "colab": {
          "base_uri": "https://localhost:8080/",
          "height": 182
        },
        "outputId": "70928cdc-7c7b-4775-a96f-cc4106606932"
      },
      "source": [
        "lista = [1,2,3,4]\n",
        "lista.remove('a')"
      ],
      "execution_count": null,
      "outputs": [
        {
          "output_type": "error",
          "ename": "ValueError",
          "evalue": "ignored",
          "traceback": [
            "\u001b[0;31m---------------------------------------------------------------------------\u001b[0m",
            "\u001b[0;31mValueError\u001b[0m                                Traceback (most recent call last)",
            "\u001b[0;32m<ipython-input-152-4fb84dacda54>\u001b[0m in \u001b[0;36m<module>\u001b[0;34m()\u001b[0m\n\u001b[1;32m      1\u001b[0m \u001b[0mlista\u001b[0m \u001b[0;34m=\u001b[0m \u001b[0;34m[\u001b[0m\u001b[0;36m1\u001b[0m\u001b[0;34m,\u001b[0m\u001b[0;36m2\u001b[0m\u001b[0;34m,\u001b[0m\u001b[0;36m3\u001b[0m\u001b[0;34m,\u001b[0m\u001b[0;36m4\u001b[0m\u001b[0;34m]\u001b[0m\u001b[0;34m\u001b[0m\u001b[0;34m\u001b[0m\u001b[0m\n\u001b[0;32m----> 2\u001b[0;31m \u001b[0mlista\u001b[0m\u001b[0;34m.\u001b[0m\u001b[0mremove\u001b[0m\u001b[0;34m(\u001b[0m\u001b[0;34m'a'\u001b[0m\u001b[0;34m)\u001b[0m\u001b[0;34m\u001b[0m\u001b[0;34m\u001b[0m\u001b[0m\n\u001b[0m",
            "\u001b[0;31mValueError\u001b[0m: list.remove(x): x not in list"
          ]
        }
      ]
    },
    {
      "cell_type": "markdown",
      "metadata": {
        "id": "Jjz3yMEkCsg-"
      },
      "source": [
        "Por eso, antes de llamar a la función ``remove``, se recomienda validar que el elemento que queremos eliminar se encuentra **en** la lista:"
      ]
    },
    {
      "cell_type": "code",
      "metadata": {
        "id": "qkY_r33ICucm",
        "colab": {
          "base_uri": "https://localhost:8080/"
        },
        "outputId": "f298e586-ba98-40e5-e740-d26f770dd9b5"
      },
      "source": [
        "lista = [1,2,3,4]\n",
        "elemento = 5\n",
        "if elemento in lista:\n",
        "  lista.remove(elemento)\n",
        "print(lista)"
      ],
      "execution_count": null,
      "outputs": [
        {
          "output_type": "stream",
          "name": "stdout",
          "text": [
            "[1, 2, 3, 4]\n"
          ]
        }
      ]
    },
    {
      "cell_type": "code",
      "metadata": {
        "id": "wN3hoYECyL07",
        "colab": {
          "base_uri": "https://localhost:8080/"
        },
        "outputId": "1cbeddcc-bee3-476b-c9e1-10f4f7c9a6c0"
      },
      "source": [
        "lista = [1,6,8,3,4,10]\n",
        "\n",
        "for i in lista:\n",
        "  if i == 6 or i == 8 or i == 10:\n",
        "    lista.remove(i)\n",
        "\n",
        "print(lista)"
      ],
      "execution_count": null,
      "outputs": [
        {
          "output_type": "stream",
          "name": "stdout",
          "text": [
            "[1, 8, 3, 4]\n"
          ]
        }
      ]
    },
    {
      "cell_type": "code",
      "metadata": {
        "id": "yjsjALA36zow",
        "colab": {
          "base_uri": "https://localhost:8080/",
          "height": 35
        },
        "outputId": "9ae89794-decc-4e53-efa0-f8ead3805139"
      },
      "source": [
        "lista = [1,6,8,3,4,10,5,6]\n",
        "retirar = [6,8,10]\n",
        "\n",
        "for i in retirar:\n",
        "  if i in lista:\n",
        "    lista.remove(i)\n",
        "\n",
        "print(lista)"
      ],
      "execution_count": null,
      "outputs": [
        {
          "output_type": "stream",
          "text": [
            "[1, 3, 4, 5, 6]\n"
          ],
          "name": "stdout"
        }
      ]
    },
    {
      "cell_type": "code",
      "metadata": {
        "id": "FaPoolirwv0O",
        "colab": {
          "base_uri": "https://localhost:8080/"
        },
        "outputId": "a856ea76-f095-4194-8343-ebe00aff86f6"
      },
      "source": [
        "lista = [1,6,8,10,3,4]\n",
        "impares = []\n",
        "\n",
        "for elemento in lista:\n",
        "  if elemento % 2 != 0:\n",
        "    impares.append(elemento)\n",
        "\n",
        "print(lista)\n",
        "print(impares)"
      ],
      "execution_count": null,
      "outputs": [
        {
          "output_type": "stream",
          "name": "stdout",
          "text": [
            "[1, 6, 8, 10, 3, 4]\n",
            "[1, 3]\n"
          ]
        }
      ]
    },
    {
      "cell_type": "markdown",
      "metadata": {
        "id": "GP_4NB42AsGW"
      },
      "source": [
        "En caso de querer eliminar un elemento de una `lista` en una posición determinada `x`, se puede usar la función `del(lista[x])`:"
      ]
    },
    {
      "cell_type": "code",
      "metadata": {
        "id": "PJbq6EXtBE_k",
        "colab": {
          "base_uri": "https://localhost:8080/"
        },
        "outputId": "0ddaa009-94f6-4d68-9cb6-8c6cb47c535c"
      },
      "source": [
        "lista = [\"hola!\", \"qué\", \"hace?\"]\n",
        "del(lista[1])\n",
        "#lista.pop(0)\n",
        "print(lista)"
      ],
      "execution_count": null,
      "outputs": [
        {
          "output_type": "stream",
          "name": "stdout",
          "text": [
            "['hola!', 'hace?']\n"
          ]
        }
      ]
    },
    {
      "cell_type": "markdown",
      "metadata": {
        "id": "nWFXNbkSBQ4k"
      },
      "source": [
        "Igualmente, se pueden eliminar una sección de una lista, como se vió en ejemplos anteriores:"
      ]
    },
    {
      "cell_type": "code",
      "metadata": {
        "id": "QLi2JZvfBZfP",
        "colab": {
          "base_uri": "https://localhost:8080/"
        },
        "outputId": "6c2f63fc-9f76-4a46-ee55-1a013017034b"
      },
      "source": [
        "lista = [4, 2, 3, 4, 5, 6]\n",
        "del(lista[2:4])\n",
        "print(lista)"
      ],
      "execution_count": null,
      "outputs": [
        {
          "output_type": "stream",
          "name": "stdout",
          "text": [
            "[4, 2, 5, 6]\n"
          ]
        }
      ]
    },
    {
      "cell_type": "markdown",
      "metadata": {
        "id": "x-TCBqrCVB9j"
      },
      "source": [
        "## Usos de una función lambda en listas\n",
        "\n",
        "Dado que al implementar una función lambda, lo que se busca es rapidez en el proceso de desarrollo, éstas pueden ser usadas para utilizar las funciones **filter** y **map**.\n",
        "\n",
        "La función filter de Python construye una lista con aquellos elementos que cumplen con un criterio (función)\n",
        "```\n",
        "filter(funcion, iterable)\n",
        "```\n",
        "\n",
        "es decir, donde funcion(iterable[i]) retorna True.\n",
        "\n",
        "En el siguiente ejemplo se muestra el filtro de los números pares entre 0 y 99"
      ]
    },
    {
      "cell_type": "code",
      "metadata": {
        "id": "vkHjJYzlH9bN",
        "colab": {
          "base_uri": "https://localhost:8080/"
        },
        "outputId": "580e2b96-6367-4aac-f4a2-4dd3d73c1a5e"
      },
      "source": [
        "print(type(range(100)))\n",
        "print(range(100))"
      ],
      "execution_count": null,
      "outputs": [
        {
          "output_type": "stream",
          "text": [
            "<class 'range'>\n",
            "range(0, 100)\n"
          ],
          "name": "stdout"
        }
      ]
    },
    {
      "cell_type": "code",
      "metadata": {
        "id": "moLdP7WDVJkp",
        "colab": {
          "base_uri": "https://localhost:8080/"
        },
        "outputId": "16a50492-f242-4532-e9ce-2aeca34eaab7"
      },
      "source": [
        "numeros = list(range(100))\n",
        "\n",
        "pares = list(filter(lambda num: num % 2 == 0, numeros))\n",
        "pares_1 = filter(lambda num: num % 2 ==2, numeros)\n",
        "\n",
        "print(numeros)\n",
        "print(pares)\n",
        "print(pares_1)"
      ],
      "execution_count": null,
      "outputs": [
        {
          "output_type": "stream",
          "name": "stdout",
          "text": [
            "[0, 1, 2, 3, 4, 5, 6, 7, 8, 9, 10, 11, 12, 13, 14, 15, 16, 17, 18, 19, 20, 21, 22, 23, 24, 25, 26, 27, 28, 29, 30, 31, 32, 33, 34, 35, 36, 37, 38, 39, 40, 41, 42, 43, 44, 45, 46, 47, 48, 49, 50, 51, 52, 53, 54, 55, 56, 57, 58, 59, 60, 61, 62, 63, 64, 65, 66, 67, 68, 69, 70, 71, 72, 73, 74, 75, 76, 77, 78, 79, 80, 81, 82, 83, 84, 85, 86, 87, 88, 89, 90, 91, 92, 93, 94, 95, 96, 97, 98, 99]\n",
            "[0, 2, 4, 6, 8, 10, 12, 14, 16, 18, 20, 22, 24, 26, 28, 30, 32, 34, 36, 38, 40, 42, 44, 46, 48, 50, 52, 54, 56, 58, 60, 62, 64, 66, 68, 70, 72, 74, 76, 78, 80, 82, 84, 86, 88, 90, 92, 94, 96, 98]\n",
            "<filter object at 0x7f4e2a732d10>\n"
          ]
        }
      ]
    },
    {
      "cell_type": "code",
      "metadata": {
        "id": "I6OvBTjVJb9U",
        "colab": {
          "base_uri": "https://localhost:8080/"
        },
        "outputId": "621610d1-57b8-466a-b100-ee4b32502b59"
      },
      "source": [
        "#%%tutor -k -r\n",
        "\n",
        "def es_par(num):\n",
        "  return num % 2 == 0\n",
        "\n",
        "numeros = list(range(100))\n",
        "pares = list(filter(es_par, numeros))\n",
        "\n",
        "print(numeros)\n",
        "print(pares)"
      ],
      "execution_count": null,
      "outputs": [
        {
          "output_type": "stream",
          "name": "stdout",
          "text": [
            "[0, 1, 2, 3, 4, 5, 6, 7, 8, 9, 10, 11, 12, 13, 14, 15, 16, 17, 18, 19, 20, 21, 22, 23, 24, 25, 26, 27, 28, 29, 30, 31, 32, 33, 34, 35, 36, 37, 38, 39, 40, 41, 42, 43, 44, 45, 46, 47, 48, 49, 50, 51, 52, 53, 54, 55, 56, 57, 58, 59, 60, 61, 62, 63, 64, 65, 66, 67, 68, 69, 70, 71, 72, 73, 74, 75, 76, 77, 78, 79, 80, 81, 82, 83, 84, 85, 86, 87, 88, 89, 90, 91, 92, 93, 94, 95, 96, 97, 98, 99]\n",
            "[0, 2, 4, 6, 8, 10, 12, 14, 16, 18, 20, 22, 24, 26, 28, 30, 32, 34, 36, 38, 40, 42, 44, 46, 48, 50, 52, 54, 56, 58, 60, 62, 64, 66, 68, 70, 72, 74, 76, 78, 80, 82, 84, 86, 88, 90, 92, 94, 96, 98]\n"
          ]
        }
      ]
    },
    {
      "cell_type": "code",
      "metadata": {
        "id": "Xe00nV1xMcRF",
        "colab": {
          "base_uri": "https://localhost:8080/"
        },
        "outputId": "5a8daa0c-c804-48f1-fd96-37f56cd5a390"
      },
      "source": [
        "def mayor_10(num):\n",
        "  return num > 10\n",
        "\n",
        "def funciones(num):\n",
        "  return es_par(num) and mayor_10(num)\n",
        "\n",
        "pares = list(filter(funciones, numeros))\n",
        "print(pares)\n",
        "pares = list(filter(lambda num: es_par(num) and mayor_10(num), numeros))\n",
        "print(pares)\n",
        "pares = list(filter(lambda num: num % 2 == 0 and num > 10, numeros))\n",
        "print(pares)\n",
        "#help(.filter())"
      ],
      "execution_count": null,
      "outputs": [
        {
          "output_type": "stream",
          "name": "stdout",
          "text": [
            "[12, 14, 16, 18, 20, 22, 24, 26, 28, 30, 32, 34, 36, 38, 40, 42, 44, 46, 48, 50, 52, 54, 56, 58, 60, 62, 64, 66, 68, 70, 72, 74, 76, 78, 80, 82, 84, 86, 88, 90, 92, 94, 96, 98]\n",
            "[12, 14, 16, 18, 20, 22, 24, 26, 28, 30, 32, 34, 36, 38, 40, 42, 44, 46, 48, 50, 52, 54, 56, 58, 60, 62, 64, 66, 68, 70, 72, 74, 76, 78, 80, 82, 84, 86, 88, 90, 92, 94, 96, 98]\n",
            "[12, 14, 16, 18, 20, 22, 24, 26, 28, 30, 32, 34, 36, 38, 40, 42, 44, 46, 48, 50, 52, 54, 56, 58, 60, 62, 64, 66, 68, 70, 72, 74, 76, 78, 80, 82, 84, 86, 88, 90, 92, 94, 96, 98]\n"
          ]
        }
      ]
    },
    {
      "cell_type": "code",
      "metadata": {
        "id": "dKYXIoS5LOk5",
        "colab": {
          "base_uri": "https://localhost:8080/"
        },
        "outputId": "b302d3f3-98f4-4649-aea1-cb59dd42147e"
      },
      "source": [
        "resultado = []\n",
        "\n",
        "for num in numeros:\n",
        "  if es_par(num):\n",
        "    resultado.append(num)\n",
        "\n",
        "print(resultado)"
      ],
      "execution_count": null,
      "outputs": [
        {
          "output_type": "stream",
          "name": "stdout",
          "text": [
            "[0, 2, 4, 6, 8, 10, 12, 14, 16, 18, 20, 22, 24, 26, 28, 30, 32, 34, 36, 38, 40, 42, 44, 46, 48, 50, 52, 54, 56, 58, 60, 62, 64, 66, 68, 70, 72, 74, 76, 78, 80, 82, 84, 86, 88, 90, 92, 94, 96, 98]\n"
          ]
        }
      ]
    },
    {
      "cell_type": "markdown",
      "metadata": {
        "id": "cMNfSme98GCD"
      },
      "source": [
        "Por su parte, la función **map** aplica una función sobre todos los elementos de una lista y como resultado se devuelve un iterable de tipo map.\n",
        "\n",
        "En el siguiente ejemplo, se convertirán los elementos de una lista (de números enteros) a caracteres:"
      ]
    },
    {
      "cell_type": "code",
      "metadata": {
        "id": "-wezHLch8bTy",
        "colab": {
          "base_uri": "https://localhost:8080/"
        },
        "outputId": "74054eca-5862-4dc3-d7fa-fe65194c8652"
      },
      "source": [
        "numeros = list(range(100))\n",
        "\n",
        "caracteres = list(map(str, numeros))\n",
        "\n",
        "print(numeros)\n",
        "print(caracteres)"
      ],
      "execution_count": null,
      "outputs": [
        {
          "output_type": "stream",
          "name": "stdout",
          "text": [
            "[0, 1, 2, 3, 4, 5, 6, 7, 8, 9, 10, 11, 12, 13, 14, 15, 16, 17, 18, 19, 20, 21, 22, 23, 24, 25, 26, 27, 28, 29, 30, 31, 32, 33, 34, 35, 36, 37, 38, 39, 40, 41, 42, 43, 44, 45, 46, 47, 48, 49, 50, 51, 52, 53, 54, 55, 56, 57, 58, 59, 60, 61, 62, 63, 64, 65, 66, 67, 68, 69, 70, 71, 72, 73, 74, 75, 76, 77, 78, 79, 80, 81, 82, 83, 84, 85, 86, 87, 88, 89, 90, 91, 92, 93, 94, 95, 96, 97, 98, 99]\n",
            "['0', '1', '2', '3', '4', '5', '6', '7', '8', '9', '10', '11', '12', '13', '14', '15', '16', '17', '18', '19', '20', '21', '22', '23', '24', '25', '26', '27', '28', '29', '30', '31', '32', '33', '34', '35', '36', '37', '38', '39', '40', '41', '42', '43', '44', '45', '46', '47', '48', '49', '50', '51', '52', '53', '54', '55', '56', '57', '58', '59', '60', '61', '62', '63', '64', '65', '66', '67', '68', '69', '70', '71', '72', '73', '74', '75', '76', '77', '78', '79', '80', '81', '82', '83', '84', '85', '86', '87', '88', '89', '90', '91', '92', '93', '94', '95', '96', '97', '98', '99']\n"
          ]
        }
      ]
    },
    {
      "cell_type": "markdown",
      "metadata": {
        "id": "aPBVh2lx84-6"
      },
      "source": [
        "También es posible definir nuestra propia función de conversión. En el siguiente ejemplo, definiremos la función cuadrado lo pasaremos como parámetro de la función **map**, de manera que todos los elementos de la lista serán los cuadrados de los números originales:"
      ]
    },
    {
      "cell_type": "code",
      "metadata": {
        "id": "e8u_8SmE8_Lc",
        "colab": {
          "base_uri": "https://localhost:8080/"
        },
        "outputId": "3799df95-d2f5-4307-eb3f-dbbbc6c99ed0"
      },
      "source": [
        "def cuadrado(num):\n",
        "  return num ** 2\n",
        "\n",
        "numeros = list(range(100))\n",
        "cuadrados = list(map(cuadrado, numeros))\n",
        "\n",
        "\n",
        "print(numeros)\n",
        "print(cuadrados)\n",
        "print(otra)"
      ],
      "execution_count": null,
      "outputs": [
        {
          "output_type": "stream",
          "name": "stdout",
          "text": [
            "[0, 1, 2, 3, 4, 5, 6, 7, 8, 9, 10, 11, 12, 13, 14, 15, 16, 17, 18, 19, 20, 21, 22, 23, 24, 25, 26, 27, 28, 29, 30, 31, 32, 33, 34, 35, 36, 37, 38, 39, 40, 41, 42, 43, 44, 45, 46, 47, 48, 49, 50, 51, 52, 53, 54, 55, 56, 57, 58, 59, 60, 61, 62, 63, 64, 65, 66, 67, 68, 69, 70, 71, 72, 73, 74, 75, 76, 77, 78, 79, 80, 81, 82, 83, 84, 85, 86, 87, 88, 89, 90, 91, 92, 93, 94, 95, 96, 97, 98, 99]\n",
            "[0, 1, 4, 9, 16, 25, 36, 49, 64, 81, 100, 121, 144, 169, 196, 225, 256, 289, 324, 361, 400, 441, 484, 529, 576, 625, 676, 729, 784, 841, 900, 961, 1024, 1089, 1156, 1225, 1296, 1369, 1444, 1521, 1600, 1681, 1764, 1849, 1936, 2025, 2116, 2209, 2304, 2401, 2500, 2601, 2704, 2809, 2916, 3025, 3136, 3249, 3364, 3481, 3600, 3721, 3844, 3969, 4096, 4225, 4356, 4489, 4624, 4761, 4900, 5041, 5184, 5329, 5476, 5625, 5776, 5929, 6084, 6241, 6400, 6561, 6724, 6889, 7056, 7225, 7396, 7569, 7744, 7921, 8100, 8281, 8464, 8649, 8836, 9025, 9216, 9409, 9604, 9801]\n",
            "[0, 1, 4, 9, 16, 25, 36, 49, 64, 81, 100, 121, 144, 169, 196, 225, 256, 289, 324, 361, 400, 441, 484, 529, 576, 625, 676, 729, 784, 841, 900, 961, 1024, 1089, 1156, 1225, 1296, 1369, 1444, 1521, 1600, 1681, 1764, 1849, 1936, 2025, 2116, 2209, 2304, 2401, 2500, 2601, 2704, 2809, 2916, 3025, 3136, 3249, 3364, 3481, 3600, 3721, 3844, 3969, 4096, 4225, 4356, 4489, 4624, 4761, 4900, 5041, 5184, 5329, 5476, 5625, 5776, 5929, 6084, 6241, 6400, 6561, 6724, 6889, 7056, 7225, 7396, 7569, 7744, 7921, 8100, 8281, 8464, 8649, 8836, 9025, 9216, 9409, 9604, 9801]\n"
          ]
        }
      ]
    },
    {
      "cell_type": "markdown",
      "metadata": {
        "id": "Xtrp38oM9RD-"
      },
      "source": [
        "Dado que la función **cuadrado** consta de una sola expresión, podríamos convertirla en una función lambda"
      ]
    },
    {
      "cell_type": "code",
      "metadata": {
        "id": "hCBizAuR8pLr",
        "colab": {
          "base_uri": "https://localhost:8080/"
        },
        "outputId": "302cd79f-0efc-4635-f83e-6f9132898b8a"
      },
      "source": [
        "#numeros = list(range(100))\n",
        "cuadrados = list(map(lambda num : num ** 2, list(range(10))))\n",
        "\n",
        "#print(numeros)\n",
        "print(cuadrados)"
      ],
      "execution_count": null,
      "outputs": [
        {
          "output_type": "stream",
          "name": "stdout",
          "text": [
            "[0, 1, 4, 9, 16, 25, 36, 49, 64, 81]\n"
          ]
        }
      ]
    },
    {
      "cell_type": "markdown",
      "metadata": {
        "id": "tw2C6d2h-ycb"
      },
      "source": [
        "### Nota:\n",
        "\n",
        "La función **split** toma una cadena de caracteres y los separa teniendo en cuenta un caracter en particular, generando una lista de caracteres.\n",
        "\n",
        "Por defecto, la función **split** separa las cadenas por el caracter **espacio**.\n",
        "\n",
        "**Ejemplo:**"
      ]
    },
    {
      "cell_type": "code",
      "metadata": {
        "id": "anj2HJ5D3fSw",
        "colab": {
          "base_uri": "https://localhost:8080/",
          "height": 131
        },
        "outputId": "0e5cd1e5-81e8-4fd6-ff8a-29f99cd4bac1"
      },
      "source": [
        "4\n",
        "a\n",
        "b\n",
        "c\n",
        "d\n",
        "\n",
        "a b c d"
      ],
      "execution_count": null,
      "outputs": [
        {
          "output_type": "error",
          "ename": "SyntaxError",
          "evalue": "ignored",
          "traceback": [
            "\u001b[0;36m  File \u001b[0;32m\"<ipython-input-25-f5aa58897ea3>\"\u001b[0;36m, line \u001b[0;32m7\u001b[0m\n\u001b[0;31m    a b c d\u001b[0m\n\u001b[0m      ^\u001b[0m\n\u001b[0;31mSyntaxError\u001b[0m\u001b[0;31m:\u001b[0m invalid syntax\n"
          ]
        }
      ]
    },
    {
      "cell_type": "code",
      "metadata": {
        "id": "BzPWqrNU_A4q",
        "colab": {
          "base_uri": "https://localhost:8080/"
        },
        "outputId": "95c10fe5-753d-4ce8-d402-518fec15e49b"
      },
      "source": [
        "cadena = 'Programacion de computadores'\n",
        "\n",
        "cadenas = cadena.split()\n",
        "print(cadenas)"
      ],
      "execution_count": null,
      "outputs": [
        {
          "output_type": "stream",
          "name": "stdout",
          "text": [
            "['Programacion', 'de', 'computadores']\n"
          ]
        }
      ]
    },
    {
      "cell_type": "code",
      "metadata": {
        "id": "acPIaWNaPBF_",
        "colab": {
          "base_uri": "https://localhost:8080/"
        },
        "outputId": "1f527f3f-ce40-488c-ca5e-af664b9608b2"
      },
      "source": [
        "cadena = 'pro@gra@mac@ion'\n",
        "\n",
        "cadenas = cadena.split('@')\n",
        "print(cadenas)"
      ],
      "execution_count": null,
      "outputs": [
        {
          "output_type": "stream",
          "name": "stdout",
          "text": [
            "['pro', 'gra', 'mac', 'ion']\n"
          ]
        }
      ]
    },
    {
      "cell_type": "markdown",
      "metadata": {
        "id": "FMm9UYLfA4CG"
      },
      "source": [
        "Así mismo, es posible hacer la separación de una cadena un número de veces determinadas."
      ]
    },
    {
      "cell_type": "code",
      "metadata": {
        "id": "68B4SsbSA7OO",
        "colab": {
          "base_uri": "https://localhost:8080/"
        },
        "outputId": "af21466f-c0b3-4d1c-af64-9f8b8b55ca56"
      },
      "source": [
        "cadena = 'pro@gra@mac@ion'\n",
        "\n",
        "cadenas = cadena.split('@',2)\n",
        "print(cadenas)"
      ],
      "execution_count": null,
      "outputs": [
        {
          "output_type": "stream",
          "text": [
            "['pro', 'gra', 'mac@ion']\n"
          ],
          "name": "stdout"
        }
      ]
    },
    {
      "cell_type": "code",
      "metadata": {
        "id": "8FQZsPRi4bme",
        "colab": {
          "base_uri": "https://localhost:8080/"
        },
        "outputId": "8db3daec-1842-413f-9ba8-57a974cd0e0b"
      },
      "source": [
        "cadena = 'pro@gra@mac@ion'\n",
        "lista = list(cadena)\n",
        "print(lista)"
      ],
      "execution_count": null,
      "outputs": [
        {
          "output_type": "stream",
          "text": [
            "['p', 'r', 'o', '@', 'g', 'r', 'a', '@', 'm', 'a', 'c', '@', 'i', 'o', 'n']\n"
          ],
          "name": "stdout"
        }
      ]
    },
    {
      "cell_type": "markdown",
      "metadata": {
        "id": "sEPkdOHR9g1P"
      },
      "source": [
        "## Ejercicios\n",
        "\n",
        "1.   Implemente una función que, dada una lista de caracteres y un número n (que indica la cantidad de caracteres en la lista), los filtre y genere una lista con las mayúsculas.\n",
        "\n",
        "**Ejemplo:**\n",
        "\n",
        "entrada =\n",
        "4\n",
        "\n",
        "e\n",
        "\n",
        "R\n",
        "\n",
        "K\n",
        "\n",
        "n\n",
        "            \n",
        "2.   Implemente una función que, dada una una cadena que representa **n** números, extraiga los números y luego sume el cuadrado de dichos números\n",
        "\n",
        "**Ejemplo:** cadena = '1%3%2%9%4', resultado = 111\n",
        "\n",
        "3. Dado un número n y una lista de **n** sublistas de dos números enteros, emplear la función filter para filtrar aquellas sublistas donde el primer elemento es mayor o igual al segundo.\n",
        "\n",
        "**Ejemplo:**\n",
        "entrada :\n",
        "\n",
        "4\n",
        "\n",
        "1,6\n",
        "\n",
        "14,9\n",
        "\n",
        "2,7\n",
        "\n",
        "5,5\n",
        "\n",
        "[[1,6],[14,9],[2,7],[5,5]]\n",
        "\n",
        "resultado: [[14,9],[5,5]]\n",
        "\n",
        "\n"
      ]
    },
    {
      "cell_type": "code",
      "metadata": {
        "id": "saywInxsck21",
        "colab": {
          "base_uri": "https://localhost:8080/"
        },
        "outputId": "126acbb7-50cc-4890-f236-b8847d817f12"
      },
      "source": [
        "lista = [3,5,6]\n",
        "numero = 8\n",
        "\n",
        "lista += [numero,0]\n",
        "print(lista)"
      ],
      "execution_count": null,
      "outputs": [
        {
          "output_type": "stream",
          "text": [
            "[3, 5, 6, 8, 0]\n"
          ],
          "name": "stdout"
        }
      ]
    },
    {
      "cell_type": "markdown",
      "metadata": {
        "id": "J2TCk_HLB6b1"
      },
      "source": [
        "##3. Referencias y apuntadores\n",
        "Si ejecutamos estas declaraciones de asignación:\n",
        "```\n",
        "a = \"banana\"\n",
        "b = \"banana\"\n",
        "```\n",
        "sabemos que `a` y `b` se referirán al `string` \"banana\", que está almecenado en la memoria del computador, pero aún no sabemos si apuntan a la misma cadena.\n",
        "\n",
        "Hay dos formas posibles en que el intérprete de Python podría organizar sus estados internos:\n",
        "\n",
        "![picture](https://drive.google.com/uc?export=view&id=1XnF0xuXSIiZqugVq7yNUEtkSDKwta2Wf)\n",
        "\n",
        "\n",
        "o también:\n",
        "\n",
        "![picture](https://drive.google.com/uc?export=view&id=1DYJSxtIQ0NkuXPouXGuxpw1OASmTmOuJ)\n",
        "\n",
        "En el primer caso,  `a` y `b` se refieren a dos `strings` diferentes que tienen el mismo valor.\n",
        "\n",
        "En el segundo caso, se refieren al mismo objeto. Recuerda que un objeto es algo a lo que una variable puede referirse y está almacenado en la memoria del computador.\n",
        "\n",
        "Ya sabemos que los objetos se pueden identificar utilizando su identificador único. También podemos probar si dos nombres se refieren al mismo objeto usando el operador `is`.\n",
        "\n",
        "El operador `is` devolverá verdadero si las dos referencias son al mismo objeto. En otras palabras, las referencias son las mismas, por ejemplo:"
      ]
    },
    {
      "cell_type": "code",
      "metadata": {
        "id": "ULimkOM1Dd6e",
        "colab": {
          "base_uri": "https://localhost:8080/"
        },
        "outputId": "55171b6a-2893-47da-a03d-a3baaffede18"
      },
      "source": [
        "#%%tutor -k -r\n",
        "\n",
        "a = \"banana\"\n",
        "b = \"banana\"\n",
        "\n",
        "print(a is b)\n",
        "print(id(a), id(b))"
      ],
      "execution_count": null,
      "outputs": [
        {
          "output_type": "stream",
          "name": "stdout",
          "text": [
            "True\n",
            "139987769654192 139987769654192\n"
          ]
        }
      ]
    },
    {
      "cell_type": "markdown",
      "metadata": {
        "id": "h0C-WLZ_EF6G"
      },
      "source": [
        "La respuesta es `True`.\n",
        "\n",
        "Esto nos dice que tanto ``a`` como ``b`` se refieren al mismo objeto, lo que significa que el segundo diagrama de referencia es el que describe la relación.\n",
        "\n",
        "Dado que las cadenas son inmutables, Python puede optimizar los recursos haciendo que dos nombres que se refieren al mismo valor literal de cadena se refieran al mismo objeto.\n",
        "\n",
        "Este no es el caso de las listas.\n",
        "\n",
        "Considere el siguiente ejemplo:"
      ]
    },
    {
      "cell_type": "code",
      "metadata": {
        "id": "Iegdl_EeEe-F",
        "colab": {
          "base_uri": "https://localhost:8080/"
        },
        "outputId": "21ffe004-33ed-49b6-85ac-b2ea7b9277c7"
      },
      "source": [
        "#%%tutor -k -r\n",
        "\n",
        "a = [81, 82, 83]\n",
        "b = [81, 82, 83]\n",
        "c = a[:]\n",
        "print(c)\n",
        "print(c is a)\n",
        "\n",
        "print(a is c)\n",
        "print(a is b)\n",
        "print(a == b)\n",
        "\n",
        "print(id(a))\n",
        "print(id(b))\n",
        "print(id(c))\n",
        "\n",
        "print(a[0] is b[0])"
      ],
      "execution_count": null,
      "outputs": [
        {
          "output_type": "stream",
          "name": "stdout",
          "text": [
            "[81, 82, 83]\n",
            "False\n",
            "False\n",
            "False\n",
            "True\n",
            "139987633263072\n",
            "139987633312784\n",
            "139987633264992\n",
            "True\n"
          ]
        }
      ]
    },
    {
      "cell_type": "code",
      "metadata": {
        "id": "JTohB9ZwedM7",
        "colab": {
          "base_uri": "https://localhost:8080/"
        },
        "outputId": "b306b3f3-fcb0-41a1-9aaa-34ba0f27004a"
      },
      "source": [
        "print(a[1] is b[1])\n",
        "print(a[1] == b[1])"
      ],
      "execution_count": null,
      "outputs": [
        {
          "output_type": "stream",
          "name": "stdout",
          "text": [
            "True\n",
            "True\n"
          ]
        }
      ]
    },
    {
      "cell_type": "markdown",
      "metadata": {
        "id": "Je4JsVOiEfKk"
      },
      "source": [
        "Aquí,  `a` y `b` se refieren a dos listas diferentes, cada una de las cuales tiene los mismos valores de elementos.\n",
        "\n",
        "El diagrama de referencia para este ejemplo se ve así:\n",
        "\n",
        "![picture](https://drive.google.com/uc?export=view&id=1cmvd4if_aO7JpejWtaZIKMgzJONg65UW)\n",
        "\n",
        "Hay otra cosa importante a tener en cuenta sobre este diagrama de referencia:\n",
        "\n",
        "La variable $a$ es una referencia a una colección de referencias.\n",
        "\n",
        "Esas referencias realmente se refieren a los valores enteros en la lista, en otras palabras, una lista es una colección de referencias a objetos.\n",
        "\n",
        "Curiosamente, aunque $a$ y $b$ son dos listas diferentes (dos colecciones de referencias diferentes), el objeto entero 81 es compartido por ambas. Al igual que las cadenas, los enteros también son inmutables, por lo que Python optimiza y permite que todos compartan el mismo objeto para algunos enteros pequeños de uso común."
      ]
    },
    {
      "cell_type": "markdown",
      "metadata": {
        "id": "iy8b16hjFriF"
      },
      "source": [
        "Ahora, ¿qué pasaría si dos variables apuntan al mismo objeto?\n",
        "\n",
        "Dado que las variables se refieren a objetos, si asignamos una variable a otra, ambas variables se refirían al mismo objeto:"
      ]
    },
    {
      "cell_type": "code",
      "metadata": {
        "id": "N5x7WKahGBrV",
        "colab": {
          "base_uri": "https://localhost:8080/"
        },
        "outputId": "4cb9b201-31e7-4bda-8ae5-4b98d60cb1a6"
      },
      "source": [
        "#%%tutor -k -r\n",
        "\n",
        "a = [81, 82, 83]\n",
        "b = a\n",
        "\n",
        "print(a is b)"
      ],
      "execution_count": null,
      "outputs": [
        {
          "output_type": "stream",
          "name": "stdout",
          "text": [
            "True\n"
          ]
        }
      ]
    },
    {
      "cell_type": "markdown",
      "metadata": {
        "id": "WwkhyK-vGDCm"
      },
      "source": [
        "En este caso, el diagrama de referencia se ve así:\n",
        "\n",
        "![picture](https://drive.google.com/uc?export=view&id=1yFFsLpxWpJqfS_IWx6Yb4RTvN26vnLyp)\n",
        "\n",
        "Debido a que la misma lista tiene dos nombres diferentes, $a$ y $b$, decimos que tiene un alias.\n",
        "\n",
        "***Los cambios realizados con un alias afectan al otro.***\n",
        "\n",
        "En el ejemplo de código a continuación, puede ver que $a$ y $b$ se refieren a la misma lista después de ejecutar la instrucción de asignación ```b = a```."
      ]
    },
    {
      "cell_type": "code",
      "metadata": {
        "id": "aXq0htoCGx5E",
        "colab": {
          "base_uri": "https://localhost:8080/"
        },
        "outputId": "c131398f-2277-4b1a-982a-c722f603722b"
      },
      "source": [
        "#%%tutor -k -r\n",
        "\n",
        "a = [81, 82, 83]\n",
        "b = a\n",
        "print(a is b)\n",
        "\n",
        "print(a)\n",
        "print(b)\n",
        "\n",
        "a[1] = \"wow\"\n",
        "#b[1] = 'wow'\n",
        "\n",
        "\n",
        "print(a)\n",
        "print(b)\n",
        "\n"
      ],
      "execution_count": null,
      "outputs": [
        {
          "output_type": "stream",
          "name": "stdout",
          "text": [
            "True\n",
            "[81, 82, 83]\n",
            "[81, 82, 83]\n",
            "[81, 'wow', 83]\n",
            "[81, 'wow', 83]\n"
          ]
        }
      ]
    },
    {
      "cell_type": "markdown",
      "metadata": {
        "id": "JpZzS9h1HIxG"
      },
      "source": [
        "Si queremos modificar una lista y también conservar una copia del original, necesitamos poder hacer una copia de la lista en sí, no solo de la referencia.\n",
        "\n",
        "Este proceso a veces se denomina **clonación** (para evitar la ambigüedad de la palabra copia).\n",
        "\n",
        "La forma más fácil de clonar una lista es usar el operador `:` para obtener \"sub-lista\" completa (el que usa los paréntesis cuadrados).\n",
        "\n",
        "Tomar cualquier \"sub-lista\" crea una nueva lista; en este caso, la porción consiste en la lista completa."
      ]
    },
    {
      "cell_type": "code",
      "metadata": {
        "id": "AwG_-oNzH04r",
        "colab": {
          "base_uri": "https://localhost:8080/"
        },
        "outputId": "c192f646-46f0-4066-babe-a3d42c399c7b"
      },
      "source": [
        "%%tutor -k -r\n",
        "\n",
        "a = [81, 82, 83]\n",
        "b = a[:] #Copia\n",
        "\n",
        "print(a is b)\n",
        "\n",
        "print(a)\n",
        "print(b)\n",
        "\n",
        "a[1] = \"wow\"\n",
        "\n",
        "print(a)\n",
        "print(b)\n",
        "print(a[0] is b[0])"
      ],
      "execution_count": null,
      "outputs": [
        {
          "output_type": "stream",
          "name": "stderr",
          "text": [
            "UsageError: Cell magic `%%tutor` not found.\n"
          ]
        }
      ]
    },
    {
      "cell_type": "code",
      "metadata": {
        "id": "mAO1PC-MIKV4",
        "colab": {
          "base_uri": "https://localhost:8080/"
        },
        "outputId": "ee0686f3-4aad-463f-bf3f-f8b2eea8356f"
      },
      "source": [
        "a = -1\n",
        "for i in range(3):\n",
        "  if i == 0:\n",
        "    a = i\n",
        "  print(a is i)\n",
        "  print(a)"
      ],
      "execution_count": null,
      "outputs": [
        {
          "output_type": "stream",
          "text": [
            "True\n",
            "0\n",
            "False\n",
            "0\n",
            "False\n",
            "0\n"
          ],
          "name": "stdout"
        }
      ]
    },
    {
      "cell_type": "markdown",
      "metadata": {
        "id": "_pHww52kH8Jh"
      },
      "source": [
        "Como una lista puede tener listas anidadas, podemos acceder así:"
      ]
    },
    {
      "cell_type": "code",
      "metadata": {
        "id": "ts5nuCPuICLC",
        "colab": {
          "base_uri": "https://localhost:8080/"
        },
        "outputId": "c2241f90-ab64-4523-ec62-8c4730986469"
      },
      "source": [
        "#%%tutor -k -r\n",
        "\n",
        "a = [[10, 11, 12], [20, 21, 22], [30, 31, 32]]\n",
        "b = a[0]\n",
        "print(b) #[10,11,12]\n",
        "\n",
        "print(b[2]) #12\n",
        "\n",
        "print(a[0])\n",
        "\n",
        "print(a[2][1])\n",
        "\n",
        "print(a[1][1])"
      ],
      "execution_count": null,
      "outputs": [
        {
          "output_type": "stream",
          "name": "stdout",
          "text": [
            "[10, 11, 12]\n",
            "12\n",
            "[10, 11, 12]\n",
            "31\n",
            "21\n"
          ]
        }
      ]
    },
    {
      "cell_type": "code",
      "metadata": {
        "id": "R0cYreqb3QpO",
        "colab": {
          "base_uri": "https://localhost:8080/"
        },
        "outputId": "8169db2c-b95f-4926-f5ae-a444199564da"
      },
      "source": [
        "a = [[10, 11, 12, [3, 5, [7,6,8]]], [20, 21, 22], [30, 31, 32]]\n",
        "print(a[0][3][2])\n",
        "print(a[0][3][2][1])"
      ],
      "execution_count": null,
      "outputs": [
        {
          "output_type": "stream",
          "name": "stdout",
          "text": [
            "[7, 6, 8]\n",
            "6\n"
          ]
        }
      ]
    },
    {
      "cell_type": "markdown",
      "metadata": {
        "id": "YmiA_g8IGACW"
      },
      "source": [
        "Cuando se clona una lista, no se clonan las listas internas. Es importante tener esto en cuenta. El siguiente código ilustra lo que pasa con las listas internas. ¿Qué lista imprime al final?"
      ]
    },
    {
      "cell_type": "code",
      "metadata": {
        "id": "o3zVSSB4kRAD",
        "colab": {
          "base_uri": "https://localhost:8080/"
        },
        "outputId": "bb0d8c3a-7473-4cb6-879b-709aa7b2ef67"
      },
      "source": [
        "a = [list(range(3))] * 3\n",
        "print(a)\n",
        "clone = a[:]\n",
        "print(clone)\n",
        "print(clone[1][2])\n",
        "print(a[0] is clone[0])\n",
        "print(id(a[0]), id(clone[0]))"
      ],
      "execution_count": null,
      "outputs": [
        {
          "output_type": "stream",
          "name": "stdout",
          "text": [
            "[[0, 1, 2], [0, 1, 2], [0, 1, 2]]\n",
            "[[0, 1, 2], [0, 1, 2], [0, 1, 2]]\n",
            "2\n",
            "True\n",
            "139987633643920 139987633643920\n"
          ]
        }
      ]
    },
    {
      "cell_type": "code",
      "metadata": {
        "id": "hiwNe24a7tIj",
        "colab": {
          "base_uri": "https://localhost:8080/"
        },
        "outputId": "85b8d859-3cd6-458c-ff98-95ec04b64dfb"
      },
      "source": [
        "#%%tutor -k -r\n",
        "\n",
        "a = [list(range(3))] * 3\n",
        "print('a inicial:', a)\n",
        "\n",
        "b = a\n",
        "print('b', b)\n",
        "\n",
        "clone = a[:]\n",
        "print('clone inicial:', clone)\n",
        "\n"
      ],
      "execution_count": null,
      "outputs": [
        {
          "output_type": "stream",
          "name": "stdout",
          "text": [
            "a inicial: [[0, 1, 2], [0, 1, 2], [0, 1, 2]]\n",
            "b [[0, 1, 2], [0, 1, 2], [0, 1, 2]]\n",
            "clone inicial: [[0, 1, 2], [0, 1, 2], [0, 1, 2]]\n"
          ]
        }
      ]
    },
    {
      "cell_type": "code",
      "metadata": {
        "id": "pnPLUpn6JzZ6",
        "colab": {
          "base_uri": "https://localhost:8080/"
        },
        "outputId": "0af82491-c705-481d-8764-01e676961616"
      },
      "source": [
        "b[1] = 10\n",
        "print('b intermedio:', b)\n",
        "print('a intermedio:', a)\n",
        "print('clone intermedio:', clone)\n",
        "\n",
        "\n",
        "\n"
      ],
      "execution_count": null,
      "outputs": [
        {
          "output_type": "stream",
          "name": "stdout",
          "text": [
            "b intermedio: [[0, 1, 2], 10, [0, 1, 2]]\n",
            "a intermedio: [[0, 1, 2], 10, [0, 1, 2]]\n",
            "clone intermedio: [[0, 1, 2], [0, 1, 2], [0, 1, 2]]\n"
          ]
        }
      ]
    },
    {
      "cell_type": "code",
      "metadata": {
        "id": "77uutv79J_Qm",
        "colab": {
          "base_uri": "https://localhost:8080/"
        },
        "outputId": "54846a0c-941b-4604-f9b0-2d9c74b9bd53"
      },
      "source": [
        "clone[2] = 50\n",
        "\n",
        "print('clone final:', clone)\n",
        "print('a final:' , a)\n",
        "\n",
        "\n"
      ],
      "execution_count": null,
      "outputs": [
        {
          "output_type": "stream",
          "name": "stdout",
          "text": [
            "clone final: [[0, 40, 2], [0, 40, 2], 50]\n",
            "a final: [[0, 40, 2], 10, [0, 40, 2]]\n"
          ]
        }
      ]
    },
    {
      "cell_type": "code",
      "metadata": {
        "id": "lAWI_JBgKPPr",
        "colab": {
          "base_uri": "https://localhost:8080/"
        },
        "outputId": "bb9d67e3-3875-4620-934c-b5145baf2db2"
      },
      "source": [
        "clone[0][1] = 40\n",
        "\n",
        "print('clone final:', clone)\n",
        "print('a final:' , a)\n"
      ],
      "execution_count": null,
      "outputs": [
        {
          "output_type": "stream",
          "name": "stdout",
          "text": [
            "clone final: [[0, 40, 2], [0, 40, 2], 50]\n",
            "a final: [[0, 40, 2], 10, [0, 40, 2]]\n"
          ]
        }
      ]
    },
    {
      "cell_type": "markdown",
      "metadata": {
        "id": "unVsglYqPTAy"
      },
      "source": [
        "## 4. Ejemplos"
      ]
    },
    {
      "cell_type": "markdown",
      "metadata": {
        "id": "MBisdCNWJkkN"
      },
      "source": [
        "### 4.1 Copia de lista con sublistas\n",
        "\n",
        "El problema es hacer un clon de una lista que contiene sublistas:\n",
        "\n",
        "```python\n",
        "[[1,2,3], 4, [5,6]]\n",
        "```\n"
      ]
    },
    {
      "cell_type": "code",
      "metadata": {
        "id": "F5pJ3pSxQ4Hq",
        "colab": {
          "base_uri": "https://localhost:8080/"
        },
        "outputId": "554983e4-c867-4aab-b55d-d3d64645bf13"
      },
      "source": [
        "type([1, 2, 3])"
      ],
      "execution_count": null,
      "outputs": [
        {
          "output_type": "execute_result",
          "data": {
            "text/plain": [
              "list"
            ]
          },
          "metadata": {},
          "execution_count": 31
        }
      ]
    },
    {
      "cell_type": "code",
      "metadata": {
        "id": "ctiWN1TkPsul",
        "colab": {
          "base_uri": "https://localhost:8080/"
        },
        "outputId": "f68365b2-f770-4b08-95db-e003abf287be"
      },
      "source": [
        "#%%tutor -k -r\n",
        "\n",
        "def clonar_sublistas(lista):\n",
        "  clon = []\n",
        "  for elem in lista:\n",
        "    if type(elem) == list:\n",
        "      clon.append(elem[:])\n",
        "    else:\n",
        "      clon.append(elem)\n",
        "  return clon\n",
        "\n",
        "a = [[1,2,3], 4, [5,6]]\n",
        "b = clonar_sublistas(a)\n",
        "#b[0][1] = 20\n",
        "print(a)\n",
        "print(b)\n",
        "print(a[0] is b[0])"
      ],
      "execution_count": null,
      "outputs": [
        {
          "output_type": "stream",
          "name": "stdout",
          "text": [
            "[[1, 2, 3], 4, [5, 6]]\n",
            "[[1, 2, 3], 4, [5, 6]]\n",
            "False\n"
          ]
        }
      ]
    },
    {
      "cell_type": "markdown",
      "metadata": {
        "id": "h_cORQj6SBW_"
      },
      "source": [
        "Sin embargo, esta solución no funciona con listas que tengan más de un nivel de anidamiento:"
      ]
    },
    {
      "cell_type": "code",
      "metadata": {
        "id": "mYZqA5PSSNKm",
        "colab": {
          "base_uri": "https://localhost:8080/"
        },
        "outputId": "0f91ea13-4c76-407b-92f7-ab863c4c867a"
      },
      "source": [
        "#%%tutor -k -r\n",
        "def clonar_sublistas(lista):\n",
        "  clon = []\n",
        "  for elem in lista:\n",
        "    if type(elem) == list:\n",
        "      clon.append(elem[:])\n",
        "    else:\n",
        "      clon.append(elem)\n",
        "  return clon\n",
        "\n",
        "a = [ 4, [2, [5, 6]], 7]\n",
        "b = clonar_sublistas(a)\n",
        "b[1][1][1] = 20\n",
        "print(a)\n",
        "print(b)"
      ],
      "execution_count": null,
      "outputs": [
        {
          "output_type": "stream",
          "name": "stdout",
          "text": [
            "[4, [2, [5, 20]], 7]\n",
            "[4, [2, [5, 20]], 7]\n"
          ]
        }
      ]
    },
    {
      "cell_type": "markdown",
      "metadata": {
        "id": "yyxTlE4rS7hA"
      },
      "source": [
        "La solución es hacer una copia profunda, la cual requiere recursión. Tema que veremos más adelante."
      ]
    },
    {
      "cell_type": "markdown",
      "metadata": {
        "id": "o-OKU_amKgpc"
      },
      "source": [
        "### 4.2 Sublista de suma máxima\n",
        "En general, usar listas da una gran flexibilidad para almacenar y guardar información.\n",
        "\n",
        "Supongamos que tenemos una lista con números enteros positivos y negativos, y queremos saber cuál es la \"sub-lista\" cuya suma sea máxima:\n",
        "Ejemplo:\n",
        "\n",
        "Si nuestra lista es ```lista = [-1,-3, 7, 5, -4, 8, -15, 3] ```, la máxima suma que podemos obtener de una \"sub-lista\", es 16, que es la sub-lista ``` lista[2:6] ```\n",
        "\n",
        "La forma más simple de obtener dicha lista, es buscar en cada posible sublista, cuál es su suma, y guardar la que de la suma más alta:"
      ]
    },
    {
      "cell_type": "code",
      "metadata": {
        "id": "zZeT1t8fM7NP",
        "colab": {
          "base_uri": "https://localhost:8080/"
        },
        "outputId": "8a2150a3-3f55-4f9a-e261-d0da0197041c"
      },
      "source": [
        "#%%tutor -k -r\n",
        "\n",
        "lista = [-1,-3, 7 , 5 ,-4, 8, -15, -3]\n",
        "#lista = [ -8, -15, 3]\n",
        "maxlista = []\n",
        "\n",
        "maxsum = -float(\"Inf\")\n",
        "#print(maxsum)\n",
        "iters = 0\n",
        "for i in range(len(lista)):\n",
        "  for j in range(i, len(lista) + 1):\n",
        "    iters += 1\n",
        "    if sum(lista[i:j]) > maxsum:\n",
        "      maxsum = sum(lista[i:j])\n",
        "      maxlista = lista[i:j]\n",
        "\n",
        "print(maxlista)\n",
        "print(maxsum)\n",
        "print(f\"Iteraciones: {iters}\")"
      ],
      "execution_count": null,
      "outputs": [
        {
          "output_type": "stream",
          "name": "stdout",
          "text": [
            "[7, 5, -4, 8]\n",
            "16\n",
            "Iteraciones: 44\n"
          ]
        }
      ]
    },
    {
      "cell_type": "code",
      "metadata": {
        "id": "uqidKu2PVgdm",
        "colab": {
          "base_uri": "https://localhost:8080/"
        },
        "outputId": "5fa98125-28a9-440c-9980-f634c338dc4f"
      },
      "source": [
        "lista[2:3]"
      ],
      "execution_count": null,
      "outputs": [
        {
          "output_type": "execute_result",
          "data": {
            "text/plain": [
              "[7]"
            ]
          },
          "metadata": {},
          "execution_count": 39
        }
      ]
    },
    {
      "cell_type": "markdown",
      "metadata": {
        "id": "ZDGxdWKNiwQj"
      },
      "source": [
        "### 4.3 Manejo de un inventario\n",
        "\n",
        "Un inventario de productos puede ser representado por una lista de listas de la siguiente forma:\n",
        "\n",
        "```\n",
        "[[‘Jabón’,8],[‘Pan’,10],[‘Huevos’,11], [‘Pan’,3]]\n",
        "```\n",
        "\n",
        "Cada sublistas corresponde a un producto. El primer elemento de la sublista de un producto contiene el nombre, el segundo la cantidad. Es posible que haya más de una entrada para el mismo producto.\n",
        "\n",
        "1. Creemos una función que imprima un inventario:\n",
        "\n",
        "2. Creemos una función que retorne una lista con los nombres de los productos. Si hay más de una entrada para un producto, este solo debe aparecer una vez en la lista resultante.\n",
        "\n",
        "3. Creemos una función que reciba un inventario y consolide los productos duplicados. En el inventario resultante, la cantidad de un producto dado debe corresponder a la suma de las cantidades en cada una de las entradas del producto."
      ]
    },
    {
      "cell_type": "code",
      "metadata": {
        "id": "6rsfzsPrMkBT",
        "colab": {
          "base_uri": "https://localhost:8080/"
        },
        "outputId": "852e63e6-3c2d-4a2a-db49-2d27c431f481"
      },
      "source": [
        "#%%tutor -k -r\n",
        "\n",
        "def imprimir_inventario(inventario):\n",
        "  for [nombre, cant] in inventario:\n",
        "    print(f\"Prod: {nombre} Cant:{cant}\")\n",
        "\n",
        "def imprimir_inventario_largo(inventario):\n",
        "  for elem in inventario:\n",
        "    nombre = elem[0]\n",
        "    cant   = elem[1]\n",
        "    print(f\"Prod: {nombre} Cant:{cant}\")\n",
        "\n",
        "def nombres_productos(inventario):\n",
        "  nombres = []\n",
        "  for [nombre, cantidad] in inventario:\n",
        "    if nombre not in nombres:\n",
        "      nombres.append(nombre)\n",
        "  return nombres\n",
        "\n",
        "def consolidar_inventario(inventario):\n",
        "  nombres = nombres_productos(inventario)\n",
        "  inventario_consolidado = []\n",
        "  for nombre_no_repetido in nombres:\n",
        "    inventario_consolidado.append([nombre_no_repetido,0])\n",
        "    for [nombre, cantidad] in inventario:\n",
        "      if nombre == nombre_no_repetido:\n",
        "        inventario_consolidado[-1][1] += cantidad\n",
        "  return inventario_consolidado\n",
        "\n",
        "invent = [['Jabón',8],['Pan',10],['Huevos',11], ['Pan',3]]\n",
        "#imprimir_inventario(invent)\n",
        "#print(nombres_productos(invent))\n",
        "invent2 = consolidar_inventario(invent)\n",
        "imprimir_inventario(invent2)"
      ],
      "execution_count": null,
      "outputs": [
        {
          "output_type": "stream",
          "name": "stdout",
          "text": [
            "Prod: Jabón Cant:8\n",
            "Prod: Pan Cant:13\n",
            "Prod: Huevos Cant:11\n"
          ]
        }
      ]
    },
    {
      "cell_type": "markdown",
      "metadata": {
        "id": "nBGRpBdcM5_q"
      },
      "source": [
        "## 5. Ejercicios\n",
        "1. Crear una lista con los números del 1 al 100\n",
        "2. Cree una función que reciba una lista con números enteros y retorne dos listas: una con los números pares, y otra con los números impares\n",
        "3. Cree una función que reciba una lista y un número $x$, y retorne el número en la lista que está más cerca a $x$\n",
        "4. Cree una función que reciba una lista de números enteros, dos números enteros $x$ y $y$ y elimine  de la lista todos los números que están entre $x$ y $y$.\n",
        "5. Cree una función que genere una lista con los primeros $n$  números primos."
      ]
    },
    {
      "cell_type": "code",
      "metadata": {
        "id": "na2rgoz0PSLt"
      },
      "source": [
        "# Solución 1\n",
        "\n",
        "\n",
        "\n",
        "\n"
      ],
      "execution_count": null,
      "outputs": []
    },
    {
      "cell_type": "code",
      "metadata": {
        "id": "rcfMlLnTPanh"
      },
      "source": [
        "# Solución 2\n",
        "\n",
        "\n",
        "\n",
        "\n",
        "\n",
        ""
      ],
      "execution_count": null,
      "outputs": []
    },
    {
      "cell_type": "code",
      "metadata": {
        "id": "ybZGg0-SP2T1"
      },
      "source": [
        "# Solución 3\n",
        "\n",
        "\n",
        "\n",
        "\n"
      ],
      "execution_count": null,
      "outputs": []
    },
    {
      "cell_type": "code",
      "metadata": {
        "id": "99XmECpnQj7y"
      },
      "source": [
        "# Solución 4\n",
        "\n",
        "\n",
        "\n",
        "\n"
      ],
      "execution_count": null,
      "outputs": []
    },
    {
      "cell_type": "code",
      "metadata": {
        "id": "CrETSdKORF-2"
      },
      "source": [
        "# Solución 5\n",
        "\n",
        "\n",
        "\n",
        "\n",
        "\n"
      ],
      "execution_count": null,
      "outputs": []
    }
  ]
}