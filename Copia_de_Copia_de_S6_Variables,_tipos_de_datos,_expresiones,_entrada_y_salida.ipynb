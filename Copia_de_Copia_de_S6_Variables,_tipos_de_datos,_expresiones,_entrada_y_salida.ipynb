{
  "nbformat": 4,
  "nbformat_minor": 0,
  "metadata": {
    "colab": {
      "provenance": [],
      "include_colab_link": true
    },
    "kernelspec": {
      "name": "python3",
      "display_name": "Python 3"
    }
  },
  "cells": [
    {
      "cell_type": "markdown",
      "metadata": {
        "id": "view-in-github",
        "colab_type": "text"
      },
      "source": [
        "<a href=\"https://colab.research.google.com/github/dicabreras/Python-C-C-/blob/main/Copia_de_Copia_de_S6_Variables%2C_tipos_de_datos%2C_expresiones%2C_entrada_y_salida.ipynb\" target=\"_parent\"><img src=\"https://colab.research.google.com/assets/colab-badge.svg\" alt=\"Open In Colab\"/></a>"
      ]
    },
    {
      "cell_type": "markdown",
      "metadata": {
        "id": "4lsSNrPZABnp"
      },
      "source": [
        "# Variables, tipos de datos, expresiones, E/S\n",
        "### Programación de Computadores\n",
        "\n",
        "### Universidad Nacional de Colombia\n",
        "--------\n",
        "Este material fue tomado y adaptado del libro How to Think Like a Computer Scientist: Learning with Python 3, Capítulo 1 y 2\n",
        "\n",
        "*   http://interactivepython.org/courselib/static/thinkcspy/index.html\n",
        "*   http://www.ict.ru.ac.za/Resources/cspw/thinkcspy3/thinkcspy3.pdf\n",
        "*   https://argentinaenpython.com/quiero-aprender-python/aprenda-a-pensar-como-un-programador-con-python.pdf\n",
        "\n",
        "## Copyright Notice\n",
        "Copyright (C) Brad Miller, David Ranum, Jeffrey Elkner, Peter Wentworth, Allen B. Downey, Chris\n",
        "Meyers, and Dario Mitchell. Permission is granted to copy, distribute\n",
        "and/or modify this document under the terms of the GNU Free Documentation\n",
        "License, Version 1.3 or any later version published by the Free Software\n",
        "Foundation; with Invariant Sections being Forward, Prefaces, and\n",
        "Contributor List, no Front-Cover Texts, and no Back-Cover Texts. A copy of\n",
        "the license is included in the section entitled “GNU Free Documentation\n",
        "License”.\n",
        "\n",
        "--------"
      ]
    },
    {
      "cell_type": "markdown",
      "metadata": {
        "id": "E5AkbAKnEV3x"
      },
      "source": [
        "**Nota:** Ejecutar el siguiente código para garantizar el funcionamiento correcto del notebook"
      ]
    },
    {
      "cell_type": "code",
      "metadata": {
        "id": "bzurwioACoF0",
        "colab": {
          "base_uri": "https://localhost:8080/",
          "height": 741
        },
        "outputId": "c6cd0e4e-6fb4-4029-d07c-1b5b8db5d8c0"
      },
      "source": [
        "%pip install tutormagic\n",
        "%load_ext tutormagic"
      ],
      "execution_count": null,
      "outputs": [
        {
          "output_type": "stream",
          "text": [
            "Collecting tutormagic\n",
            "  Downloading https://files.pythonhosted.org/packages/26/4c/170e56dce3ecbf0608f37b3b99100bd2666cac181da14bc685516e958435/tutormagic-0.3.0-py2.py3-none-any.whl\n",
            "Requirement already satisfied: notebook>=3.0 in /usr/local/lib/python3.6/dist-packages (from tutormagic) (5.3.1)\n",
            "Requirement already satisfied: nbformat in /usr/local/lib/python3.6/dist-packages (from notebook>=3.0->tutormagic) (5.0.7)\n",
            "Requirement already satisfied: ipykernel in /usr/local/lib/python3.6/dist-packages (from notebook>=3.0->tutormagic) (4.10.1)\n",
            "Requirement already satisfied: Send2Trash in /usr/local/lib/python3.6/dist-packages (from notebook>=3.0->tutormagic) (1.5.0)\n",
            "Requirement already satisfied: terminado>=0.8.1 in /usr/local/lib/python3.6/dist-packages (from notebook>=3.0->tutormagic) (0.8.3)\n",
            "Requirement already satisfied: jupyter-core>=4.4.0 in /usr/local/lib/python3.6/dist-packages (from notebook>=3.0->tutormagic) (4.6.3)\n",
            "Requirement already satisfied: ipython-genutils in /usr/local/lib/python3.6/dist-packages (from notebook>=3.0->tutormagic) (0.2.0)\n",
            "Requirement already satisfied: tornado>=4 in /usr/local/lib/python3.6/dist-packages (from notebook>=3.0->tutormagic) (5.1.1)\n",
            "Requirement already satisfied: traitlets>=4.2.1 in /usr/local/lib/python3.6/dist-packages (from notebook>=3.0->tutormagic) (4.3.3)\n",
            "Requirement already satisfied: jinja2 in /usr/local/lib/python3.6/dist-packages (from notebook>=3.0->tutormagic) (2.11.2)\n",
            "Requirement already satisfied: jupyter-client>=5.2.0 in /usr/local/lib/python3.6/dist-packages (from notebook>=3.0->tutormagic) (5.3.5)\n",
            "Requirement already satisfied: nbconvert in /usr/local/lib/python3.6/dist-packages (from notebook>=3.0->tutormagic) (5.6.1)\n",
            "Requirement already satisfied: jsonschema!=2.5.0,>=2.4 in /usr/local/lib/python3.6/dist-packages (from nbformat->notebook>=3.0->tutormagic) (2.6.0)\n",
            "Requirement already satisfied: ipython>=4.0.0 in /usr/local/lib/python3.6/dist-packages (from ipykernel->notebook>=3.0->tutormagic) (5.5.0)\n",
            "Requirement already satisfied: ptyprocess; os_name != \"nt\" in /usr/local/lib/python3.6/dist-packages (from terminado>=0.8.1->notebook>=3.0->tutormagic) (0.6.0)\n",
            "Requirement already satisfied: six in /usr/local/lib/python3.6/dist-packages (from traitlets>=4.2.1->notebook>=3.0->tutormagic) (1.15.0)\n",
            "Requirement already satisfied: decorator in /usr/local/lib/python3.6/dist-packages (from traitlets>=4.2.1->notebook>=3.0->tutormagic) (4.4.2)\n",
            "Requirement already satisfied: MarkupSafe>=0.23 in /usr/local/lib/python3.6/dist-packages (from jinja2->notebook>=3.0->tutormagic) (1.1.1)\n",
            "Requirement already satisfied: python-dateutil>=2.1 in /usr/local/lib/python3.6/dist-packages (from jupyter-client>=5.2.0->notebook>=3.0->tutormagic) (2.8.1)\n",
            "Requirement already satisfied: pyzmq>=13 in /usr/local/lib/python3.6/dist-packages (from jupyter-client>=5.2.0->notebook>=3.0->tutormagic) (19.0.2)\n",
            "Requirement already satisfied: pandocfilters>=1.4.1 in /usr/local/lib/python3.6/dist-packages (from nbconvert->notebook>=3.0->tutormagic) (1.4.2)\n",
            "Requirement already satisfied: defusedxml in /usr/local/lib/python3.6/dist-packages (from nbconvert->notebook>=3.0->tutormagic) (0.6.0)\n",
            "Requirement already satisfied: mistune<2,>=0.8.1 in /usr/local/lib/python3.6/dist-packages (from nbconvert->notebook>=3.0->tutormagic) (0.8.4)\n",
            "Requirement already satisfied: pygments in /usr/local/lib/python3.6/dist-packages (from nbconvert->notebook>=3.0->tutormagic) (2.6.1)\n",
            "Requirement already satisfied: entrypoints>=0.2.2 in /usr/local/lib/python3.6/dist-packages (from nbconvert->notebook>=3.0->tutormagic) (0.3)\n",
            "Requirement already satisfied: bleach in /usr/local/lib/python3.6/dist-packages (from nbconvert->notebook>=3.0->tutormagic) (3.1.5)\n",
            "Requirement already satisfied: testpath in /usr/local/lib/python3.6/dist-packages (from nbconvert->notebook>=3.0->tutormagic) (0.4.4)\n",
            "Requirement already satisfied: pickleshare in /usr/local/lib/python3.6/dist-packages (from ipython>=4.0.0->ipykernel->notebook>=3.0->tutormagic) (0.7.5)\n",
            "Requirement already satisfied: setuptools>=18.5 in /usr/local/lib/python3.6/dist-packages (from ipython>=4.0.0->ipykernel->notebook>=3.0->tutormagic) (50.3.0)\n",
            "Requirement already satisfied: pexpect; sys_platform != \"win32\" in /usr/local/lib/python3.6/dist-packages (from ipython>=4.0.0->ipykernel->notebook>=3.0->tutormagic) (4.8.0)\n",
            "Requirement already satisfied: prompt-toolkit<2.0.0,>=1.0.4 in /usr/local/lib/python3.6/dist-packages (from ipython>=4.0.0->ipykernel->notebook>=3.0->tutormagic) (1.0.18)\n",
            "Requirement already satisfied: simplegeneric>0.8 in /usr/local/lib/python3.6/dist-packages (from ipython>=4.0.0->ipykernel->notebook>=3.0->tutormagic) (0.8.1)\n",
            "Requirement already satisfied: webencodings in /usr/local/lib/python3.6/dist-packages (from bleach->nbconvert->notebook>=3.0->tutormagic) (0.5.1)\n",
            "Requirement already satisfied: packaging in /usr/local/lib/python3.6/dist-packages (from bleach->nbconvert->notebook>=3.0->tutormagic) (20.4)\n",
            "Requirement already satisfied: wcwidth in /usr/local/lib/python3.6/dist-packages (from prompt-toolkit<2.0.0,>=1.0.4->ipython>=4.0.0->ipykernel->notebook>=3.0->tutormagic) (0.2.5)\n",
            "Requirement already satisfied: pyparsing>=2.0.2 in /usr/local/lib/python3.6/dist-packages (from packaging->bleach->nbconvert->notebook>=3.0->tutormagic) (2.4.7)\n",
            "Installing collected packages: tutormagic\n",
            "Successfully installed tutormagic-0.3.0\n"
          ],
          "name": "stdout"
        }
      ]
    },
    {
      "cell_type": "markdown",
      "metadata": {
        "id": "F4F5oQuYaA2r"
      },
      "source": [
        "## **1 Sentencia print**"
      ]
    },
    {
      "cell_type": "markdown",
      "metadata": {
        "id": "YQiRXjH_Xvix"
      },
      "source": [
        "Tradicionalmente el primer programa en un lenguaje nuevo se llama “Hola mundo!” (Hello world!). En Python es así:"
      ]
    },
    {
      "cell_type": "code",
      "metadata": {
        "id": "39UIlwcpXquo",
        "colab": {
          "base_uri": "https://localhost:8080/",
          "height": 34
        },
        "outputId": "6eb2cc00-57d0-4001-cc97-f9f9d0370e40"
      },
      "source": [
        "print(\"Hola mundo!\")"
      ],
      "execution_count": null,
      "outputs": [
        {
          "output_type": "stream",
          "text": [
            "Hola mundo!\n"
          ],
          "name": "stdout"
        }
      ]
    },
    {
      "cell_type": "markdown",
      "metadata": {
        "id": "qBRLM9TpYXSN"
      },
      "source": [
        "El anterior es un ejemplo de una sentencia print, la cual muestra el valor que se pasa entre paréntesis. A continuación otro ejemplo, en el cual se encarga de imprimir el número 5:"
      ]
    },
    {
      "cell_type": "code",
      "metadata": {
        "id": "KhwS1zMpZtGU",
        "colab": {
          "base_uri": "https://localhost:8080/",
          "height": 34
        },
        "outputId": "80d60c38-1588-403a-aa75-4176293265ea"
      },
      "source": [
        "print(5)"
      ],
      "execution_count": null,
      "outputs": [
        {
          "output_type": "stream",
          "text": [
            "5\n"
          ],
          "name": "stdout"
        }
      ]
    },
    {
      "cell_type": "markdown",
      "metadata": {
        "id": "Q7YeXMgHaiWZ"
      },
      "source": [
        "## 2 Valores y Tipos de datos"
      ]
    },
    {
      "cell_type": "markdown",
      "metadata": {
        "id": "kL95LDdQbTJr"
      },
      "source": [
        "El valor es uno de los elementos fundamentales que manipula un programa (como por ejemplo una letra o un número). Los valores que hemos visto hasta el momento son 5 y \"Hola mundo!\".\n",
        "\n",
        "Estos valores son de distintos tipos: 5 es un entero (**int**) y \"Hola mundo!\"\" es una cadena (**str**), llamada así porque contiene una “cadena” de letras. Las cadenas se pueden identificar porque están encerradas entre comillas.\n",
        "<br>\n",
        "Si no está seguro del tipo al que pertenece un determinado valor, puede preguntárselo a Python usando la función type:"
      ]
    },
    {
      "cell_type": "code",
      "metadata": {
        "id": "uhalgBHFahzp",
        "colab": {
          "base_uri": "https://localhost:8080/",
          "height": 51
        },
        "outputId": "d87188d1-609c-41dc-c676-02cdb71111cc"
      },
      "source": [
        "print('Hola mundo!')\n",
        "print( type(\"Hola mundo!\") )"
      ],
      "execution_count": null,
      "outputs": [
        {
          "output_type": "stream",
          "text": [
            "Hola mundo!\n",
            "<class 'str'>\n"
          ],
          "name": "stdout"
        }
      ]
    },
    {
      "cell_type": "code",
      "metadata": {
        "id": "I0e1Y4xJdfy3",
        "colab": {
          "base_uri": "https://localhost:8080/",
          "height": 51
        },
        "outputId": "7fea4c5e-c51a-4aa1-ba95-6c00e7249a63"
      },
      "source": [
        "print(17)\n",
        "print( type(17) )"
      ],
      "execution_count": null,
      "outputs": [
        {
          "output_type": "stream",
          "text": [
            "17\n",
            "<class 'int'>\n"
          ],
          "name": "stdout"
        }
      ]
    },
    {
      "cell_type": "markdown",
      "metadata": {
        "id": "owDtCZD2eAO5"
      },
      "source": [
        "Los números con decimales (separados por medio de un punto) son de tipo **float** debido a la representación de estos números en el formato llamado **de coma flotante** (floating-point)."
      ]
    },
    {
      "cell_type": "code",
      "metadata": {
        "id": "8L26d0OMev38",
        "colab": {
          "base_uri": "https://localhost:8080/",
          "height": 52
        },
        "outputId": "78ff0137-99c6-4c2e-93f3-73f6904d7b64"
      },
      "source": [
        "print(3.2)\n",
        "print( type(3.2) )\n"
      ],
      "execution_count": null,
      "outputs": [
        {
          "output_type": "stream",
          "text": [
            "3.2\n",
            "<class 'float'>\n"
          ],
          "name": "stdout"
        }
      ]
    },
    {
      "cell_type": "markdown",
      "metadata": {
        "id": "rDhdxKa5fF8o"
      },
      "source": [
        "¿Qué ocurre con los valores como \"17\" y \"3.2\"? Parecen números, pero están entre comillas como las cadenas."
      ]
    },
    {
      "cell_type": "code",
      "metadata": {
        "id": "p_f3RcKKfNWy",
        "colab": {
          "base_uri": "https://localhost:8080/",
          "height": 52
        },
        "outputId": "22dd728b-3d54-423c-f834-b56b993e1661"
      },
      "source": [
        "print( type(\"17\") )\n",
        "print( type(\"3.2\") )"
      ],
      "execution_count": null,
      "outputs": [
        {
          "output_type": "stream",
          "text": [
            "<class 'str'>\n",
            "<class 'str'>\n"
          ],
          "name": "stdout"
        }
      ]
    },
    {
      "cell_type": "markdown",
      "metadata": {
        "id": "Se9B_DZrfq-n"
      },
      "source": [
        "Ambos son cadenas de caracteres. Las cadenas en Python pueden estar encerradas por comillas simples (**'**), o comillas dobles (**\"**), o una secuencia de tres comillas ya sean simples o dobles.\n",
        "\n"
      ]
    },
    {
      "cell_type": "code",
      "metadata": {
        "id": "VTT6H8Lgg4kH",
        "colab": {
          "base_uri": "https://localhost:8080/",
          "height": 85
        },
        "outputId": "01975843-64ae-4351-cf4f-e9145541974b"
      },
      "source": [
        "print( type('Esto es una cadena.') )\n",
        "print( type(\"Y esto también\") )\n",
        "print( type(\"\"\"y esto\"\"\") )\n",
        "print( type('''e incluso esto...\n",
        "jkjkl\n",
        "jlkjklj''') )"
      ],
      "execution_count": null,
      "outputs": [
        {
          "output_type": "stream",
          "text": [
            "<class 'str'>\n",
            "<class 'str'>\n",
            "<class 'str'>\n",
            "<class 'str'>\n"
          ],
          "name": "stdout"
        }
      ]
    },
    {
      "cell_type": "code",
      "metadata": {
        "id": "TCpS-ZzB-txb",
        "colab": {
          "base_uri": "https://localhost:8080/",
          "height": 70
        },
        "outputId": "9b0c22b8-0215-40ad-a7a3-ee2640acbfd3"
      },
      "source": [
        "print('''e incluso esto...\n",
        "jkjkl\n",
        "jlkjklj''')"
      ],
      "execution_count": null,
      "outputs": [
        {
          "output_type": "stream",
          "text": [
            "e incluso esto...\n",
            "jkjkl \n",
            "jlkjklj\n"
          ],
          "name": "stdout"
        }
      ]
    },
    {
      "cell_type": "code",
      "metadata": {
        "id": "mn9WrGTpoaPY",
        "colab": {
          "base_uri": "https://localhost:8080/",
          "height": 70
        },
        "outputId": "ab5e7559-930d-42c4-d3be-6fbd654a975c"
      },
      "source": [
        "print(\"\"\"e incluso esto...\n",
        "jkjkl\n",
        "jlkjklj\"\"\")"
      ],
      "execution_count": null,
      "outputs": [
        {
          "output_type": "stream",
          "text": [
            "e incluso esto...\n",
            "jkjkl \n",
            "jlkjklj\n"
          ],
          "name": "stdout"
        }
      ]
    },
    {
      "cell_type": "code",
      "metadata": {
        "id": "upC_HFaqomOu",
        "colab": {
          "base_uri": "https://localhost:8080/",
          "height": 70
        },
        "outputId": "36e8b95f-29bd-422e-8b79-6d1cb0e7e41b"
      },
      "source": [
        "print(\"\"\"e incluso esto...\n",
        "jkjkl\n",
        "jlkjklj\"\"\")"
      ],
      "execution_count": null,
      "outputs": [
        {
          "output_type": "stream",
          "text": [
            "e incluso esto...\n",
            "jkjkl \n",
            "jlkjklj\n"
          ],
          "name": "stdout"
        }
      ]
    },
    {
      "cell_type": "markdown",
      "metadata": {
        "id": "L6SrvMMJhbZ4"
      },
      "source": [
        "Las comillas simples pueden contener comillas dobles por dentro y viceversa."
      ]
    },
    {
      "cell_type": "code",
      "metadata": {
        "id": "AeHNINA1hgB8",
        "colab": {
          "base_uri": "https://localhost:8080/",
          "height": 34
        },
        "outputId": "80c842dc-d27f-49a0-e629-e2190b99d71b"
      },
      "source": [
        "print('\"Oh no\", exclamó ella')"
      ],
      "execution_count": null,
      "outputs": [
        {
          "output_type": "stream",
          "text": [
            "\"Oh no\", exclamó ella\n"
          ],
          "name": "stdout"
        }
      ]
    },
    {
      "cell_type": "code",
      "metadata": {
        "id": "C_xfx6yvh8FW",
        "colab": {
          "base_uri": "https://localhost:8080/",
          "height": 34
        },
        "outputId": "75ff4888-0940-4776-8a08-1b2146825456"
      },
      "source": [
        "print(\"Bruce's beard\")"
      ],
      "execution_count": null,
      "outputs": [
        {
          "output_type": "stream",
          "text": [
            "Bruce's beard\n"
          ],
          "name": "stdout"
        }
      ]
    },
    {
      "cell_type": "code",
      "metadata": {
        "id": "n4pVn_R4BFmM",
        "colab": {
          "base_uri": "https://localhost:8080/",
          "height": 70
        },
        "outputId": "03862dfd-5955-417b-f16e-1c0e476432ab"
      },
      "source": [
        "print(\"\"\"hola \"mundo\" what's up\n",
        "rtttre\n",
        "frfrfgrf\"\"\")"
      ],
      "execution_count": null,
      "outputs": [
        {
          "output_type": "stream",
          "text": [
            "hola \"mundo\" what's up\n",
            "rtttre\n",
            "frfrfgrf\n"
          ],
          "name": "stdout"
        }
      ]
    },
    {
      "cell_type": "code",
      "metadata": {
        "id": "SJBbyGj_BOIL",
        "colab": {
          "base_uri": "https://localhost:8080/",
          "height": 34
        },
        "outputId": "e92bed65-3c45-4fe5-cdd1-e4627d668b8c"
      },
      "source": [
        "print('''hola \"mundo\" what's up''')\n"
      ],
      "execution_count": null,
      "outputs": [
        {
          "output_type": "stream",
          "text": [
            "hola \"mundo\" what's up\n"
          ],
          "name": "stdout"
        }
      ]
    },
    {
      "cell_type": "code",
      "metadata": {
        "id": "ez5MzllzCa_2",
        "colab": {
          "base_uri": "https://localhost:8080/",
          "height": 68
        },
        "outputId": "5b39d659-0cc8-46d0-f07a-0f5459fd4f79"
      },
      "source": [
        "print(\"\"\"\"hola \"mundo\" what's up\n",
        "rtttre\n",
        "frfrfgrf\"\"\")"
      ],
      "execution_count": null,
      "outputs": [
        {
          "output_type": "stream",
          "text": [
            "\"hola \"mundo\" what's up\n",
            "rtttre\n",
            "frfrfgrf\n"
          ],
          "name": "stdout"
        }
      ]
    },
    {
      "cell_type": "code",
      "metadata": {
        "id": "Z9DHHKmVp62Z"
      },
      "source": [
        "#cadena vacía: '', \"\""
      ],
      "execution_count": null,
      "outputs": []
    },
    {
      "cell_type": "markdown",
      "metadata": {
        "id": "sSHbsfHnic1d"
      },
      "source": [
        "Las comillas triples permiten que las cadenas ocupen más de una línea"
      ]
    },
    {
      "cell_type": "code",
      "metadata": {
        "id": "UknNemxiir7a",
        "colab": {
          "base_uri": "https://localhost:8080/",
          "height": 70
        },
        "outputId": "99e220a5-bb74-4800-a903-7c9682b50732"
      },
      "source": [
        "print(\"\"\"Este mensaje\n",
        "ocupa múltiples\n",
        "líneas\"\"\")"
      ],
      "execution_count": null,
      "outputs": [
        {
          "output_type": "stream",
          "text": [
            "Este mensaje\n",
            "ocupa múltiples\n",
            "líneas\n"
          ],
          "name": "stdout"
        }
      ]
    },
    {
      "cell_type": "code",
      "metadata": {
        "id": "VG4vaNgHzVKj",
        "colab": {
          "base_uri": "https://localhost:8080/"
        },
        "outputId": "479e38ad-2e49-458d-865f-564888ad6a00"
      },
      "source": [
        "print(\"Este mensaje\\nocupa múltiples\\nlíneas\")"
      ],
      "execution_count": null,
      "outputs": [
        {
          "output_type": "stream",
          "name": "stdout",
          "text": [
            "Este mensaje\n",
            "ocupa múltiples\n",
            "líneas\n"
          ]
        }
      ]
    },
    {
      "cell_type": "code",
      "metadata": {
        "id": "5tXXUYeEBtuJ",
        "colab": {
          "base_uri": "https://localhost:8080/",
          "height": 34
        },
        "outputId": "356afd2d-518e-4924-ed7c-7f71e03873cb"
      },
      "source": [
        "print(\"Este mensaje\\tocupa múltiples\\tlíneas\")"
      ],
      "execution_count": null,
      "outputs": [
        {
          "output_type": "stream",
          "text": [
            "Este mensaje\tocupa múltiples\tlíneas\n"
          ],
          "name": "stdout"
        }
      ]
    },
    {
      "cell_type": "code",
      "metadata": {
        "id": "zqpAu8Nlq68t",
        "colab": {
          "base_uri": "https://localhost:8080/",
          "height": 34
        },
        "outputId": "07b2c566-3289-4a97-a76d-ca491a7e0b4e"
      },
      "source": [
        "print(\"Este mensaje \\bocupa múltiples \\blíneas\")"
      ],
      "execution_count": null,
      "outputs": [
        {
          "output_type": "stream",
          "text": [
            "Este mensaje \bocupa múltiples \blíneas\n"
          ],
          "name": "stdout"
        }
      ]
    },
    {
      "cell_type": "markdown",
      "metadata": {
        "id": "GHh6sRpyjVcJ"
      },
      "source": [
        "Cuando escriba un entero largo, podría estar tentado a usar comas entre grupos de tres dígitos, como en 1,000,000. Este no es un entero válido en Python, pero es una expresión válida:"
      ]
    },
    {
      "cell_type": "code",
      "metadata": {
        "id": "UmYDgbS_jUXj",
        "colab": {
          "base_uri": "https://localhost:8080/"
        },
        "outputId": "dc461cd8-b091-403e-f281-3cafa4c309bd"
      },
      "source": [
        "print(type(1000000))\n",
        "print(100,000,00)"
      ],
      "execution_count": null,
      "outputs": [
        {
          "output_type": "stream",
          "name": "stdout",
          "text": [
            "<class 'int'>\n",
            "100 0 0\n"
          ]
        }
      ]
    },
    {
      "cell_type": "code",
      "metadata": {
        "id": "X3lqb9jOsMDr",
        "colab": {
          "base_uri": "https://localhost:8080/",
          "height": 34
        },
        "outputId": "3ded23e8-a868-4186-e43c-c9835a70a3be"
      },
      "source": [
        "print('hola mundo  what s up')"
      ],
      "execution_count": null,
      "outputs": [
        {
          "output_type": "stream",
          "text": [
            "hola mundo  what s up\n"
          ],
          "name": "stdout"
        }
      ]
    },
    {
      "cell_type": "markdown",
      "metadata": {
        "id": "hXgpmMNzkU2j"
      },
      "source": [
        "Python elige tratar esto como tres valores. De hecho, la sentencia print puede imprimir cualquier número de valores siempre que se separen con comas. Observe que los valores están separados por espacios cuando se muestran:"
      ]
    },
    {
      "cell_type": "code",
      "metadata": {
        "id": "VJQdLIDukj21",
        "colab": {
          "base_uri": "https://localhost:8080/"
        },
        "outputId": "68eb14ee-cde3-40bf-f85a-7b1c5752732d"
      },
      "source": [
        "print(42, 11, 4.35, 32)\n",
        "print(3.4, \"hola\", 45)"
      ],
      "execution_count": null,
      "outputs": [
        {
          "output_type": "stream",
          "name": "stdout",
          "text": [
            "42 11 4.35 32\n",
            "3.4 hola 45\n"
          ]
        }
      ]
    },
    {
      "cell_type": "markdown",
      "metadata": {
        "id": "XjnIoEDUG0S4"
      },
      "source": [
        "**Conversiones:** A veces es necesario convertir valores de un tipo a otro. Python proporciona algunas funciones simples que nos permitirán hacer eso. Las funciones int, float y str convertirán (o intentarán convertir) los argumentos en los tipos int, float y str respectivamente. Llamamos a estas funciones de conversión de tipo.\n",
        "\n",
        "La función int puede tomar un número de punto flotante o una cadena y convertirlo en un int. Para los números de punto flotante, descarta la parte decimal del número, un proceso que llamamos truncamiento hacia cero.\n"
      ]
    },
    {
      "cell_type": "code",
      "metadata": {
        "id": "audcV7zqG6K1",
        "colab": {
          "base_uri": "https://localhost:8080/"
        },
        "outputId": "c38ad885-6464-4984-9f26-7e67f66ed3d7"
      },
      "source": [
        "print(3.14, int(3.14))\n",
        "print(3.9999, int(3.9999))\n",
        "print(3.0, int(3.0))\n",
        "print(-3.999, int(-3.999))"
      ],
      "execution_count": null,
      "outputs": [
        {
          "output_type": "stream",
          "name": "stdout",
          "text": [
            "3.14 3\n",
            "3.9999 3\n",
            "3.0 3\n",
            "-3.999 -3\n"
          ]
        }
      ]
    },
    {
      "cell_type": "code",
      "metadata": {
        "id": "NoOV5AtIH3v2",
        "colab": {
          "base_uri": "https://localhost:8080/"
        },
        "outputId": "616f7783-18ea-4123-9665-c051cd2d70b4"
      },
      "source": [
        "print(\"2345\", int(\"2345\"))\n",
        "print(type(\"2345\"), type(int(\"2345\")))\n"
      ],
      "execution_count": null,
      "outputs": [
        {
          "output_type": "stream",
          "name": "stdout",
          "text": [
            "2345 2345\n",
            "<class 'str'> <class 'int'>\n"
          ]
        }
      ]
    },
    {
      "cell_type": "code",
      "metadata": {
        "id": "AP0rvgvpH3o7",
        "colab": {
          "base_uri": "https://localhost:8080/"
        },
        "outputId": "691fc218-d0a2-4f02-b5e3-f6f0d61b6c38"
      },
      "source": [
        "print(int(\"23\"))"
      ],
      "execution_count": null,
      "outputs": [
        {
          "output_type": "stream",
          "name": "stdout",
          "text": [
            "23\n"
          ]
        }
      ]
    },
    {
      "cell_type": "code",
      "metadata": {
        "id": "N2F5rpw2H_0t",
        "colab": {
          "base_uri": "https://localhost:8080/",
          "height": 68
        },
        "outputId": "41229df3-5e08-4900-db04-ddd9efc14c41"
      },
      "source": [
        "print(type(\"123.45\"))\n",
        "print(float(\"123.45\"))\n",
        "print(type(float(\"123.45\")))"
      ],
      "execution_count": null,
      "outputs": [
        {
          "output_type": "stream",
          "text": [
            "<class 'str'>\n",
            "123.45\n",
            "<class 'float'>\n"
          ],
          "name": "stdout"
        }
      ]
    },
    {
      "cell_type": "code",
      "metadata": {
        "id": "ZEO0dR2-Jv2T",
        "colab": {
          "base_uri": "https://localhost:8080/",
          "height": 68
        },
        "outputId": "bc661e66-b9ac-4770-adef-c0b7c89fa012"
      },
      "source": [
        "print(type(5))\n",
        "print(float(5))\n",
        "print(type(float(5)))"
      ],
      "execution_count": null,
      "outputs": [
        {
          "output_type": "stream",
          "text": [
            "<class 'int'>\n",
            "5.0\n",
            "<class 'float'>\n"
          ],
          "name": "stdout"
        }
      ]
    },
    {
      "cell_type": "code",
      "metadata": {
        "id": "Nan1gASLJWCb",
        "colab": {
          "base_uri": "https://localhost:8080/"
        },
        "outputId": "781515c2-1e72-4a53-c67f-1a30333858df"
      },
      "source": [
        "print(str(123.45))\n",
        "print(type(str(123.45)))"
      ],
      "execution_count": null,
      "outputs": [
        {
          "output_type": "stream",
          "name": "stdout",
          "text": [
            "123.45\n",
            "<class 'str'>\n"
          ]
        }
      ]
    },
    {
      "cell_type": "markdown",
      "metadata": {
        "id": "7DY9r1Mz5lgm"
      },
      "source": [
        "Podemos escribir números flotantes usando notación científica:"
      ]
    },
    {
      "cell_type": "code",
      "metadata": {
        "id": "8lWHzU1T5Cc-",
        "colab": {
          "base_uri": "https://localhost:8080/"
        },
        "outputId": "6fb53ff3-f93e-4fb5-9f92-2cc5cae0d11c"
      },
      "source": [
        "print(5.52e5)\n",
        "print(type(5.52e5))"
      ],
      "execution_count": null,
      "outputs": [
        {
          "output_type": "stream",
          "name": "stdout",
          "text": [
            "552000.0\n",
            "<class 'float'>\n"
          ]
        }
      ]
    },
    {
      "cell_type": "markdown",
      "metadata": {
        "id": "MmK3dk1xk16K"
      },
      "source": [
        "# 3 Variables"
      ]
    },
    {
      "cell_type": "markdown",
      "metadata": {
        "id": "LCXW3tz8nKsL"
      },
      "source": [
        "Una de las características más potentes de los lenguajes de programación es la capacidad de manipular variables. Una variable es un nombre que hace referencia a un valor. La sentencia de asignación crea nuevas variables y les asigna un valor:"
      ]
    },
    {
      "cell_type": "code",
      "metadata": {
        "id": "iYXtyJRanSF9"
      },
      "source": [
        "mensaje = \"¿cómo estás?\"\n",
        "n = 17\n",
        "pi = 3.14159"
      ],
      "execution_count": null,
      "outputs": []
    },
    {
      "cell_type": "markdown",
      "metadata": {
        "id": "LvE52aVlqEzU"
      },
      "source": [
        "El token de asignación (**=**) no debe confundirse con la igualdad (veremos más adelante que la igualdad usa el token ==). La sentencia de asignación vincula un nombre, en el lado izquierdo del operador, con un valor, en el lado derecho. Es por esto que recibirá un error si se realiza en el orden contrario:"
      ]
    },
    {
      "cell_type": "code",
      "metadata": {
        "id": "0iSnlOisqD-X",
        "colab": {
          "base_uri": "https://localhost:8080/",
          "height": 131
        },
        "outputId": "b6baf8ab-b104-49e2-d2fc-baacc06f5a96"
      },
      "source": [
        "17 = n"
      ],
      "execution_count": null,
      "outputs": [
        {
          "output_type": "error",
          "ename": "SyntaxError",
          "evalue": "ignored",
          "traceback": [
            "\u001b[0;36m  File \u001b[0;32m\"<ipython-input-3-beb598da8e38>\"\u001b[0;36m, line \u001b[0;32m1\u001b[0m\n\u001b[0;31m    17 = n\u001b[0m\n\u001b[0m          ^\u001b[0m\n\u001b[0;31mSyntaxError\u001b[0m\u001b[0;31m:\u001b[0m can't assign to literal\n"
          ]
        }
      ]
    },
    {
      "cell_type": "code",
      "metadata": {
        "id": "SUWT1-C-6aee",
        "colab": {
          "base_uri": "https://localhost:8080/"
        },
        "outputId": "f9d9fdfa-bc2e-432f-d1c9-8bb2bc120ba7"
      },
      "source": [
        "1+1 == 2\n"
      ],
      "execution_count": null,
      "outputs": [
        {
          "output_type": "execute_result",
          "data": {
            "text/plain": [
              "True"
            ]
          },
          "metadata": {},
          "execution_count": 6
        }
      ]
    },
    {
      "cell_type": "markdown",
      "metadata": {
        "id": "amsdI01zrHZS"
      },
      "source": [
        "**Consejo:** Cuando lea o escriba el código, dígase a sí mismo \"n tiene asignado 17\" o \"n obtiene el valor 17\" o \"n es una referencia al objeto 17\" o \"n se refiere al objeto 17\". No diga \"n es igual a 17\"."
      ]
    },
    {
      "cell_type": "markdown",
      "metadata": {
        "id": "1FkaAmREtshl"
      },
      "source": [
        "Una forma común de representar las variables en papel es escribir el nombre con una flecha que apunta al valor de la variable. Este diagrama muestra el resultado de ejecutar las instrucciones de asignación que se muestran arriba:\n",
        "<br>\n",
        "![](http://interactivepython.org/courselib/static/thinkcspy/_images/refdiagram1.png)"
      ]
    },
    {
      "cell_type": "markdown",
      "metadata": {
        "id": "syIsMGzbpZue"
      },
      "source": [
        "La sentencia print también funciona con las variables"
      ]
    },
    {
      "cell_type": "code",
      "metadata": {
        "id": "K4MP0vCNpcvu",
        "colab": {
          "base_uri": "https://localhost:8080/"
        },
        "outputId": "78532d74-c961-4503-9d4f-2e6eb8e8b551"
      },
      "source": [
        "print(mensaje, end=' --- ')\n",
        "print(n)\n",
        "print(pi)"
      ],
      "execution_count": null,
      "outputs": [
        {
          "output_type": "stream",
          "name": "stdout",
          "text": [
            "¿cómo estás? --- 17\n",
            "3.14159\n"
          ]
        }
      ]
    },
    {
      "cell_type": "code",
      "metadata": {
        "id": "1VaJ9nfFk3Bz",
        "colab": {
          "base_uri": "https://localhost:8080/"
        },
        "outputId": "cac6013a-2a7b-4ec8-c424-516dabc3ef45"
      },
      "source": [
        "print(mensaje, 'hola', 'apellido', \"nombre\", sep='-')"
      ],
      "execution_count": null,
      "outputs": [
        {
          "output_type": "stream",
          "name": "stdout",
          "text": [
            "¿cómo estás?-hola-apellido-nombre\n"
          ]
        }
      ]
    },
    {
      "cell_type": "markdown",
      "metadata": {
        "id": "NSbnb44ypmmP"
      },
      "source": [
        "Las variables también tienen un tipo, el mismo que el del valor al cual se refiere:"
      ]
    },
    {
      "cell_type": "code",
      "metadata": {
        "id": "izY_A58Kptes",
        "colab": {
          "base_uri": "https://localhost:8080/",
          "height": 68
        },
        "outputId": "1133d4da-822a-4757-e44f-4ac8ef65853a"
      },
      "source": [
        "mensaje = \"¿cómo estás?\"\n",
        "n = 17\n",
        "pi = 3.14159\n",
        "\n",
        "print( type(mensaje) )\n",
        "print( type(n) )\n",
        "print(type(pi))\n"
      ],
      "execution_count": null,
      "outputs": [
        {
          "output_type": "stream",
          "text": [
            "<class 'str'>\n",
            "<class 'int'>\n",
            "<class 'float'>\n"
          ],
          "name": "stdout"
        }
      ]
    },
    {
      "cell_type": "code",
      "metadata": {
        "id": "hRVlCIuX3Mal",
        "colab": {
          "base_uri": "https://localhost:8080/",
          "height": 51
        },
        "outputId": "eb47ce85-7be7-4d5f-fd86-12459bd31119"
      },
      "source": [
        "n = \"2\"\n",
        "print(type(n))\n",
        "n = 2\n",
        "print(type(n))"
      ],
      "execution_count": null,
      "outputs": [
        {
          "output_type": "stream",
          "text": [
            "<class 'str'>\n",
            "<class 'int'>\n"
          ],
          "name": "stdout"
        }
      ]
    },
    {
      "cell_type": "code",
      "metadata": {
        "id": "5J-gESSFxYeS"
      },
      "source": [
        "\"cadena\"\n",
        "'a'"
      ],
      "execution_count": null,
      "outputs": []
    },
    {
      "cell_type": "markdown",
      "metadata": {
        "id": "yRRneMtYvBVz"
      },
      "source": [
        "Usamos variables en un programa para \"recordar\" cosas. Pero las variables, como su nombre lo dice, pueden cambiar. Se puede asignar un valor a una variable y, posteriormente, asignar un valor diferente a la misma variable.\n",
        "\n",
        "**Nota:**\n",
        "Esto es diferente al concepto de variable de las matemáticas. En matemáticas, si se le da a **x** el valor 3, no puede cambiar para referirse a un valor diferente a la mitad de los cálculos.\n"
      ]
    },
    {
      "cell_type": "code",
      "metadata": {
        "id": "nLejEb5_vyGM",
        "colab": {
          "base_uri": "https://localhost:8080/"
        },
        "outputId": "51ef93b6-0079-441e-9935-f53920e01f0a"
      },
      "source": [
        "dia = \"Lunes\"\n",
        "print(dia)\n",
        "print(type(dia))\n",
        "dia = \"Martes\"\n",
        "print(dia)\n",
        "print(type(dia))\n",
        "dia = 11\n",
        "print(dia)\n",
        "print(type(dia))"
      ],
      "execution_count": null,
      "outputs": [
        {
          "output_type": "stream",
          "name": "stdout",
          "text": [
            "Lunes\n",
            "<class 'str'>\n",
            "Martes\n",
            "<class 'str'>\n",
            "11\n",
            "<class 'int'>\n"
          ]
        }
      ]
    },
    {
      "cell_type": "code",
      "metadata": {
        "id": "iYB428TMJiIA",
        "colab": {
          "base_uri": "https://localhost:8080/"
        },
        "outputId": "aabcb5a5-17dd-444b-dc60-2e69e1a75cb6"
      },
      "source": [
        "\n",
        "a = 10\n",
        "b = a\n",
        "a = 5\n",
        "c = \",\"\n",
        "print(a, c, b)"
      ],
      "execution_count": null,
      "outputs": [
        {
          "output_type": "stream",
          "name": "stdout",
          "text": [
            "5 , 10\n"
          ]
        }
      ]
    },
    {
      "cell_type": "markdown",
      "metadata": {
        "id": "6YN1bxfP5XnZ"
      },
      "source": [
        "# 4 Nombres de Variables y Palabras Reservadas"
      ]
    },
    {
      "cell_type": "markdown",
      "metadata": {
        "id": "950hpZFyw55G"
      },
      "source": [
        "Los nombres de las variables pueden tener una longitud arbitraria. Pueden estar formados por letras y números,  pero **deben comenzar con una letra**. Es válido usar mayusculas, pero hay que tener en cuenta que la distinción es importante: mensaje y Mensaje son dos variables diferentes. El guión bajo (Snake case) (**_**) también es válido y se utiliza a menudo para separar nombres con múltiples palabras."
      ]
    },
    {
      "cell_type": "code",
      "metadata": {
        "id": "hT4RH_2Sx8Zy",
        "colab": {
          "base_uri": "https://localhost:8080/",
          "height": 34
        },
        "outputId": "a35646b1-65b3-4212-87cf-1bde2091fe4d"
      },
      "source": [
        "primer_nombre = \"Juan\"\n",
        "print(primer_nombre)"
      ],
      "execution_count": null,
      "outputs": [
        {
          "output_type": "stream",
          "text": [
            "Juan\n"
          ],
          "name": "stdout"
        }
      ]
    },
    {
      "cell_type": "code",
      "metadata": {
        "id": "HqdAclkroxhE"
      },
      "source": [
        "nombre1 = 'Juan'"
      ],
      "execution_count": null,
      "outputs": []
    },
    {
      "cell_type": "code",
      "metadata": {
        "id": "eK16FWSgoeic"
      },
      "source": [
        "#Camel case\n",
        "primerNombre = 'Juan'"
      ],
      "execution_count": null,
      "outputs": []
    },
    {
      "cell_type": "code",
      "metadata": {
        "id": "CXHPn2W-xruN",
        "colab": {
          "base_uri": "https://localhost:8080/",
          "height": 34
        },
        "outputId": "d4814aad-a2fd-457d-fef3-501a33eb3cda"
      },
      "source": [
        "_er_nombre = \"Juan\"\n",
        "print(_er_nombre)"
      ],
      "execution_count": null,
      "outputs": [
        {
          "output_type": "stream",
          "text": [
            "Juan\n"
          ],
          "name": "stdout"
        }
      ]
    },
    {
      "cell_type": "code",
      "metadata": {
        "id": "PuIOw3o1yJ9Y",
        "colab": {
          "base_uri": "https://localhost:8080/"
        },
        "outputId": "d5c8d016-e5b9-4dcd-ddc9-5efa7ccd1c2d"
      },
      "source": [
        "#%%tutor -k -r\n",
        "nombre = \"Juan\"\n",
        "Nombre = \"Ana\"\n",
        "print(nombre)\n",
        "print(Nombre)\n"
      ],
      "execution_count": null,
      "outputs": [
        {
          "output_type": "stream",
          "name": "stdout",
          "text": [
            "Juan\n",
            "Ana\n"
          ]
        }
      ]
    },
    {
      "cell_type": "markdown",
      "metadata": {
        "id": "lWWfT67lzIUv"
      },
      "source": [
        "También existen ciertas palabras especiales que **NO** pueden ser usadas como nombres de variables, estas son las **palabras reservadas**. El lenguaje de programación usa las palabras reservadas para definir sus reglas y estructura. Python tiene aproximadamente 30 palabras reservadas, las cuales se enlistan a continuación:\n"
      ]
    },
    {
      "cell_type": "code",
      "metadata": {
        "id": "aV38xWcu0Ql-",
        "colab": {
          "base_uri": "https://localhost:8080/"
        },
        "outputId": "712d83f5-0875-4d74-f577-3938f0ea7f4f"
      },
      "source": [
        "help(\"keywords\")"
      ],
      "execution_count": null,
      "outputs": [
        {
          "output_type": "stream",
          "name": "stdout",
          "text": [
            "\n",
            "Here is a list of the Python keywords.  Enter any keyword to get more help.\n",
            "\n",
            "False               class               from                or\n",
            "None                continue            global              pass\n",
            "True                def                 if                  raise\n",
            "and                 del                 import              return\n",
            "as                  elif                in                  try\n",
            "assert              else                is                  while\n",
            "async               except              lambda              with\n",
            "await               finally             nonlocal            yield\n",
            "break               for                 not                 \n",
            "\n"
          ]
        }
      ]
    },
    {
      "cell_type": "code",
      "metadata": {
        "id": "SK6AM0g4p2Bu"
      },
      "source": [
        "sum = 5 + 8"
      ],
      "execution_count": null,
      "outputs": []
    },
    {
      "cell_type": "markdown",
      "metadata": {
        "id": "RrFD0z3S1I80"
      },
      "source": [
        "# 5 Expresiones"
      ]
    },
    {
      "cell_type": "markdown",
      "metadata": {
        "id": "9rp1hJaG1PNt"
      },
      "source": [
        "Una **expresión** es una combinación de valores, variables y operadores. Si teclea una expresión en la línea de comandos, el intérprete la **evalúa** y muestra el resultado. Lo mismo ocurre si la expresión se usa la sentencia print para mostrar la expresión:"
      ]
    },
    {
      "cell_type": "code",
      "metadata": {
        "id": "tuGd27vV17xt",
        "colab": {
          "base_uri": "https://localhost:8080/",
          "height": 34
        },
        "outputId": "6b4077d0-d1ef-4e24-fb4b-af50758872d5"
      },
      "source": [
        "2 + 3-3"
      ],
      "execution_count": null,
      "outputs": [
        {
          "output_type": "execute_result",
          "data": {
            "text/plain": [
              "2"
            ]
          },
          "metadata": {
            "tags": []
          },
          "execution_count": 78
        }
      ]
    },
    {
      "cell_type": "code",
      "metadata": {
        "id": "NmlodN792Bct",
        "colab": {
          "base_uri": "https://localhost:8080/",
          "height": 34
        },
        "outputId": "c1c6ca44-0525-43e9-ea9c-840ef59cf542"
      },
      "source": [
        "print(2 + 3)"
      ],
      "execution_count": null,
      "outputs": [
        {
          "output_type": "stream",
          "text": [
            "5\n"
          ],
          "name": "stdout"
        }
      ]
    },
    {
      "cell_type": "markdown",
      "metadata": {
        "id": "UH0YplQp2rPa"
      },
      "source": [
        "Un valor, y también una variable, se considera una expresión por sí mismo."
      ]
    },
    {
      "cell_type": "code",
      "metadata": {
        "id": "eOjKa9pG2qiI",
        "colab": {
          "base_uri": "https://localhost:8080/",
          "height": 35
        },
        "outputId": "7c0aab8c-fda8-4470-f253-74cf32b871df"
      },
      "source": [
        "17\n",
        "nombre = 'Juan'\n",
        "nombre"
      ],
      "execution_count": null,
      "outputs": [
        {
          "output_type": "execute_result",
          "data": {
            "text/plain": [
              "'Juan'"
            ],
            "application/vnd.google.colaboratory.intrinsic+json": {
              "type": "string"
            }
          },
          "metadata": {},
          "execution_count": 7
        }
      ]
    },
    {
      "cell_type": "code",
      "metadata": {
        "id": "E2QIdFk620AI",
        "colab": {
          "base_uri": "https://localhost:8080/",
          "height": 35
        },
        "outputId": "87e476c4-eae7-454d-f75c-6ea5f46495d5"
      },
      "source": [
        "nombre = \"Diego\"\n",
        "nombre\n"
      ],
      "execution_count": null,
      "outputs": [
        {
          "output_type": "execute_result",
          "data": {
            "application/vnd.google.colaboratory.intrinsic+json": {
              "type": "string"
            },
            "text/plain": [
              "'Diego'"
            ]
          },
          "metadata": {},
          "execution_count": 21
        }
      ]
    },
    {
      "cell_type": "markdown",
      "metadata": {
        "id": "A4Hm0-F03LNo"
      },
      "source": [
        "Evaluar una expresión no es lo mismo que imprimir un valor. Cuando Python muestra el valor de una expresión, usa el mismo formato que se usaría para introducir un valor. En el caso de las cadenas, eso significa que incluye las comillas (como en el ejemplo anterior). Pero la sentencia print imprime el valor de la expresión, lo que en este caso es el contenido de la cadena."
      ]
    },
    {
      "cell_type": "code",
      "metadata": {
        "id": "yRvwEC2U3oAH",
        "colab": {
          "base_uri": "https://localhost:8080/",
          "height": 34
        },
        "outputId": "e2cb2bfb-5059-4e3b-b8b2-39379031bf5c"
      },
      "source": [
        "print(nombre)"
      ],
      "execution_count": null,
      "outputs": [
        {
          "output_type": "stream",
          "text": [
            "Juan\n"
          ],
          "name": "stdout"
        }
      ]
    },
    {
      "cell_type": "markdown",
      "metadata": {
        "id": "gBa715VV50Lx"
      },
      "source": [
        "## 5.1 Operadores y Expresiones"
      ]
    },
    {
      "cell_type": "markdown",
      "metadata": {
        "id": "hNz6l_Vr6Il2"
      },
      "source": [
        "Los operadores son símbolos especiales que representan cálculos como la suma, la multiplicación y la división. Los valores que usa el operador se llaman operandos."
      ]
    },
    {
      "cell_type": "code",
      "metadata": {
        "id": "BPCAP3gX6QOd",
        "colab": {
          "base_uri": "https://localhost:8080/"
        },
        "outputId": "8b550db7-9f1c-4d91-ca20-eb3311dce2c0"
      },
      "source": [
        "print(2 + 3)\n",
        "print(2 - 3)\n",
        "print(2 * 3)\n",
        "print(2 ** 3)\n",
        "print(3 ** 2)\n",
        "print(9 ** (1/2))"
      ],
      "execution_count": null,
      "outputs": [
        {
          "output_type": "stream",
          "name": "stdout",
          "text": [
            "5\n",
            "-1\n",
            "6\n",
            "8\n",
            "9\n",
            "3.0\n"
          ]
        }
      ]
    },
    {
      "cell_type": "markdown",
      "metadata": {
        "id": "uD3xoVp86zLl"
      },
      "source": [
        "En Python 3, la división se denota mediante el símbolo (**/**), y siempre se evalúa como un resultado de coma flotante:"
      ]
    },
    {
      "cell_type": "code",
      "metadata": {
        "id": "0tyY6PIV65My",
        "colab": {
          "base_uri": "https://localhost:8080/",
          "height": 34
        },
        "outputId": "3ff8b30f-0b3f-4243-b50e-c33d49434ad5"
      },
      "source": [
        "minutos = 645\n",
        "horas = minutos / 60\n",
        "print(horas)"
      ],
      "execution_count": null,
      "outputs": [
        {
          "output_type": "stream",
          "text": [
            "10.75\n"
          ],
          "name": "stdout"
        }
      ]
    },
    {
      "cell_type": "markdown",
      "metadata": {
        "id": "XxZPl6bm00EL"
      },
      "source": [
        "Esta es una división entera:"
      ]
    },
    {
      "cell_type": "code",
      "metadata": {
        "id": "Y3iEXiETolS8",
        "colab": {
          "base_uri": "https://localhost:8080/"
        },
        "outputId": "a26cec1a-6cab-4eda-aaf5-849b6088ce86"
      },
      "source": [
        "print(3 // 2)"
      ],
      "execution_count": null,
      "outputs": [
        {
          "output_type": "stream",
          "name": "stdout",
          "text": [
            "1\n"
          ]
        }
      ]
    },
    {
      "cell_type": "code",
      "metadata": {
        "id": "dl6TjIo4rtTa",
        "colab": {
          "base_uri": "https://localhost:8080/"
        },
        "outputId": "cd5bc561-e86c-4649-ec1c-c341f2681bcf"
      },
      "source": [
        "print(int(3 / 2))"
      ],
      "execution_count": null,
      "outputs": [
        {
          "output_type": "stream",
          "name": "stdout",
          "text": [
            "1\n"
          ]
        }
      ]
    },
    {
      "cell_type": "code",
      "metadata": {
        "id": "IshXF1O2NxEC",
        "colab": {
          "base_uri": "https://localhost:8080/",
          "height": 34
        },
        "outputId": "967e4f54-c0ed-4b8c-83a8-a451cec080b9"
      },
      "source": [
        "print(3,'/',2)"
      ],
      "execution_count": null,
      "outputs": [
        {
          "output_type": "stream",
          "text": [
            "3 / 2\n"
          ],
          "name": "stdout"
        }
      ]
    },
    {
      "cell_type": "markdown",
      "metadata": {
        "id": "tzUXlSFT0-or"
      },
      "source": [
        "Operador módulo: El residuo de una división"
      ]
    },
    {
      "cell_type": "code",
      "metadata": {
        "id": "izQgn7xcDchn",
        "colab": {
          "base_uri": "https://localhost:8080/"
        },
        "outputId": "2b74c864-69c9-44fa-b344-44d4d6d7496b"
      },
      "source": [
        "4 % 2"
      ],
      "execution_count": null,
      "outputs": [
        {
          "output_type": "execute_result",
          "data": {
            "text/plain": [
              "0"
            ]
          },
          "metadata": {},
          "execution_count": 25
        }
      ]
    },
    {
      "cell_type": "code",
      "metadata": {
        "id": "wsvEp_lwDchp",
        "colab": {
          "base_uri": "https://localhost:8080/"
        },
        "outputId": "fc46a101-6e49-474a-c342-2f4a21faaaa2"
      },
      "source": [
        "6 % 2"
      ],
      "execution_count": null,
      "outputs": [
        {
          "output_type": "execute_result",
          "data": {
            "text/plain": [
              "0"
            ]
          },
          "metadata": {},
          "execution_count": 26
        }
      ]
    },
    {
      "cell_type": "markdown",
      "metadata": {
        "id": "u5KqUALv7KMO"
      },
      "source": [
        "¿Qué pasaría si quisiéramos saber cuántas horas enteras hay y cuántos minutos quedan?"
      ]
    },
    {
      "cell_type": "code",
      "metadata": {
        "id": "f5niy-sP7LJR",
        "colab": {
          "base_uri": "https://localhost:8080/"
        },
        "outputId": "0ab779c8-b870-454e-86f1-336f50296757"
      },
      "source": [
        "minutos = 645\n",
        "horas = minutos // 60\n",
        "minutos_restantes =  minutos%60\n",
        "print(horas)\n",
        "print(minutos_restantes)\n"
      ],
      "execution_count": null,
      "outputs": [
        {
          "output_type": "stream",
          "name": "stdout",
          "text": [
            "10\n",
            "45\n"
          ]
        }
      ]
    },
    {
      "cell_type": "code",
      "metadata": {
        "id": "NiK6O4nOOcF6",
        "colab": {
          "base_uri": "https://localhost:8080/",
          "height": 34
        },
        "outputId": "2a09b45d-3002-4555-bc24-c321abae9093"
      },
      "source": [
        "print(4 / 3)"
      ],
      "execution_count": null,
      "outputs": [
        {
          "output_type": "stream",
          "text": [
            "1.3333333333333333\n"
          ],
          "name": "stdout"
        }
      ]
    },
    {
      "cell_type": "code",
      "metadata": {
        "id": "bEth9ijdHY5M",
        "colab": {
          "base_uri": "https://localhost:8080/"
        },
        "outputId": "f735e780-3df0-48f8-f360-2d68bb9e0599"
      },
      "source": [
        "residuo = minutos % 60\n",
        "print(residuo)"
      ],
      "execution_count": null,
      "outputs": [
        {
          "output_type": "stream",
          "name": "stdout",
          "text": [
            "45\n"
          ]
        }
      ]
    },
    {
      "cell_type": "code",
      "metadata": {
        "id": "Bn2_wv78OwIR"
      },
      "source": [
        "#1 / 6 + 1 / 6 = 2/6"
      ],
      "execution_count": null,
      "outputs": []
    },
    {
      "cell_type": "code",
      "metadata": {
        "id": "kAnQ_zecPf5w",
        "colab": {
          "base_uri": "https://localhost:8080/"
        },
        "outputId": "cc705c8e-c3a7-4d2d-a964-e73b53c63f8a"
      },
      "source": [
        "import math\n",
        "print(math.sqrt(9))\n",
        "\n",
        "import math\n",
        "print(math.sqrt(8))"
      ],
      "execution_count": null,
      "outputs": [
        {
          "output_type": "stream",
          "name": "stdout",
          "text": [
            "3.0\n",
            "2.8284271247461903\n"
          ]
        }
      ]
    },
    {
      "cell_type": "markdown",
      "metadata": {
        "id": "ukTNhF9K6Mpk"
      },
      "source": [
        "## 5.2 El Orden de las Operaciones"
      ]
    },
    {
      "cell_type": "markdown",
      "metadata": {
        "id": "7OQSL1-T84tE"
      },
      "source": [
        "Cuando aparece más de un operador en una expresión, el orden de evaluación depende de las **reglas de precedencia**. Python sigue las mismas reglas de precedencia para sus operadores que las matemáticas en cuanto a todos las operaciones matemáticas. Para otras operaciones que tienen que ver más con el contexto de la computación y demás, siempre se puede buscar la tabla de precedencia para el lenguaje de programación.\n",
        "\n",
        "De mayor precedencia a menor precedencia (entre mayor es el número en la tabla, mayor precedencia tiene).\n",
        "\n",
        "![texto alternativo](https://study.com/cimages/multimages/16/precedence_table.png)"
      ]
    },
    {
      "cell_type": "markdown",
      "metadata": {
        "id": "slJX81XRQZvy"
      },
      "source": [
        "* Una regla no escrita de la mayoría de lenguajes de programación es que los paréntesis generalmente tienen la mayor prioridad y se pueden usar para forzar a una expresión a ser evaluada en el orden que desee. También puede usar paréntesis para hacer que una expresión sea más fácil de leer. En la tabla tienen precedencia 18."
      ]
    },
    {
      "cell_type": "code",
      "metadata": {
        "id": "9zuzt3b_-FDC",
        "colab": {
          "base_uri": "https://localhost:8080/",
          "height": 34
        },
        "outputId": "34ebcca1-8ad1-428a-8e69-a9986ff8df4d"
      },
      "source": [
        "(1+1) ** (5-2)"
      ],
      "execution_count": null,
      "outputs": [
        {
          "output_type": "execute_result",
          "data": {
            "text/plain": [
              "8"
            ]
          },
          "metadata": {
            "tags": []
          },
          "execution_count": 68
        }
      ]
    },
    {
      "cell_type": "code",
      "metadata": {
        "id": "dj74zd1JQ4Kn",
        "colab": {
          "base_uri": "https://localhost:8080/"
        },
        "outputId": "25410e67-37cf-464f-bb67-9a2c83d241a0"
      },
      "source": [
        "1 + 1 ** 5 - 2"
      ],
      "execution_count": null,
      "outputs": [
        {
          "output_type": "execute_result",
          "data": {
            "text/plain": [
              "0"
            ]
          },
          "metadata": {},
          "execution_count": 35
        }
      ]
    },
    {
      "cell_type": "markdown",
      "metadata": {
        "id": "mkajSWRC9fMu"
      },
      "source": [
        "* La exponenciación tiene la siguiente prioridad más alta para nuestros propósitos (ignore por ahora las precedencias de 17-15, las entenderá más adelante).\n"
      ]
    },
    {
      "cell_type": "code",
      "metadata": {
        "id": "aP7dmNxu-MQl",
        "colab": {
          "base_uri": "https://localhost:8080/",
          "height": 34
        },
        "outputId": "d5417158-8621-4360-cb65-666f222c6652"
      },
      "source": [
        " 2 ** 2 + 1"
      ],
      "execution_count": null,
      "outputs": [
        {
          "output_type": "execute_result",
          "data": {
            "text/plain": [
              "5"
            ]
          },
          "metadata": {
            "tags": []
          },
          "execution_count": 154
        }
      ]
    },
    {
      "cell_type": "code",
      "metadata": {
        "id": "R8y0F02M-4lq",
        "colab": {
          "base_uri": "https://localhost:8080/",
          "height": 34
        },
        "outputId": "57eddafd-3aa6-47c0-92d4-aff76ee24174"
      },
      "source": [
        " 3 * 2 ** 3"
      ],
      "execution_count": null,
      "outputs": [
        {
          "output_type": "execute_result",
          "data": {
            "text/plain": [
              "24"
            ]
          },
          "metadata": {
            "tags": []
          },
          "execution_count": 155
        }
      ]
    },
    {
      "cell_type": "markdown",
      "metadata": {
        "id": "G4YexMCO-OvL"
      },
      "source": [
        "* La multiplicación y ambos operadores de división (recuerde que '%' es la operación módulo) tienen la misma precedencia (precedencia 11), que es mayor que la suma y la resta (estos dos también tienen la misma precedencia entre sí)."
      ]
    },
    {
      "cell_type": "code",
      "metadata": {
        "id": "3cffZO15_FsB",
        "colab": {
          "base_uri": "https://localhost:8080/",
          "height": 34
        },
        "outputId": "406318e7-f789-47ca-df2e-20a77008ad6c"
      },
      "source": [
        "2 * 3 - 1"
      ],
      "execution_count": null,
      "outputs": [
        {
          "output_type": "execute_result",
          "data": {
            "text/plain": [
              "5"
            ]
          },
          "metadata": {
            "tags": []
          },
          "execution_count": 71
        }
      ]
    },
    {
      "cell_type": "code",
      "metadata": {
        "id": "Ta6YM0eo_KWM",
        "colab": {
          "base_uri": "https://localhost:8080/",
          "height": 34
        },
        "outputId": "0b87217f-435a-468b-8744-3c9b368bf85a"
      },
      "source": [
        "5 - 2 * 2"
      ],
      "execution_count": null,
      "outputs": [
        {
          "output_type": "execute_result",
          "data": {
            "text/plain": [
              "1"
            ]
          },
          "metadata": {
            "tags": []
          },
          "execution_count": 72
        }
      ]
    },
    {
      "cell_type": "markdown",
      "metadata": {
        "id": "2-ykk8aa-QAS"
      },
      "source": [
        "* ¿Qué pasa entonces cuando existe una mayor precedencia? Pues entonces se toma la segunda columna de la tabla y se analiza si se evalua de izquierda a derecha (el caso más general) o de derecha a izquierda (cuyo caso más importante es el de asignación '='). En álgebra decimos que son asociativos por la izquierda cuando se evalúan en el caso más general (de izquierda a derecha)."
      ]
    },
    {
      "cell_type": "code",
      "metadata": {
        "id": "OZ4q0IdW_pIi",
        "colab": {
          "base_uri": "https://localhost:8080/"
        },
        "outputId": "d343c5d1-277c-431d-a153-3e160530eaf9"
      },
      "source": [
        "print(6 - 3 + 2)\n",
        "asignacion3 = asignacion2 = asignacion1 = 4\n",
        "print(asignacion3)"
      ],
      "execution_count": null,
      "outputs": [
        {
          "output_type": "stream",
          "name": "stdout",
          "text": [
            "5\n",
            "4\n"
          ]
        }
      ]
    },
    {
      "cell_type": "markdown",
      "metadata": {
        "id": "lvFmN9Rt3Nng"
      },
      "source": [
        "* Al final del semestre o de un curso de programación básica, podrá entender toda la tabla, es aconsejable que vuelva a ella finalizado el curso e investigue un poco más sobre aquellos que no conozca o no entienda bien."
      ]
    },
    {
      "cell_type": "markdown",
      "metadata": {
        "id": "EhYMgJUq6k-Q"
      },
      "source": [
        "## 5.3 Operaciones sobre cadenas"
      ]
    },
    {
      "cell_type": "markdown",
      "metadata": {
        "id": "k3ImA1kJAQj_"
      },
      "source": [
        "No es posible realizar operaciones matemáticas con cadenas, incluso si las cadenas parecen números. Las siguientes sentencias son ilegales (suponiendo que mensaje sea de tipo cadena)"
      ]
    },
    {
      "cell_type": "code",
      "metadata": {
        "id": "gAB0wpiRAnhn",
        "colab": {
          "base_uri": "https://localhost:8080/",
          "height": 216
        },
        "outputId": "a27cac4f-cb0c-4b40-8764-b49d9fd73d9b"
      },
      "source": [
        "mensaje - 1\n",
        "\"Hola\" / 123\n",
        "mensaje * \"Hola\"\n",
        "\"15\" + 2"
      ],
      "execution_count": null,
      "outputs": [
        {
          "output_type": "error",
          "ename": "TypeError",
          "evalue": "ignored",
          "traceback": [
            "\u001b[0;31m---------------------------------------------------------------------------\u001b[0m",
            "\u001b[0;31mTypeError\u001b[0m                                 Traceback (most recent call last)",
            "\u001b[0;32m<ipython-input-37-f0aa13c1cf04>\u001b[0m in \u001b[0;36m<module>\u001b[0;34m()\u001b[0m\n\u001b[0;32m----> 1\u001b[0;31m \u001b[0mmensaje\u001b[0m \u001b[0;34m-\u001b[0m \u001b[0;36m1\u001b[0m\u001b[0;34m\u001b[0m\u001b[0;34m\u001b[0m\u001b[0m\n\u001b[0m\u001b[1;32m      2\u001b[0m \u001b[0;34m\"Hola\"\u001b[0m \u001b[0;34m/\u001b[0m \u001b[0;36m123\u001b[0m\u001b[0;34m\u001b[0m\u001b[0;34m\u001b[0m\u001b[0m\n\u001b[1;32m      3\u001b[0m \u001b[0mmensaje\u001b[0m \u001b[0;34m*\u001b[0m \u001b[0;34m\"Hola\"\u001b[0m\u001b[0;34m\u001b[0m\u001b[0;34m\u001b[0m\u001b[0m\n\u001b[1;32m      4\u001b[0m \u001b[0;34m\"15\"\u001b[0m \u001b[0;34m+\u001b[0m \u001b[0;36m2\u001b[0m\u001b[0;34m\u001b[0m\u001b[0;34m\u001b[0m\u001b[0m\n",
            "\u001b[0;31mTypeError\u001b[0m: unsupported operand type(s) for -: 'str' and 'int'"
          ]
        }
      ]
    },
    {
      "cell_type": "markdown",
      "metadata": {
        "id": "UA8D7f4xA7aS"
      },
      "source": [
        "Si embargo, el operador (**+**) representa la concatenación, lo que significa que se unen los dos operandos uniéndolos extremo con extremo. Por ejemplo:"
      ]
    },
    {
      "cell_type": "code",
      "metadata": {
        "id": "JHGmxHouBJmI",
        "colab": {
          "base_uri": "https://localhost:8080/"
        },
        "outputId": "1977b4b8-5668-4b5c-98f1-2d5215d06a9b"
      },
      "source": [
        "nombre = \"Alan\"\n",
        "apellido = \"Turing\"\n",
        "edad = 57\n",
        "print(nombre + \" \" + apellido + \" \" + \"edad\")\n",
        "print(nombre + \" \" + apellido + \" \" + str(edad))\n",
        "print(nombre, apellido, edad)"
      ],
      "execution_count": null,
      "outputs": [
        {
          "output_type": "stream",
          "name": "stdout",
          "text": [
            "Alan Turing edad\n",
            "Alan Turing 57\n",
            "Alan Turing 57\n"
          ]
        }
      ]
    },
    {
      "cell_type": "markdown",
      "metadata": {
        "id": "GniLQpQvCWRF"
      },
      "source": [
        "El operador (\\*) también funciona con cadenas, llevando a cabo la repetición:"
      ]
    },
    {
      "cell_type": "code",
      "metadata": {
        "id": "f0No5eUr-Qmp",
        "colab": {
          "base_uri": "https://localhost:8080/",
          "height": 34
        },
        "outputId": "ecf81f19-0c79-46a6-fe77-773a6140f432"
      },
      "source": [
        "mensaje = \"Hola\"\n",
        "print(mensaje * 3)"
      ],
      "execution_count": null,
      "outputs": [
        {
          "output_type": "stream",
          "text": [
            "HolaHolaHola\n"
          ],
          "name": "stdout"
        }
      ]
    },
    {
      "cell_type": "code",
      "metadata": {
        "id": "UoPiNMmY7xBV",
        "colab": {
          "base_uri": "https://localhost:8080/",
          "height": 34
        },
        "outputId": "0671813c-95f5-4ba4-c05d-79488d0df3d8"
      },
      "source": [
        "print((mensaje + \"-\") * 3)"
      ],
      "execution_count": null,
      "outputs": [
        {
          "output_type": "stream",
          "text": [
            "Hola-Hola-Hola-\n"
          ],
          "name": "stdout"
        }
      ]
    },
    {
      "cell_type": "code",
      "metadata": {
        "id": "TXJEO8ec_-yy",
        "colab": {
          "base_uri": "https://localhost:8080/",
          "height": 51
        },
        "outputId": "37c752b4-fe33-41c0-cfad-5f350b33c759"
      },
      "source": [
        "resultado = 3\n",
        "print(\"El resultado es \" + str(resultado))\n",
        "print(\"El resultado es\", \"otro mensaje\" , resultado)"
      ],
      "execution_count": null,
      "outputs": [
        {
          "output_type": "stream",
          "text": [
            "El resultado es 3\n",
            "El resultado es otro mensaje 3\n"
          ],
          "name": "stdout"
        }
      ]
    },
    {
      "cell_type": "code",
      "metadata": {
        "id": "JVXJCxz9UboI",
        "colab": {
          "base_uri": "https://localhost:8080/"
        },
        "outputId": "65a709ac-d3bc-4b4c-9af0-efb61c13489d"
      },
      "source": [
        "primer_nombre = 'Pepito'\n",
        "primer_apellido = 'Perez'\n",
        "edad = 45\n",
        "print(primer_nombre, end='\\n')\n",
        "print(primer_nombre, primer_apellido, edad, sep='**')\n",
        "print(edad)"
      ],
      "execution_count": null,
      "outputs": [
        {
          "output_type": "stream",
          "name": "stdout",
          "text": [
            "Pepito\n",
            "Pepito**Perez**45\n",
            "45\n"
          ]
        }
      ]
    },
    {
      "cell_type": "markdown",
      "metadata": {
        "id": "9DD2pP939Mct"
      },
      "source": [
        "# 9 Salida con formato"
      ]
    },
    {
      "cell_type": "markdown",
      "metadata": {
        "id": "2uXf6MEPCIYN"
      },
      "source": [
        "Generalmente es importante darle un formato legible a la salida de nuestros programas, esto será especialmente importante cuando se esté trabajando con una mayor cantidad de datos de los que no se sepa a priori cuál es su contenido. En las siguientes trazas de código veremos algunos:"
      ]
    },
    {
      "cell_type": "code",
      "metadata": {
        "id": "qCvzSZ5o9ZNJ",
        "colab": {
          "base_uri": "https://localhost:8080/"
        },
        "outputId": "b0fe5fa1-fa36-4c53-cb79-76913e38b1a5"
      },
      "source": [
        "print(\"Cadena con salto \\n de linea y una\\tcomilla  \\\" doble\")\n",
        "print(\"Cadena con salto \\n de linea y una\\tcomilla   doble\")"
      ],
      "execution_count": null,
      "outputs": [
        {
          "output_type": "stream",
          "name": "stdout",
          "text": [
            "Cadena con salto \n",
            " de linea y una\tcomilla  \" doble\n",
            "Cadena con salto \n",
            " de linea y una\tcomilla   doble\n"
          ]
        }
      ]
    },
    {
      "cell_type": "markdown",
      "metadata": {
        "id": "o7RU9B1lCOLC"
      },
      "source": [
        "**Formato de la vieja escuela:**\n",
        "\n",
        "Lo que está al lado izquierdo de la f será la cantidad de decimales a imprimir, una forma de recordarlo es saber como se escribe un número decimal, por ejemplo 0.372873823, el porcentaje representa la parte real, es decir 0 en este caso, el punto representa al punto y luego leerlo como \"2 flotantes\" que será la cantidad, entonces, para nuestro caso, %.2f será 0.37, considere el otro ejemplo con el número pi truncado."
      ]
    },
    {
      "cell_type": "code",
      "metadata": {
        "id": "DcFG46Os_U_H",
        "colab": {
          "base_uri": "https://localhost:8080/"
        },
        "outputId": "457e7e3e-0c34-4b51-e197-84e94d2a2e5b"
      },
      "source": [
        "print(\"Numero entero %d Numero flotante %.2f. Cadena1 %s. Cadena2 %s. \"%(12, 3.1415, \"Hola\", 'mundo'))"
      ],
      "execution_count": null,
      "outputs": [
        {
          "output_type": "stream",
          "name": "stdout",
          "text": [
            "Numero entero 12 Numero flotante 3.14. Cadena1 Hola. Cadena2 mundo. \n"
          ]
        }
      ]
    },
    {
      "cell_type": "markdown",
      "metadata": {
        "id": "RXz38gDdDYC6"
      },
      "source": [
        "**Función format: Un formato más reciente**\n",
        "\n",
        "Ahora veamos el siguiente ejemplo, tenemos tres nombres de distinta longitud y con distintas edades, nos gustaría imprimir en pantalla estos nombres de forma homogenea, para entender esto, declaremos los nombres y las edades primero:"
      ]
    },
    {
      "cell_type": "code",
      "metadata": {
        "id": "Vnywol0x9qiV"
      },
      "source": [
        "nombre = \"Pedro\"\n",
        "nombre2 = \"Pepito\"\n",
        "nombre_mucho_mas_largo = \"Pepito pepito pepito\"\n",
        "edad = 18\n",
        "edad2 = 103\n",
        "edad3 = 2050"
      ],
      "execution_count": null,
      "outputs": []
    },
    {
      "cell_type": "markdown",
      "metadata": {
        "id": "rAeNwGzfEJHS"
      },
      "source": [
        "Ahora imprimamos los nombres y las edades reemplazando con el operador \"{}\", el cuál realmente es útil en muchos casos, pero en este caso nos imprime lo siguiente:"
      ]
    },
    {
      "cell_type": "code",
      "metadata": {
        "id": "956i8QjDDpZm",
        "colab": {
          "base_uri": "https://localhost:8080/"
        },
        "outputId": "68fa4f77-442b-4d56-ae48-15802f6f1a51"
      },
      "source": [
        "print(\"Hola {}. Tienes {} años! {} {}\".format(nombre, edad, nombre, nombre))\n",
        "print(\"Hola {}. Tienes {} años!\".format(nombre2, edad2), end= ' \\n')\n",
        "print(\"Hola {}. Tienes {} años!\".format(nombre_mucho_mas_largo, edad3))"
      ],
      "execution_count": null,
      "outputs": [
        {
          "output_type": "stream",
          "name": "stdout",
          "text": [
            "Hola Pedro. Tienes 18 años! Pedro Pedro\n",
            "Hola Pepito. Tienes 103 años! \n",
            "Hola Pepito pepito pepito. Tienes 2050 años!\n"
          ]
        }
      ]
    },
    {
      "cell_type": "code",
      "metadata": {
        "id": "3WegySevZtN0",
        "colab": {
          "base_uri": "https://localhost:8080/"
        },
        "outputId": "0149c165-7cac-4fe2-cd39-db01ee907a0a"
      },
      "source": [
        "saludo = \"Hola {}. Tienes {} años!\"\n",
        "saludo_completo = saludo.format(nombre, edad) + saludo.format(nombre2, edad2) + saludo.format(nombre_mucho_mas_largo, edad3)\n",
        "print(saludo_completo)\n",
        "saludo2 = \"Hola{}. Tienes {} años!\".format(nombre, edad)\n",
        "print(saludo2)\n",
        "ndiego = \"Diego\"\n",
        "ediego = 19\n",
        "hallo = \"Hallo {}. Bist du {} Jahre alt!\"\n",
        "alle_hallo = hallo.format(ndiego, ediego)\n",
        "print(alle_hallo)"
      ],
      "execution_count": null,
      "outputs": [
        {
          "output_type": "stream",
          "name": "stdout",
          "text": [
            "Hola Pedro. Tienes 18 años!Hola Pepito. Tienes 103 años!Hola Pepito pepito pepito. Tienes 2050 años!\n",
            "HolaPedro. Tienes 18 años!\n",
            "Hallo Diego. Bist du 19 Jahre alt!\n"
          ]
        }
      ]
    },
    {
      "cell_type": "code",
      "metadata": {
        "id": "_IXCTMthXr9m",
        "colab": {
          "base_uri": "https://localhost:8080/"
        },
        "outputId": "a48724a9-09f3-419e-95fe-632b6b049c1b"
      },
      "source": [
        "print(\"Hola {}. Tienes {} años! edad2= {}\".format(nombre, edad, ediego))"
      ],
      "execution_count": null,
      "outputs": [
        {
          "output_type": "stream",
          "name": "stdout",
          "text": [
            "Hola Pedro. Tienes 18 años! edad2= 19\n"
          ]
        }
      ]
    },
    {
      "cell_type": "markdown",
      "metadata": {
        "id": "4df5bxGWEz2d"
      },
      "source": [
        "También se puede indicar el índice entre las llaves, para imprimir alguno de los otros parámetros, en este caso, nombre tiene un índice cero y edad uno."
      ]
    },
    {
      "cell_type": "code",
      "metadata": {
        "id": "-0dKSW_z013K"
      },
      "source": [
        "contador = 4"
      ],
      "execution_count": null,
      "outputs": []
    },
    {
      "cell_type": "code",
      "metadata": {
        "id": "u_n3d_IBEvOj",
        "colab": {
          "base_uri": "https://localhost:8080/"
        },
        "outputId": "ef6cd906-057d-47b9-8b93-e7fb6f503805"
      },
      "source": [
        "print(\"Hola {0}. Tienes {1} años {0}, nombre={0}!\".format(nombre, edad))"
      ],
      "execution_count": null,
      "outputs": [
        {
          "output_type": "stream",
          "name": "stdout",
          "text": [
            "Hola Pedro. Tienes 18 años Pedro, nombre=Pedro!\n"
          ]
        }
      ]
    },
    {
      "cell_type": "markdown",
      "metadata": {
        "id": "0z1iXIcKJcFG"
      },
      "source": [
        "O se puede dar un nombre temporal a cada variable para que pueda ser reconocido por la función **format** así:"
      ]
    },
    {
      "cell_type": "code",
      "metadata": {
        "id": "6u-EWSAxJzxX",
        "colab": {
          "base_uri": "https://localhost:8080/"
        },
        "outputId": "7dcc0827-809b-4aa6-86de-ef72ac3e5df4"
      },
      "source": [
        "print(\"Hola {nombre_persona}. Tienes {edad_persona} años! suma = {suma}\".format(nombre_persona = nombre, edad_persona = edad, suma = 3 + 6))\n",
        "print(\"Hallo {persone_name}. Bist du {alte} Jahre! exponente = {exp}\".format(persone_name = ndiego, alte = ediego, exp = 9**3))"
      ],
      "execution_count": null,
      "outputs": [
        {
          "output_type": "stream",
          "name": "stdout",
          "text": [
            "Hola Pedro. Tienes 18 años! suma = 9\n",
            "Hallo Diego. Bist du 19 Jahre! exponente = 729\n"
          ]
        }
      ]
    },
    {
      "cell_type": "markdown",
      "metadata": {
        "id": "csxPwqtgEiee"
      },
      "source": [
        "Ahora bien ¿Habrá alguna mejor forma de hacerlo? Sí la hay, con f-strings (que traduce cadenas-f), que se introdujeron desde **Python 3.6**. La sintaxis más basica es la siguiente (note como hay una f minúscula o mayúscula al inicio de la impresión de la cadena en el código. Aquí se pueden llamar a las variables declaradas en algún punto directamente, mucho mejor."
      ]
    },
    {
      "cell_type": "code",
      "metadata": {
        "id": "tKyMQ29wFprG",
        "colab": {
          "base_uri": "https://localhost:8080/"
        },
        "outputId": "08e0aa69-74ac-4872-97d8-9c0ceef092b9"
      },
      "source": [
        "nombreMuchoMasLargo= 'Diego'\n",
        "\n",
        "print(f\"Hola {nombre} tienes {edad} años!\")\n",
        "print(f\"Hola {nombre2} tienes {edad2} años!\")\n",
        "print(f\"Hola {nombreMuchoMasLargo} tienes {edad3} años!\")"
      ],
      "execution_count": null,
      "outputs": [
        {
          "output_type": "stream",
          "name": "stdout",
          "text": [
            "Hola Pedro tienes 18 años!\n",
            "Hola Pepito tienes 103 años!\n",
            "Hola Diego tienes 2050 años!\n"
          ]
        }
      ]
    },
    {
      "cell_type": "markdown",
      "metadata": {
        "id": "AQAJOjH_K6EM"
      },
      "source": [
        "También podrías imprimir el resultado de expresiones y funciones así:"
      ]
    },
    {
      "cell_type": "code",
      "metadata": {
        "id": "E2I4Ca5sK_SR",
        "colab": {
          "base_uri": "https://localhost:8080/",
          "height": 34
        },
        "outputId": "f0c020f3-7cc8-402e-b71d-91d5c023e596"
      },
      "source": [
        "print(f\"El resultado es: {2 + 37}\")"
      ],
      "execution_count": null,
      "outputs": [
        {
          "output_type": "stream",
          "text": [
            "El resultado es: 39\n"
          ],
          "name": "stdout"
        }
      ]
    },
    {
      "cell_type": "markdown",
      "metadata": {
        "id": "gyR45xxBHTb7"
      },
      "source": [
        "Justifiquemos todos los nombres a la izquierda y las edades a la derecha con la siguiente sintaxis, el número que estará a la derecha de los ':' será el número esperado del largo del nombre, sabemos que el nombre más largo será de 25 caracteres máximo y que la edad será de 4 digitos (en los casos reales este número sería 3, nadie vive más de 999 años) y tenemos lo siguiente."
      ]
    },
    {
      "cell_type": "code",
      "metadata": {
        "id": "RAKZRpqPEXWH",
        "colab": {
          "base_uri": "https://localhost:8080/"
        },
        "outputId": "9a9f0281-4b70-4d01-f2f6-088939a478f2"
      },
      "source": [
        "print(f\"Hola {nombre:>23} - tienes {edad:<4} años!\")\n",
        "print(f\"Hola {nombre2:>23} - tienes {edad2:<4} años!\")\n",
        "print(f\"Hola {nombreMuchoMasLargo:>23} - tienes {edad3:<4} años!\")"
      ],
      "execution_count": null,
      "outputs": [
        {
          "output_type": "stream",
          "name": "stdout",
          "text": [
            "Hola                   Pedro - tienes 18   años!\n",
            "Hola                  Pepito - tienes 103  años!\n",
            "Hola                   Diego - tienes 2050 años!\n"
          ]
        }
      ]
    },
    {
      "cell_type": "code",
      "metadata": {
        "id": "0UwHECvy3bSy",
        "colab": {
          "base_uri": "https://localhost:8080/"
        },
        "outputId": "0b001f14-e226-4e11-8cf3-903bd4ab762b"
      },
      "source": [
        "longitud = len('                  Pedro')\n",
        "print(longitud)"
      ],
      "execution_count": null,
      "outputs": [
        {
          "output_type": "stream",
          "name": "stdout",
          "text": [
            "23\n"
          ]
        }
      ]
    },
    {
      "cell_type": "markdown",
      "metadata": {
        "id": "GoMfCSRVH4Al"
      },
      "source": [
        "Ahora, si no indicamos hacia que lado se quere justificar con '<' ó '>' entonces será por defecto como sea una mejor justificación para el lenguaje, veamos como queda de organizado así."
      ]
    },
    {
      "cell_type": "code",
      "metadata": {
        "id": "fDG1gdhzHzNX",
        "colab": {
          "base_uri": "https://localhost:8080/"
        },
        "outputId": "307150e6-a11e-48aa-ac7c-c59da9f2bb5f"
      },
      "source": [
        "print(f\"Hola {nombre:25} tienes {edad:4} anos!\")\n",
        "print(f\"Hola {nombre2:25} tienes {edad2:4} anos!\")\n",
        "print(f\"Hola {nombreMuchoMasLargo:25} tienes {edad3:4} anos!\")"
      ],
      "execution_count": null,
      "outputs": [
        {
          "output_type": "stream",
          "name": "stdout",
          "text": [
            "Hola Pedro                     tienes   18 anos!\n",
            "Hola Pepito                    tienes  103 anos!\n",
            "Hola Diego                     tienes 2050 anos!\n"
          ]
        }
      ]
    },
    {
      "cell_type": "markdown",
      "metadata": {
        "id": "q10G0x6sXsqg"
      },
      "source": [
        "**Nota:** Un mensaje se puede ser formateado con los cadenas-f (f-strings) o con la función format, sin embargo, muchas veces es posible lograr el mismo resultado concatenando diferentes cadenas, sin embargo, debe tener en cuenta que si necesita colocar un valor diferente a una cadena en el mensaje, debe convertirla a cadena para que puede ser concatenado, como lo muestra el siguiente ejemplo:"
      ]
    },
    {
      "cell_type": "code",
      "metadata": {
        "id": "S1XnMMBaXsMb",
        "colab": {
          "base_uri": "https://localhost:8080/"
        },
        "outputId": "e3569c97-46bb-4ab8-eef2-f762e905d329"
      },
      "source": [
        "nombre_mucho_mas_largo = 'Pepito Pepito Pepito'\n",
        "edad3 = 500\n",
        "\n",
        "print(f\"Hola {nombre_mucho_mas_largo}. Tienes {edad3} anos!\")\n",
        "print(\"Hola {}. Tienes {} años! \".format(nombre_mucho_mas_largo, edad3))\n",
        "print('Hola ' + nombre_mucho_mas_largo + '. Tienes ' + str(edad3) + ' anos!')\n",
        "print('Hola ', nombre_mucho_mas_largo, '. Tienes ', edad3, ' anos! ', sep='')"
      ],
      "execution_count": null,
      "outputs": [
        {
          "output_type": "stream",
          "name": "stdout",
          "text": [
            "Hola Pepito Pepito Pepito. Tienes 500 anos!\n",
            "Hola Pepito Pepito Pepito. Tienes 500 años! \n",
            "Hola Pepito Pepito Pepito. Tienes 500 anos!\n",
            "Hola Pepito Pepito Pepito. Tienes 500 anos! \n"
          ]
        }
      ]
    },
    {
      "cell_type": "code",
      "metadata": {
        "id": "8Nc7rO7bXfRL",
        "colab": {
          "base_uri": "https://localhost:8080/"
        },
        "outputId": "248e0def-14c9-4306-f9c3-5f5070f559d6"
      },
      "source": [
        "titulo = 'Programacion'\n",
        "print('{:>30}{:>30}'.format(titulo, titulo))\n",
        "print('{:<30}'.format(titulo))\n",
        "print('{:^30}'.format(titulo))\n",
        "\n"
      ],
      "execution_count": null,
      "outputs": [
        {
          "output_type": "stream",
          "name": "stdout",
          "text": [
            "                  Programacion                  Programacion\n",
            "Programacion                  \n",
            "         Programacion         \n"
          ]
        }
      ]
    },
    {
      "cell_type": "code",
      "metadata": {
        "id": "JerDdDemfcdX",
        "colab": {
          "base_uri": "https://localhost:8080/",
          "height": 34
        },
        "outputId": "19a54de5-8a70-4955-a7c2-1c3494040ff5"
      },
      "source": [
        "print(len('         Programacion         '))"
      ],
      "execution_count": null,
      "outputs": [
        {
          "output_type": "stream",
          "text": [
            "30\n"
          ],
          "name": "stdout"
        }
      ]
    },
    {
      "cell_type": "markdown",
      "metadata": {
        "id": "p0WcZXwrM4wI"
      },
      "source": [
        "**Nota:**\n",
        "\n",
        "El tiempo de ejecución de los f-strings es mucho menor que otros métodos de formateo, ya que evalúa la expresión que está dentro de los paréntesis y luego une este resultado con las cadenas de caracteres que lo acompañan. Más información sobre f-strings: https://www.python.org/dev/peps/pep-0498/#how-to-denote-f-strings"
      ]
    },
    {
      "cell_type": "markdown",
      "metadata": {
        "id": "BEzYc9oRUXwr"
      },
      "source": [
        "### 9.1 Formato de números\n",
        "\n",
        "Se debe tener en cuenta que la función **round** retorna un número decimal, mientras que la función **format** retorna una cadena de caracteres."
      ]
    },
    {
      "cell_type": "code",
      "metadata": {
        "id": "ZuCDKApfUqUX",
        "colab": {
          "base_uri": "https://localhost:8080/"
        },
        "outputId": "9d5304b2-f92d-498c-efcf-0825bf92d7f1"
      },
      "source": [
        "x = 23.6786\n",
        "b = 3.912\n",
        "x_red = round(x,2)\n",
        "print(x_red, type(x_red))\n",
        "\n",
        "x_red_string = \"%.2f\"%(b)\n",
        "print(x_red_string, type(x_red_string))\n",
        "\n",
        "x_red_string2 = format(x, '.3f')\n",
        "print(x_red_string2, type(x_red_string2))\n",
        "\n",
        "print(format(x, \".6f\"))\n",
        "print(\"%.10f\"%(x))"
      ],
      "execution_count": null,
      "outputs": [
        {
          "output_type": "stream",
          "name": "stdout",
          "text": [
            "23.68 <class 'float'>\n",
            "3.91 <class 'str'>\n",
            "23.679 <class 'str'>\n",
            "23.678600\n",
            "23.6786000000\n"
          ]
        }
      ]
    },
    {
      "cell_type": "markdown",
      "metadata": {
        "id": "5Zy1c8boDAQu"
      },
      "source": [
        "## 10 Entrada"
      ]
    },
    {
      "cell_type": "markdown",
      "metadata": {
        "id": "EkHUq2OlD8o1"
      },
      "source": [
        "*La* función input permite al usuario imprimir un mensaje (opcional) y leer un dato por teclado. Cuando llamamos a esta función, el programa se detiene y espera a que el usuario escriba algo. Cuando el usuario pulsa la tecla Return o Enter, el programa se reanuda, mientras que input devuelve lo que el usuario escribió como tipo cadena:"
      ]
    },
    {
      "cell_type": "code",
      "metadata": {
        "id": "nFll8V5EDF51",
        "colab": {
          "base_uri": "https://localhost:8080/"
        },
        "outputId": "b39b4f87-3a59-466f-b2d3-ae4d10754864"
      },
      "source": [
        "nombre = input(\"nombre:\")\n",
        "print(\"Hola\", nombre)\n",
        "print(type(nombre))"
      ],
      "execution_count": null,
      "outputs": [
        {
          "output_type": "stream",
          "name": "stdout",
          "text": [
            "nombre:Diegosss\n",
            "Hola Diegosss\n",
            "<class 'str'>\n"
          ]
        }
      ]
    },
    {
      "cell_type": "code",
      "metadata": {
        "id": "wk-vbQ_PQAWv",
        "colab": {
          "base_uri": "https://localhost:8080/"
        },
        "outputId": "1533d6bf-eab5-49fb-c345-8018fd0790dd"
      },
      "source": [
        "nombre1 = input(\"Primer nombre: \")\n",
        "nombre2 = input(\"Segundo nombre: \")\n",
        "edad = int(input(\"Edad: \"))\n",
        "estatura = float(input('Estatura: '))\n",
        "print(f\"El nombre completo del estudiante es {nombre1:10} {nombre2:6} y tiene {edad:2} años. Su estatura es {estatura:3}\")"
      ],
      "execution_count": null,
      "outputs": [
        {
          "output_type": "stream",
          "name": "stdout",
          "text": [
            "Primer nombre: Felipe\n",
            "Segundo nombre: Diego\n",
            "Edad: 19\n",
            "Estatura: 1.76\n",
            "El nombre completo del estudiante es Felipe     Diego  y tiene 19 años. Su estatura es 1.76\n"
          ]
        }
      ]
    },
    {
      "cell_type": "markdown",
      "metadata": {
        "id": "sMBp3iTOEnwz"
      },
      "source": [
        "Es muy importante tener en cuenta que la función input devuelve un valor de tipo cadena. Se pueden hacer conversiones para trabajar con los tipos de datos deseados."
      ]
    },
    {
      "cell_type": "code",
      "metadata": {
        "id": "HShzYbbVEoPD",
        "colab": {
          "base_uri": "https://localhost:8080/"
        },
        "outputId": "94e51e53-f0b3-44de-dca6-6fe33d4ccc08"
      },
      "source": [
        "cadena_edad = input(\"Ingrese su edad:\")\n",
        "entero_edad = int(cadena_edad)\n",
        "#La funcion type retorna el tipo de datos de la variable cadena_edad\n",
        "print( type(cadena_edad) )\n",
        "print( type(entero_edad) )\n"
      ],
      "execution_count": null,
      "outputs": [
        {
          "output_type": "stream",
          "name": "stdout",
          "text": [
            "Ingrese su edad:12\n",
            "<class 'str'>\n",
            "<class 'int'>\n"
          ]
        }
      ]
    },
    {
      "cell_type": "markdown",
      "metadata": {
        "id": "Zv6zw-9USSGz"
      },
      "source": [
        "## Algunas funciones útiles\n",
        "\n",
        "Python tiene una gran cantidad de funciones predefinidas que podemos utilizarlas en nuestros programas, algunas de ellas son:\n",
        "\n",
        "* **ord:** Retorna el valor ascii de un caracter\n",
        "* **chr:** Retorna el caracter que representa un número ascii"
      ]
    },
    {
      "cell_type": "code",
      "metadata": {
        "id": "ThlEdCBKSvDM",
        "colab": {
          "base_uri": "https://localhost:8080/"
        },
        "outputId": "e63d1557-a9b9-4500-f2b5-740f3aedc0e3"
      },
      "source": [
        "#print(ord('A'))\n",
        "#print(ord('a'))\n",
        "#print(chr(65))\n",
        "print(ord('a'))\n",
        "print(ord('e'))\n",
        "print(ord('i'))\n",
        "print(ord('o'))\n",
        "print(ord('u'))\n",
        "print(ord('A'))\n",
        "print(ord('E'))\n",
        "print(ord('I'))\n",
        "print(ord('O'))\n",
        "print(ord('U'))\n",
        "#print(ord(\"r\"))\n",
        "\n",
        "#print(R*0)"
      ],
      "execution_count": null,
      "outputs": [
        {
          "output_type": "stream",
          "name": "stdout",
          "text": [
            "97\n",
            "101\n",
            "105\n",
            "111\n",
            "117\n",
            "65\n",
            "69\n",
            "73\n",
            "79\n",
            "85\n"
          ]
        }
      ]
    },
    {
      "cell_type": "code",
      "metadata": {
        "id": "qcYYlVd-S2Uj",
        "colab": {
          "base_uri": "https://localhost:8080/"
        },
        "outputId": "0940ad30-c40b-43a1-877b-e994eede0d90"
      },
      "source": [
        "print(chr(65))\n",
        "print(chr(97))"
      ],
      "execution_count": null,
      "outputs": [
        {
          "output_type": "stream",
          "name": "stdout",
          "text": [
            "A\n",
            "a\n"
          ]
        }
      ]
    },
    {
      "cell_type": "markdown",
      "metadata": {
        "id": "uyX4pRAwFg9H"
      },
      "source": [
        "## Comentarios"
      ]
    },
    {
      "cell_type": "markdown",
      "metadata": {
        "id": "j5aGXmGaFlY-"
      },
      "source": [
        "Es una buena idea añadir notas al programa que expliquen en un lenguaje natural qué hace el programa. Estas notas se llaman comentarios y se marcan con el símbolo (#)\n"
      ]
    },
    {
      "cell_type": "code",
      "metadata": {
        "id": "A3_JdhlTFi-F",
        "colab": {
          "base_uri": "https://localhost:8080/",
          "height": 34
        },
        "outputId": "2b7a862c-f84b-4a04-c76d-c32b2542046e"
      },
      "source": [
        "#imprime el resultado de evaluar sumar 2 y 5\n",
        "print(2 + 5)"
      ],
      "execution_count": null,
      "outputs": [
        {
          "output_type": "stream",
          "text": [
            "7\n"
          ],
          "name": "stdout"
        }
      ]
    },
    {
      "cell_type": "code",
      "metadata": {
        "id": "jo_4rB77GFzz",
        "colab": {
          "base_uri": "https://localhost:8080/",
          "height": 34
        },
        "outputId": "8655702f-2d1d-4935-e8af-a45ae1527727"
      },
      "source": [
        "print(2+5) #los comentarios también pueden ir al final de la línea"
      ],
      "execution_count": null,
      "outputs": [
        {
          "output_type": "stream",
          "text": [
            "7\n"
          ],
          "name": "stdout"
        }
      ]
    },
    {
      "cell_type": "code",
      "metadata": {
        "id": "yK-_bRTq-a0Q",
        "colab": {
          "base_uri": "https://localhost:8080/",
          "height": 34
        },
        "outputId": "aa612de1-cb2c-4bc1-cdbe-f9dfc6ff5061"
      },
      "source": [
        "\"\"\"\n",
        "Este es un comentario de\n",
        "varias lineas\n",
        "\"\"\"\n",
        "print(\"Hola\")"
      ],
      "execution_count": null,
      "outputs": [
        {
          "output_type": "stream",
          "text": [
            "Hola\n"
          ],
          "name": "stdout"
        }
      ]
    },
    {
      "cell_type": "code",
      "metadata": {
        "id": "cqIcb9GBjKsH",
        "colab": {
          "base_uri": "https://localhost:8080/",
          "height": 131
        },
        "outputId": "bd027061-daf9-48a1-c64c-ee1a36353dd1"
      },
      "source": [
        "// Comentarios para Java, C++\n",
        "\n",
        "/*\n",
        "Comentarios\n",
        "\n",
        "de varias\n",
        "\n",
        "lineas\n",
        "*/"
      ],
      "execution_count": null,
      "outputs": [
        {
          "output_type": "error",
          "ename": "SyntaxError",
          "evalue": "ignored",
          "traceback": [
            "\u001b[0;36m  File \u001b[0;32m\"<ipython-input-141-59016d0095ca>\"\u001b[0;36m, line \u001b[0;32m1\u001b[0m\n\u001b[0;31m    (/, Comentarios, para, Java,, C++)\u001b[0m\n\u001b[0m     ^\u001b[0m\n\u001b[0;31mSyntaxError\u001b[0m\u001b[0;31m:\u001b[0m invalid syntax\n"
          ]
        }
      ]
    },
    {
      "cell_type": "markdown",
      "metadata": {
        "id": "hygZbE6AH65N"
      },
      "source": [
        "## Ejercicios"
      ]
    },
    {
      "cell_type": "markdown",
      "metadata": {
        "id": "oRrtVHENH-tl"
      },
      "source": [
        "1. Evaluar las siguientes expresiones mentalmente, luego verificar el resultado en Python:\n",
        "\n",
        "*   5 ** 2\n",
        "*   9 * 5\n",
        "*   15 / 12\n",
        "*   12 / 15\n",
        "*   15 // 12\n",
        "*   12 // 15\n",
        "*   5 % 2\n",
        "*   9 % 5\n",
        "*   15 % 12\n",
        "*   12 % 15\n",
        "*   6 % 6\n",
        "*   0 % 7"
      ]
    },
    {
      "cell_type": "markdown",
      "metadata": {
        "id": "p8D4Uj7rI8q2"
      },
      "source": [
        "2. ¿Cuál es el orden de las operaciones aritméticas de la siguiente expresión? Evaluar la expresión a mano y luego comprobar el resultado.\n",
        "\n",
        "*   2 + (3 - 1) \\* 10 / 5 \\* (2 + 3)\n",
        "* ((4 + 6) \\* 2 ) / 205 - 23 * 3\n",
        "* 29 - 45 * 7 / 2 - 6 ** 4 / 9\n",
        "* 34 * (4 + 7 - 3 * 6 - 2) / 12 * 6 - 3\n",
        "* 42 - 7 ** 2 - 5 - 1 + 5 * 34\n",
        "* ord('F') ** 2 + ord('A') - ord('b') / ord('x') + 56 - 23 * ord('B')"
      ]
    },
    {
      "cell_type": "markdown",
      "metadata": {
        "id": "5G4dspIFKF4W"
      },
      "source": [
        "3. Escribir un programa que reciba como entrada tres calificaciones (0.0 - 5.0) e imprima el promedio redondeado a máximo 3 cifras decimales después del punto."
      ]
    },
    {
      "cell_type": "code",
      "metadata": {
        "colab": {
          "base_uri": "https://localhost:8080/"
        },
        "id": "qJFHrwq3hsYP",
        "outputId": "f285036e-786e-4b36-e6cf-5cc2be22a1c7"
      },
      "source": [
        "nota1= float(input())\n",
        "nota2= float(input())\n",
        "nota3= float(input())\n",
        "\n",
        "if nota1 <= 5:\n",
        "  durchnit= (nota1+nota2+nota3)/3\n",
        "else:\n",
        "  nota1= float(input())\n",
        "\n",
        "print(round(durchnit,))"
      ],
      "execution_count": null,
      "outputs": [
        {
          "output_type": "stream",
          "name": "stdout",
          "text": [
            "6\n",
            "7\n",
            "8\n",
            "19\n",
            "3\n"
          ]
        }
      ]
    },
    {
      "cell_type": "markdown",
      "metadata": {
        "id": "Bu2IzOcmLUiD"
      },
      "source": [
        "4. Escribir un programa que reciba como entrada el valor de una compra y el valor de descuento para ser aplicado e imprima por pantalla el valor total a pagar después de aplicar el descuento."
      ]
    },
    {
      "cell_type": "markdown",
      "metadata": {
        "id": "R-XKk6CXEfFL"
      },
      "source": [
        "5. Escriba un programa que reciba con entrada cinco letras e imprima la suma de sus valores ascii, por ejemplo:\n",
        "\n",
        "* letra 1 : P\n",
        "* letra 2 : r\n",
        "* letra 3 : o\n",
        "* letra 4 : g\n",
        "* letra 5 : a\n",
        "\n",
        "* **Resultado**: 505"
      ]
    }
  ]
}